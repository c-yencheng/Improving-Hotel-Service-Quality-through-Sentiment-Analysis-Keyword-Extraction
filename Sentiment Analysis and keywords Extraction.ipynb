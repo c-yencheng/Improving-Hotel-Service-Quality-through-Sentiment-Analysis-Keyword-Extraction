{
 "cells": [
  {
   "cell_type": "code",
   "execution_count": 1,
   "id": "a23561eb",
   "metadata": {},
   "outputs": [],
   "source": [
    "import pandas as pd\n",
    "import pickle\n",
    "\n",
    "#  read csv\n",
    "df = pd.read_csv(\"C:/Users/drrr8/OneDrive - Washington University in St. Louis/Desktop/tripadvisor_hotel_reviews.csv\")\n",
    "df['p1']=df['Rating'].apply(lambda x: 'positive' if x>2 else 'negative')\n",
    "# convert csv to pkl\n",
    "df.to_pickle('trip.pkl')\n",
    "df = pd.read_pickle('trip.pkl')"
   ]
  },
  {
   "cell_type": "code",
   "execution_count": 2,
   "id": "bc0acbe4",
   "metadata": {},
   "outputs": [],
   "source": [
    "from sklearn.model_selection import train_test_split\n",
    "\n",
    "# split the dataset into two\n",
    "\n",
    "# training and test dataset\n",
    "train_data, test_data = train_test_split(df, test_size=0.3, random_state=2)\n",
    "\n",
    "with open('train.pkl', 'wb') as f:\n",
    "    pickle.dump(train_data, f)\n",
    "    \n",
    "with open('test.pkl', 'wb') as f:\n",
    "    pickle.dump(test_data, f)"
   ]
  },
  {
   "cell_type": "code",
   "execution_count": 3,
   "id": "e03c9e5d",
   "metadata": {
    "scrolled": true
   },
   "outputs": [
    {
     "name": "stdout",
     "output_type": "stream",
     "text": [
      "Dimensions for test data: (6148, 3)\n",
      "Dimensions for training data: (14343, 3) \n",
      "\n",
      "First 5 rows in test dataset: \n",
      "                                                   Review  Rating        p1\n",
      "10271  not family friendly hotel, travelled wife 2 yr...       1  negative\n",
      "7142   did n't know expect honemoon surprise loved, r...       4  positive\n",
      "18500  enthusiastically reccomend majestic colonial, ...       5  positive\n",
      "17145  problems start beware hotel, choices resort pu...       1  negative\n",
      "2704   enjoyed second stay husband just returned seco...       5  positive \n",
      "\n",
      "First 5 rows in  training dataset: \n",
      "                                                   Review  Rating        p1\n",
      "5098   nice hotel good service stayed quite hotel par...       4  positive\n",
      "7162   notch resort wife honeymoon secrets 10/6-10/14...       4  positive\n",
      "17228  baihia principe resort friend just returned pu...       4  positive\n",
      "1691   good not good stayed university tower hotel 3 ...       3  positive\n",
      "6805   excellent husband stayed resort october 2003 b...       5  positive\n"
     ]
    }
   ],
   "source": [
    "print(\"Dimensions for test data:\", test_data.shape)\n",
    "print(\"Dimensions for training data:\", train_data.shape,\"\\n\")\n",
    "print(\"First 5 rows in test dataset: \\n\", test_data.head(),\"\\n\")\n",
    "print(\"First 5 rows in  training dataset: \\n\", train_data.head())"
   ]
  },
  {
   "cell_type": "code",
   "execution_count": 4,
   "id": "a775aa59",
   "metadata": {
    "scrolled": true
   },
   "outputs": [
    {
     "name": "stdout",
     "output_type": "stream",
     "text": [
      "Requirement already satisfied: pyLDAvis in d:\\anaconda\\setup\\lib\\site-packages (3.4.1)\n",
      "Requirement already satisfied: sklearn in d:\\anaconda\\setup\\lib\\site-packages (0.0.post4)\n",
      "Requirement already satisfied: gensim in d:\\anaconda\\setup\\lib\\site-packages (from pyLDAvis) (4.1.2)\n",
      "Requirement already satisfied: scikit-learn>=1.0.0 in d:\\anaconda\\setup\\lib\\site-packages (from pyLDAvis) (1.0.2)\n",
      "Requirement already satisfied: jinja2 in d:\\anaconda\\setup\\lib\\site-packages (from pyLDAvis) (2.11.3)\n",
      "Requirement already satisfied: scipy in d:\\anaconda\\setup\\lib\\site-packages (from pyLDAvis) (1.10.1)\n",
      "Requirement already satisfied: pandas>=2.0.0 in d:\\anaconda\\setup\\lib\\site-packages (from pyLDAvis) (2.0.1)\n",
      "Requirement already satisfied: numexpr in d:\\anaconda\\setup\\lib\\site-packages (from pyLDAvis) (2.8.3)\n",
      "Requirement already satisfied: funcy in d:\\anaconda\\setup\\lib\\site-packages (from pyLDAvis) (2.0)\n",
      "Requirement already satisfied: setuptools in d:\\anaconda\\setup\\lib\\site-packages (from pyLDAvis) (65.5.0)\n",
      "Requirement already satisfied: numpy>=1.24.2 in d:\\anaconda\\setup\\lib\\site-packages (from pyLDAvis) (1.24.3)\n",
      "Requirement already satisfied: joblib>=1.2.0 in d:\\anaconda\\setup\\lib\\site-packages (from pyLDAvis) (1.2.0)\n",
      "Requirement already satisfied: tzdata>=2022.1 in d:\\anaconda\\setup\\lib\\site-packages (from pandas>=2.0.0->pyLDAvis) (2023.3)\n",
      "Requirement already satisfied: python-dateutil>=2.8.2 in d:\\anaconda\\setup\\lib\\site-packages (from pandas>=2.0.0->pyLDAvis) (2.8.2)\n",
      "Requirement already satisfied: pytz>=2020.1 in d:\\anaconda\\setup\\lib\\site-packages (from pandas>=2.0.0->pyLDAvis) (2022.1)\n",
      "Requirement already satisfied: threadpoolctl>=2.0.0 in d:\\anaconda\\setup\\lib\\site-packages (from scikit-learn>=1.0.0->pyLDAvis) (2.2.0)\n",
      "Requirement already satisfied: smart-open>=1.8.1 in d:\\anaconda\\setup\\lib\\site-packages (from gensim->pyLDAvis) (5.2.1)\n",
      "Requirement already satisfied: MarkupSafe>=0.23 in d:\\anaconda\\setup\\lib\\site-packages (from jinja2->pyLDAvis) (2.0.1)\n",
      "Requirement already satisfied: packaging in d:\\anaconda\\setup\\lib\\site-packages (from numexpr->pyLDAvis) (21.3)\n",
      "Requirement already satisfied: six>=1.5 in d:\\anaconda\\setup\\lib\\site-packages (from python-dateutil>=2.8.2->pandas>=2.0.0->pyLDAvis) (1.16.0)\n",
      "Requirement already satisfied: pyparsing!=3.0.5,>=2.0.2 in d:\\anaconda\\setup\\lib\\site-packages (from packaging->numexpr->pyLDAvis) (3.0.9)\n",
      "Note: you may need to restart the kernel to use updated packages.\n"
     ]
    }
   ],
   "source": [
    "pip install pyLDAvis sklearn"
   ]
  },
  {
   "cell_type": "code",
   "execution_count": 5,
   "id": "324a9cc7",
   "metadata": {},
   "outputs": [
    {
     "name": "stdout",
     "output_type": "stream",
     "text": [
      "Requirement already satisfied: numpy in d:\\anaconda\\setup\\lib\\site-packages (1.24.3)\n",
      "Requirement already satisfied: pandas in d:\\anaconda\\setup\\lib\\site-packages (2.0.1)\n",
      "Requirement already satisfied: tzdata>=2022.1 in d:\\anaconda\\setup\\lib\\site-packages (from pandas) (2023.3)\n",
      "Requirement already satisfied: pytz>=2020.1 in d:\\anaconda\\setup\\lib\\site-packages (from pandas) (2022.1)\n",
      "Requirement already satisfied: numpy>=1.20.3 in d:\\anaconda\\setup\\lib\\site-packages (from pandas) (1.24.3)\n",
      "Requirement already satisfied: python-dateutil>=2.8.2 in d:\\anaconda\\setup\\lib\\site-packages (from pandas) (2.8.2)\n",
      "Requirement already satisfied: six>=1.5 in d:\\anaconda\\setup\\lib\\site-packages (from python-dateutil>=2.8.2->pandas) (1.16.0)\n",
      "Requirement already satisfied: nltk in d:\\anaconda\\setup\\lib\\site-packages (3.7)\n",
      "Requirement already satisfied: regex>=2021.8.3 in d:\\anaconda\\setup\\lib\\site-packages (from nltk) (2022.7.9)\n",
      "Requirement already satisfied: click in d:\\anaconda\\setup\\lib\\site-packages (from nltk) (8.0.4)\n",
      "Requirement already satisfied: joblib in d:\\anaconda\\setup\\lib\\site-packages (from nltk) (1.2.0)\n",
      "Requirement already satisfied: tqdm in d:\\anaconda\\setup\\lib\\site-packages (from nltk) (4.64.1)\n",
      "Requirement already satisfied: colorama in d:\\anaconda\\setup\\lib\\site-packages (from click->nltk) (0.4.5)\n",
      "Requirement already satisfied: html.parser in d:\\anaconda\\setup\\lib\\site-packages (0.2)\n",
      "Requirement already satisfied: ply in d:\\anaconda\\setup\\lib\\site-packages (from html.parser) (3.11)\n"
     ]
    },
    {
     "name": "stderr",
     "output_type": "stream",
     "text": [
      "[nltk_data] Downloading package omw-1.4 to\n",
      "[nltk_data]     C:\\Users\\drrr8\\AppData\\Roaming\\nltk_data...\n",
      "[nltk_data]   Package omw-1.4 is already up-to-date!\n"
     ]
    },
    {
     "name": "stdout",
     "output_type": "stream",
     "text": [
      "Requirement already satisfied: pattern3 in d:\\anaconda\\setup\\lib\\site-packages (3.0.0)\n",
      "Requirement already satisfied: simplejson in d:\\anaconda\\setup\\lib\\site-packages (from pattern3) (3.19.1)\n",
      "Requirement already satisfied: pdfminer3k in d:\\anaconda\\setup\\lib\\site-packages (from pattern3) (1.3.4)\n",
      "Requirement already satisfied: pdfminer.six in d:\\anaconda\\setup\\lib\\site-packages (from pattern3) (20221105)\n",
      "Requirement already satisfied: docx in d:\\anaconda\\setup\\lib\\site-packages (from pattern3) (0.2.4)\n",
      "Requirement already satisfied: feedparser in d:\\anaconda\\setup\\lib\\site-packages (from pattern3) (6.0.10)\n",
      "Requirement already satisfied: cherrypy in d:\\anaconda\\setup\\lib\\site-packages (from pattern3) (18.8.0)\n",
      "Requirement already satisfied: beautifulsoup4 in d:\\anaconda\\setup\\lib\\site-packages (from pattern3) (4.11.1)\n",
      "Requirement already satisfied: soupsieve>1.2 in d:\\anaconda\\setup\\lib\\site-packages (from beautifulsoup4->pattern3) (2.3.2.post1)\n",
      "Requirement already satisfied: cheroot>=8.2.1 in d:\\anaconda\\setup\\lib\\site-packages (from cherrypy->pattern3) (9.0.0)\n",
      "Requirement already satisfied: pywin32>=227 in d:\\anaconda\\setup\\lib\\site-packages (from cherrypy->pattern3) (302)\n",
      "Requirement already satisfied: more-itertools in d:\\anaconda\\setup\\lib\\site-packages (from cherrypy->pattern3) (9.1.0)\n",
      "Requirement already satisfied: portend>=2.1.1 in d:\\anaconda\\setup\\lib\\site-packages (from cherrypy->pattern3) (3.1.0)\n",
      "Requirement already satisfied: zc.lockfile in d:\\anaconda\\setup\\lib\\site-packages (from cherrypy->pattern3) (3.0.post1)\n",
      "Requirement already satisfied: jaraco.collections in d:\\anaconda\\setup\\lib\\site-packages (from cherrypy->pattern3) (4.1.0)\n",
      "Requirement already satisfied: Pillow>=2.0 in d:\\anaconda\\setup\\lib\\site-packages (from docx->pattern3) (9.2.0)\n",
      "Requirement already satisfied: lxml in d:\\anaconda\\setup\\lib\\site-packages (from docx->pattern3) (4.9.1)\n",
      "Requirement already satisfied: sgmllib3k in d:\\anaconda\\setup\\lib\\site-packages (from feedparser->pattern3) (1.0.0)\n",
      "Requirement already satisfied: cryptography>=36.0.0 in d:\\anaconda\\setup\\lib\\site-packages (from pdfminer.six->pattern3) (38.0.1)\n",
      "Requirement already satisfied: charset-normalizer>=2.0.0 in d:\\anaconda\\setup\\lib\\site-packages (from pdfminer.six->pattern3) (2.0.4)\n",
      "Requirement already satisfied: ply in d:\\anaconda\\setup\\lib\\site-packages (from pdfminer3k->pattern3) (3.11)\n",
      "Requirement already satisfied: jaraco.functools in d:\\anaconda\\setup\\lib\\site-packages (from cheroot>=8.2.1->cherrypy->pattern3) (3.6.0)\n",
      "Requirement already satisfied: six>=1.11.0 in d:\\anaconda\\setup\\lib\\site-packages (from cheroot>=8.2.1->cherrypy->pattern3) (1.16.0)\n",
      "Requirement already satisfied: cffi>=1.12 in d:\\anaconda\\setup\\lib\\site-packages (from cryptography>=36.0.0->pdfminer.six->pattern3) (1.15.1)\n",
      "Requirement already satisfied: tempora>=1.8 in d:\\anaconda\\setup\\lib\\site-packages (from portend>=2.1.1->cherrypy->pattern3) (5.2.2)\n",
      "Requirement already satisfied: jaraco.text in d:\\anaconda\\setup\\lib\\site-packages (from jaraco.collections->cherrypy->pattern3) (3.11.1)\n",
      "Requirement already satisfied: setuptools in d:\\anaconda\\setup\\lib\\site-packages (from zc.lockfile->cherrypy->pattern3) (65.5.0)\n",
      "Requirement already satisfied: pycparser in d:\\anaconda\\setup\\lib\\site-packages (from cffi>=1.12->cryptography>=36.0.0->pdfminer.six->pattern3) (2.21)\n",
      "Requirement already satisfied: pytz in d:\\anaconda\\setup\\lib\\site-packages (from tempora>=1.8->portend>=2.1.1->cherrypy->pattern3) (2022.1)\n",
      "Requirement already satisfied: jaraco.context>=4.1 in d:\\anaconda\\setup\\lib\\site-packages (from jaraco.text->jaraco.collections->cherrypy->pattern3) (4.3.0)\n",
      "Requirement already satisfied: autocommand in d:\\anaconda\\setup\\lib\\site-packages (from jaraco.text->jaraco.collections->cherrypy->pattern3) (2.2.2)\n",
      "Requirement already satisfied: inflect in d:\\anaconda\\setup\\lib\\site-packages (from jaraco.text->jaraco.collections->cherrypy->pattern3) (6.0.4)\n",
      "Requirement already satisfied: pydantic>=1.9.1 in d:\\anaconda\\setup\\lib\\site-packages (from inflect->jaraco.text->jaraco.collections->cherrypy->pattern3) (1.10.7)\n",
      "Requirement already satisfied: typing-extensions>=4.2.0 in d:\\anaconda\\setup\\lib\\site-packages (from pydantic>=1.9.1->inflect->jaraco.text->jaraco.collections->cherrypy->pattern3) (4.3.0)\n",
      "Requirement already satisfied: pyLDAvis in d:\\anaconda\\setup\\lib\\site-packages (3.4.1)\n",
      "Requirement already satisfied: numexpr in d:\\anaconda\\setup\\lib\\site-packages (from pyLDAvis) (2.8.3)\n",
      "Requirement already satisfied: jinja2 in d:\\anaconda\\setup\\lib\\site-packages (from pyLDAvis) (2.11.3)\n",
      "Requirement already satisfied: joblib>=1.2.0 in d:\\anaconda\\setup\\lib\\site-packages (from pyLDAvis) (1.2.0)\n",
      "Requirement already satisfied: pandas>=2.0.0 in d:\\anaconda\\setup\\lib\\site-packages (from pyLDAvis) (2.0.1)\n",
      "Requirement already satisfied: scipy in d:\\anaconda\\setup\\lib\\site-packages (from pyLDAvis) (1.10.1)\n",
      "Requirement already satisfied: gensim in d:\\anaconda\\setup\\lib\\site-packages (from pyLDAvis) (4.1.2)\n",
      "Requirement already satisfied: funcy in d:\\anaconda\\setup\\lib\\site-packages (from pyLDAvis) (2.0)\n",
      "Requirement already satisfied: setuptools in d:\\anaconda\\setup\\lib\\site-packages (from pyLDAvis) (65.5.0)\n",
      "Requirement already satisfied: numpy>=1.24.2 in d:\\anaconda\\setup\\lib\\site-packages (from pyLDAvis) (1.24.3)\n",
      "Requirement already satisfied: scikit-learn>=1.0.0 in d:\\anaconda\\setup\\lib\\site-packages (from pyLDAvis) (1.0.2)\n",
      "Requirement already satisfied: python-dateutil>=2.8.2 in d:\\anaconda\\setup\\lib\\site-packages (from pandas>=2.0.0->pyLDAvis) (2.8.2)\n",
      "Requirement already satisfied: pytz>=2020.1 in d:\\anaconda\\setup\\lib\\site-packages (from pandas>=2.0.0->pyLDAvis) (2022.1)\n",
      "Requirement already satisfied: tzdata>=2022.1 in d:\\anaconda\\setup\\lib\\site-packages (from pandas>=2.0.0->pyLDAvis) (2023.3)\n",
      "Requirement already satisfied: threadpoolctl>=2.0.0 in d:\\anaconda\\setup\\lib\\site-packages (from scikit-learn>=1.0.0->pyLDAvis) (2.2.0)\n",
      "Requirement already satisfied: smart-open>=1.8.1 in d:\\anaconda\\setup\\lib\\site-packages (from gensim->pyLDAvis) (5.2.1)\n",
      "Requirement already satisfied: MarkupSafe>=0.23 in d:\\anaconda\\setup\\lib\\site-packages (from jinja2->pyLDAvis) (2.0.1)\n",
      "Requirement already satisfied: packaging in d:\\anaconda\\setup\\lib\\site-packages (from numexpr->pyLDAvis) (21.3)\n",
      "Requirement already satisfied: six>=1.5 in d:\\anaconda\\setup\\lib\\site-packages (from python-dateutil>=2.8.2->pandas>=2.0.0->pyLDAvis) (1.16.0)\n",
      "Requirement already satisfied: pyparsing!=3.0.5,>=2.0.2 in d:\\anaconda\\setup\\lib\\site-packages (from packaging->numexpr->pyLDAvis) (3.0.9)\n"
     ]
    },
    {
     "name": "stderr",
     "output_type": "stream",
     "text": [
      "[nltk_data] Downloading package stopwords to\n",
      "[nltk_data]     C:\\Users\\drrr8\\AppData\\Roaming\\nltk_data...\n",
      "[nltk_data]   Package stopwords is already up-to-date!\n",
      "[nltk_data] Downloading package punkt to\n",
      "[nltk_data]     C:\\Users\\drrr8\\AppData\\Roaming\\nltk_data...\n",
      "[nltk_data]   Package punkt is already up-to-date!\n",
      "[nltk_data] Downloading package averaged_perceptron_tagger to\n",
      "[nltk_data]     C:\\Users\\drrr8\\AppData\\Roaming\\nltk_data...\n",
      "[nltk_data]   Package averaged_perceptron_tagger is already up-to-\n",
      "[nltk_data]       date!\n",
      "[nltk_data] Downloading package wordnet to\n",
      "[nltk_data]     C:\\Users\\drrr8\\AppData\\Roaming\\nltk_data...\n",
      "[nltk_data]   Package wordnet is already up-to-date!\n"
     ]
    },
    {
     "name": "stdout",
     "output_type": "stream",
     "text": [
      "Original:   <p>The circus dog in a plissé skirt jumped over Python who wasn't that large, just 3 feet long.</p>\n",
      "Processed:  ['<', 'p', '>', 'The', 'circus', 'dog', 'in', 'a', 'plissé', 'skirt', 'jumped', 'over', 'Python', 'who', 'was', \"n't\", 'that', 'large', ',', 'just', '3', 'feet', 'long.', '<', '/p', '>']\n",
      "Original:   <p>The circus dog in a plissé skirt jumped over Python who wasn't that large, just 3 feet long.</p>\n",
      "Processed:  <p>The circus dog in a plissé skirt jumped over Python who was not that large, just 3 feet long.</p>\n",
      "Original:   <p>The circus dog in a plissé skirt jumped over Python who wasn't that large, just 3 feet long.</p>\n",
      "Processed:  [('<', 'a'), ('p', 'n'), ('>', 'v'), ('the', None), ('circus', 'n'), ('dog', 'n'), ('in', None), ('a', None), ('plissé', 'n'), ('skirt', 'n'), ('jumped', 'v'), ('over', None), ('python', 'n'), ('who', None), ('was', 'v'), (\"n't\", 'r'), ('that', None), ('large', 'a'), (',', None), ('just', 'r'), ('3', None), ('feet', 'n'), ('long.', 'a'), ('<', 'n'), ('/p', 'n'), ('>', 'n')]\n",
      "Original:   <p>The circus dog in a plissé skirt jumped over Python who wasn't that large, just 3 feet long.</p>\n",
      "Processed:  < p > the circus dog in a plissé skirt jump over python who be n't that large , just 3 foot long. < /p >\n",
      "Original:   <p>The circus dog in a plissé skirt jumped over Python who wasn't that large, just 3 feet long.</p>\n",
      "Processed:    p   The circus dog in a plissé skirt jumped over Python who was n t that large   just 3 feet long     p  \n",
      "Original:   <p>The circus dog in a plissé skirt jumped over Python who wasn't that large, just 3 feet long.</p>\n",
      "Processed:  < p > The circus dog plissé skirt jumped Python n't large , 3 feet long. < /p >\n",
      "Original:   <p>The circus dog in a plissé skirt jumped over Python who wasn't that large, just 3 feet long.</p>\n",
      "Processed:  p The circus dog in a plissé skirt jumped over Python who was n't that large just feet long. /p\n",
      "Original:   <p>The circus dog in a plissé skirt jumped over Python who wasn't that large, just 3 feet long.</p>\n",
      "Processed:  The circus dog in a plissé skirt jumped over Python who wasn't that large, just 3 feet long.\n",
      "Original:   <p>The circus dog in a plissé skirt jumped over Python who wasn't that large, just 3 feet long.</p>\n",
      "Processed:  <p>The circus dog in a plisse skirt jumped over Python who wasn't that large, just 3 feet long.</p>\n"
     ]
    }
   ],
   "source": [
    "#packages needed\n",
    "\n",
    "#ignore warnings about future changes in functions as they take too much space\n",
    "import warnings\n",
    "warnings.simplefilter(action='ignore', category=FutureWarning)\n",
    "warnings.filterwarnings(\"ignore\", category=DeprecationWarning)\n",
    "\n",
    "#the module 'sys' allows istalling module from inside Jupyter\n",
    "import sys\n",
    "\n",
    "!{sys.executable} -m pip install numpy\n",
    "import numpy as np \n",
    "\n",
    "!{sys.executable} -m pip install pandas\n",
    "import pandas as pd\n",
    "\n",
    "#Natrual Language ToolKit (NLTK)\n",
    "!{sys.executable} -m pip install nltk\n",
    "import nltk\n",
    "\n",
    "#text normalization function\n",
    "%run \"C:/Users/drrr8/OneDrive - Washington University in St. Louis/Desktop/562 text mining/Text_Normalization_Function.ipynb\"\n",
    "\n",
    "#ignore warnings about future changes in functions as they take too much space\n",
    "warnings.simplefilter(action='ignore', category=FutureWarning)\n",
    "warnings.filterwarnings(\"ignore\", category=DeprecationWarning)"
   ]
  },
  {
   "cell_type": "code",
   "execution_count": 6,
   "id": "9b25351a",
   "metadata": {},
   "outputs": [],
   "source": [
    "test_reviews = np.array(test_data['Review'])\n",
    "test_rate = np.array(test_data['Rating'])\n",
    "test_p1 = np.array(test_data['p1'])\n",
    "\n",
    "train_reviews = np.array(train_data['Review'])\n",
    "train_rate = np.array(train_data['Rating'])\n",
    "train_p1 = np.array(train_data['p1'])"
   ]
  },
  {
   "cell_type": "code",
   "execution_count": 7,
   "id": "82f1fff0",
   "metadata": {},
   "outputs": [],
   "source": [
    "normalized_test_reviews = normalize_corpus(test_reviews)\n",
    "normalized_train_reviews = normalize_corpus(train_reviews)"
   ]
  },
  {
   "cell_type": "code",
   "execution_count": 8,
   "id": "37b870d6",
   "metadata": {},
   "outputs": [
    {
     "name": "stderr",
     "output_type": "stream",
     "text": [
      "[nltk_data] Downloading package vader_lexicon to\n",
      "[nltk_data]     C:\\Users\\drrr8\\AppData\\Roaming\\nltk_data...\n",
      "[nltk_data]   Package vader_lexicon is already up-to-date!\n"
     ]
    },
    {
     "data": {
      "text/plain": [
       "True"
      ]
     },
     "execution_count": 8,
     "metadata": {},
     "output_type": "execute_result"
    }
   ],
   "source": [
    "#VADER Lexicon\n",
    "nltk.download('vader_lexicon')"
   ]
  },
  {
   "cell_type": "code",
   "execution_count": 9,
   "id": "0b422ff7",
   "metadata": {},
   "outputs": [],
   "source": [
    "from nltk.sentiment.vader import SentimentIntensityAnalyzer\n",
    "analyzer = SentimentIntensityAnalyzer()"
   ]
  },
  {
   "cell_type": "code",
   "execution_count": 10,
   "id": "eaa9a92e",
   "metadata": {},
   "outputs": [],
   "source": [
    "#just observe examples\n",
    "text_1 = 'nice hotel expensive parking got good deal stay hotel anniversary, arrived late evening took advice previous reviews did valet parking, check quick easy, little disappointed non-existent view room room clean nice size, bed comfortable woke stiff neck high pillows, not soundproof like heard music room night morning loud bangs doors opening closing hear people talking hallway, maybe just noisy neighbors, aveda bath products nice, did not goldfish stay nice touch taken advantage staying longer, location great walking distance shopping, overall nice experience having pay 40 parking night,'\n",
    "text_2 = 'ok nothing special charge diamond member hilton decided chain shot 20th anniversary seattle, start booked suite paid extra website description not, suite bedroom bathroom standard hotel room, took printed reservation desk showed said things like tv couch ect desk clerk told oh mixed suites description kimpton website sorry free breakfast, got kidding, embassy suits sitting room bathroom bedroom unlike kimpton calls suite, 5 day stay offer correct false advertising, send kimpton preferred guest website email asking failure provide suite advertised website reservation description furnished hard copy reservation printout website desk manager duty did not reply solution, send email trip guest survey did not follow email mail, guess tell concerned guest.the staff ranged indifferent not helpful, asked desk good breakfast spots neighborhood hood told no hotels, gee best breakfast spots seattle 1/2 block away convenient hotel does not know exist, arrived late night 11 pm inside run bellman busy chating cell phone help bags.prior arrival emailed hotel inform 20th anniversary half really picky wanted make sure good, got nice email saying like deliver bottle champagne chocolate covered strawberries room arrival celebrate, told needed foam pillows, arrival no champagne strawberries no foam pillows great room view alley high rise building good not better housekeeping staff cleaner room property, impressed left morning shopping room got short trips 2 hours, beds comfortable.not good ac-heat control 4 x 4 inch screen bring green shine directly eyes night, light sensitive tape controls.this not 4 start hotel clean business hotel super high rates, better chain hotels seattle'"
   ]
  },
  {
   "cell_type": "code",
   "execution_count": 11,
   "id": "f10037b4",
   "metadata": {},
   "outputs": [
    {
     "name": "stdout",
     "output_type": "stream",
     "text": [
      "nice hotel expensive parking got good deal stay hotel anniversary, arrived late evening took advice previous reviews did valet parking, check quick easy, little disappointed non-existent view room room clean nice size, bed comfortable woke stiff neck high pillows, not soundproof like heard music room night morning loud bangs doors opening closing hear people talking hallway, maybe just noisy neighbors, aveda bath products nice, did not goldfish stay nice touch taken advantage staying longer, location great walking distance shopping, overall nice experience having pay 40 parking night, \n",
      "Scores: {'neg': 0.072, 'neu': 0.643, 'pos': 0.285, 'compound': 0.9747} \n",
      "\n",
      "ok nothing special charge diamond member hilton decided chain shot 20th anniversary seattle, start booked suite paid extra website description not, suite bedroom bathroom standard hotel room, took printed reservation desk showed said things like tv couch ect desk clerk told oh mixed suites description kimpton website sorry free breakfast, got kidding, embassy suits sitting room bathroom bedroom unlike kimpton calls suite, 5 day stay offer correct false advertising, send kimpton preferred guest website email asking failure provide suite advertised website reservation description furnished hard copy reservation printout website desk manager duty did not reply solution, send email trip guest survey did not follow email mail, guess tell concerned guest.the staff ranged indifferent not helpful, asked desk good breakfast spots neighborhood hood told no hotels, gee best breakfast spots seattle 1/2 block away convenient hotel does not know exist, arrived late night 11 pm inside run bellman busy chating cell phone help bags.prior arrival emailed hotel inform 20th anniversary half really picky wanted make sure good, got nice email saying like deliver bottle champagne chocolate covered strawberries room arrival celebrate, told needed foam pillows, arrival no champagne strawberries no foam pillows great room view alley high rise building good not better housekeeping staff cleaner room property, impressed left morning shopping room got short trips 2 hours, beds comfortable.not good ac-heat control 4 x 4 inch screen bring green shine directly eyes night, light sensitive tape controls.this not 4 start hotel clean business hotel super high rates, better chain hotels seattle \n",
      "Scores: {'neg': 0.11, 'neu': 0.701, 'pos': 0.189, 'compound': 0.9787} \n",
      "\n"
     ]
    }
   ],
   "source": [
    "print(text_1, \"\\nScores:\", analyzer.polarity_scores(text_1),\"\\n\")\n",
    "print(text_2, \"\\nScores:\", analyzer.polarity_scores(text_2),\"\\n\")"
   ]
  },
  {
   "cell_type": "code",
   "execution_count": 12,
   "id": "970fdbc0",
   "metadata": {},
   "outputs": [
    {
     "name": "stdout",
     "output_type": "stream",
     "text": [
      "Review:-\n",
      "fantastic stayed excellence punta cana february vacation realize days n't, resort fantastic, clean staff friendly drinks plentiful, highly recommend coco loco served coconut, overall food good consider picky eater, lobster place favorite, spent time sitting pool ocean bit rough taste lounging inside raining, did n't advantage horseback riding bike tour heard fun, recommend leaving property going plaza time, shops fun souvenirs haggle vendors lot fun, downside leaving property taxi cost 35 way, better idea country like taxi ride though.my complaint n't night life, michael jackson best, disco fun especially staff hand dancing dance lessons afternoons, went vacation friend arrived obvious resort catered mainly couples not advertized website, hard time getting room beds nicolas extremely helpful situation, emilio concierge friendly informative entertainment crew isael best,  \n",
      "Actual Rate: 4\n",
      "Actual Polarity: positive\n",
      "\n",
      "Review:-\n",
      "loved, ca n't wait come, wonderful stay, super friendly folks beautiful room extremely convenient location, breakfast filling american sense not super fancy free filling used eating hearty breakfast morning, super sweet allowed bags past outr stay hop skip jump train station, bofriend just recently went business upgraded free larger bed, maitre gem truly felt staying grand place, recommend wonder restaurant near called palo oro literally golden balls good wonderful food,  \n",
      "Actual Rate: 5\n",
      "Actual Polarity: positive\n",
      "\n"
     ]
    }
   ],
   "source": [
    "sample_docs = [100, 700] #indecies for 2 sample documnets \n",
    "\n",
    "for doc_index in sample_docs:\n",
    "    print('Review:-')\n",
    "    print(test_reviews[doc_index])\n",
    "    print('Actual Rate:', test_rate[doc_index])\n",
    "    print('Actual Polarity:', test_p1[doc_index])\n",
    "    print()"
   ]
  },
  {
   "cell_type": "code",
   "execution_count": 13,
   "id": "09189195",
   "metadata": {},
   "outputs": [],
   "source": [
    "#function that scores text using VADER lexicon and prints the actual and scored sentiment\n",
    "def analyze_sentiment_vader_lexicon(review, threshold = 0.1, verbose = False):\n",
    "    scores = analyzer.polarity_scores(review)  \n",
    "    binary_sentiment = 'positive' if scores['compound'] >= threshold else 'negative'\n",
    "    if verbose:                             \n",
    "        print('VADER Polarity (Binary):', binary_sentiment)\n",
    "        print('VADER Score:', round(scores['compound'], 2))\n",
    "    return binary_sentiment,scores['compound'] "
   ]
  },
  {
   "cell_type": "code",
   "execution_count": 14,
   "id": "cb7e793a",
   "metadata": {},
   "outputs": [
    {
     "name": "stdout",
     "output_type": "stream",
     "text": [
      "\n",
      "Review text:\n",
      "\n",
      "fantastic stayed excellence punta cana february vacation realize days n't, resort fantastic, clean staff friendly drinks plentiful, highly recommend coco loco served coconut, overall food good consider picky eater, lobster place favorite, spent time sitting pool ocean bit rough taste lounging inside raining, did n't advantage horseback riding bike tour heard fun, recommend leaving property going plaza time, shops fun souvenirs haggle vendors lot fun, downside leaving property taxi cost 35 way, better idea country like taxi ride though.my complaint n't night life, michael jackson best, disco fun especially staff hand dancing dance lessons afternoons, went vacation friend arrived obvious resort catered mainly couples not advertized website, hard time getting room beds nicolas extremely helpful situation, emilio concierge friendly informative entertainment crew isael best,   \n",
      "\n",
      "ACTUAL Rate : 4 \n",
      "\n",
      "ACTUAL Polarity : positive \n",
      "\n",
      "VADER Polarity (Binary): positive\n",
      "VADER Score: 1.0\n",
      "------------------------------------------------------------\n",
      "\n",
      "Review text:\n",
      "\n",
      "loved, ca n't wait come, wonderful stay, super friendly folks beautiful room extremely convenient location, breakfast filling american sense not super fancy free filling used eating hearty breakfast morning, super sweet allowed bags past outr stay hop skip jump train station, bofriend just recently went business upgraded free larger bed, maitre gem truly felt staying grand place, recommend wonder restaurant near called palo oro literally golden balls good wonderful food,   \n",
      "\n",
      "ACTUAL Rate : 5 \n",
      "\n",
      "ACTUAL Polarity : positive \n",
      "\n",
      "VADER Polarity (Binary): positive\n",
      "VADER Score: 0.99\n",
      "------------------------------------------------------------\n"
     ]
    }
   ],
   "source": [
    "for doc_index in sample_docs:\n",
    "    print('\\nReview text:\\n')\n",
    "    print(test_reviews[doc_index],\"\\n\")\n",
    "    print('ACTUAL Rate :', test_rate[doc_index],\"\\n\")   \n",
    "    print('ACTUAL Polarity :', test_p1[doc_index],\"\\n\")\n",
    "    final_sentiment = analyze_sentiment_vader_lexicon(normalized_test_reviews[doc_index],\n",
    "                                                        threshold=0.1,\n",
    "                                                        verbose=True)\n",
    "    print('-'*60) "
   ]
  },
  {
   "cell_type": "code",
   "execution_count": 15,
   "id": "a54a0b49",
   "metadata": {},
   "outputs": [
    {
     "data": {
      "text/html": [
       "<div>\n",
       "<style scoped>\n",
       "    .dataframe tbody tr th:only-of-type {\n",
       "        vertical-align: middle;\n",
       "    }\n",
       "\n",
       "    .dataframe tbody tr th {\n",
       "        vertical-align: top;\n",
       "    }\n",
       "\n",
       "    .dataframe thead th {\n",
       "        text-align: right;\n",
       "    }\n",
       "</style>\n",
       "<table border=\"1\" class=\"dataframe\">\n",
       "  <thead>\n",
       "    <tr style=\"text-align: right;\">\n",
       "      <th></th>\n",
       "      <th>VADER Polarity</th>\n",
       "      <th>VADER Score</th>\n",
       "    </tr>\n",
       "  </thead>\n",
       "  <tbody>\n",
       "    <tr>\n",
       "      <th>0</th>\n",
       "      <td>negative</td>\n",
       "      <td>-0.9481</td>\n",
       "    </tr>\n",
       "    <tr>\n",
       "      <th>1</th>\n",
       "      <td>positive</td>\n",
       "      <td>0.9891</td>\n",
       "    </tr>\n",
       "    <tr>\n",
       "      <th>2</th>\n",
       "      <td>positive</td>\n",
       "      <td>0.9690</td>\n",
       "    </tr>\n",
       "    <tr>\n",
       "      <th>3</th>\n",
       "      <td>negative</td>\n",
       "      <td>-0.8286</td>\n",
       "    </tr>\n",
       "    <tr>\n",
       "      <th>4</th>\n",
       "      <td>positive</td>\n",
       "      <td>0.9943</td>\n",
       "    </tr>\n",
       "  </tbody>\n",
       "</table>\n",
       "</div>"
      ],
      "text/plain": [
       "  VADER Polarity  VADER Score\n",
       "0       negative      -0.9481\n",
       "1       positive       0.9891\n",
       "2       positive       0.9690\n",
       "3       negative      -0.8286\n",
       "4       positive       0.9943"
      ]
     },
     "execution_count": 15,
     "metadata": {},
     "output_type": "execute_result"
    }
   ],
   "source": [
    "#score all hotel reviews in the test dataset:\n",
    "VADER_polarity_test = [analyze_sentiment_vader_lexicon(review, threshold=0.1) for review in test_reviews]\n",
    "VADER_polarity_test_df = pd.DataFrame(VADER_polarity_test, columns = ['VADER Polarity','VADER Score'])\n",
    "VADER_polarity_test_df.head()"
   ]
  },
  {
   "cell_type": "code",
   "execution_count": 16,
   "id": "acf7a78c",
   "metadata": {},
   "outputs": [
    {
     "data": {
      "text/html": [
       "<div>\n",
       "<style scoped>\n",
       "    .dataframe tbody tr th:only-of-type {\n",
       "        vertical-align: middle;\n",
       "    }\n",
       "\n",
       "    .dataframe tbody tr th {\n",
       "        vertical-align: top;\n",
       "    }\n",
       "\n",
       "    .dataframe thead th {\n",
       "        text-align: right;\n",
       "    }\n",
       "</style>\n",
       "<table border=\"1\" class=\"dataframe\">\n",
       "  <thead>\n",
       "    <tr style=\"text-align: right;\">\n",
       "      <th></th>\n",
       "      <th>count</th>\n",
       "    </tr>\n",
       "    <tr>\n",
       "      <th>VADER Polarity</th>\n",
       "      <th></th>\n",
       "    </tr>\n",
       "  </thead>\n",
       "  <tbody>\n",
       "    <tr>\n",
       "      <th>positive</th>\n",
       "      <td>5631</td>\n",
       "    </tr>\n",
       "    <tr>\n",
       "      <th>negative</th>\n",
       "      <td>517</td>\n",
       "    </tr>\n",
       "    <tr>\n",
       "      <th>Total</th>\n",
       "      <td>6148</td>\n",
       "    </tr>\n",
       "  </tbody>\n",
       "</table>\n",
       "</div>"
      ],
      "text/plain": [
       "                count\n",
       "VADER Polarity       \n",
       "positive         5631\n",
       "negative          517\n",
       "Total            6148"
      ]
     },
     "execution_count": 16,
     "metadata": {},
     "output_type": "execute_result"
    }
   ],
   "source": [
    "polarity_count = VADER_polarity_test_df['VADER Polarity'].value_counts()\n",
    "polarity_count_df = pd.DataFrame(polarity_count).rename(columns={'VADER Polarity': 'Count'})\n",
    "total_count = len(VADER_polarity_test_df)\n",
    "polarity_count_df.loc['Total'] = total_count\n",
    "polarity_count_df"
   ]
  },
  {
   "cell_type": "code",
   "execution_count": 17,
   "id": "b4132a27",
   "metadata": {},
   "outputs": [
    {
     "name": "stdout",
     "output_type": "stream",
     "text": [
      "Accuracy Rate: 0.895 \n",
      "\n"
     ]
    }
   ],
   "source": [
    "from sklearn import metrics\n",
    "print('Accuracy Rate:', np.round(metrics.accuracy_score(test_p1, \n",
    "                                 VADER_polarity_test_df['VADER Polarity']), 3),\"\\n\")"
   ]
  },
  {
   "cell_type": "code",
   "execution_count": 18,
   "id": "e44ec6a6",
   "metadata": {},
   "outputs": [
    {
     "data": {
      "text/html": [
       "<div>\n",
       "<style scoped>\n",
       "    .dataframe tbody tr th:only-of-type {\n",
       "        vertical-align: middle;\n",
       "    }\n",
       "\n",
       "    .dataframe tbody tr th {\n",
       "        vertical-align: top;\n",
       "    }\n",
       "\n",
       "    .dataframe thead th {\n",
       "        text-align: right;\n",
       "    }\n",
       "</style>\n",
       "<table border=\"1\" class=\"dataframe\">\n",
       "  <thead>\n",
       "    <tr style=\"text-align: right;\">\n",
       "      <th>Predicted:</th>\n",
       "      <th>negative</th>\n",
       "      <th>positive</th>\n",
       "      <th>All</th>\n",
       "    </tr>\n",
       "    <tr>\n",
       "      <th>True:</th>\n",
       "      <th></th>\n",
       "      <th></th>\n",
       "      <th></th>\n",
       "    </tr>\n",
       "  </thead>\n",
       "  <tbody>\n",
       "    <tr>\n",
       "      <th>negative</th>\n",
       "      <td>425</td>\n",
       "      <td>552</td>\n",
       "      <td>977</td>\n",
       "    </tr>\n",
       "    <tr>\n",
       "      <th>positive</th>\n",
       "      <td>92</td>\n",
       "      <td>5079</td>\n",
       "      <td>5171</td>\n",
       "    </tr>\n",
       "    <tr>\n",
       "      <th>All</th>\n",
       "      <td>517</td>\n",
       "      <td>5631</td>\n",
       "      <td>6148</td>\n",
       "    </tr>\n",
       "  </tbody>\n",
       "</table>\n",
       "</div>"
      ],
      "text/plain": [
       "Predicted:  negative  positive   All\n",
       "True:                               \n",
       "negative         425       552   977\n",
       "positive          92      5079  5171\n",
       "All              517      5631  6148"
      ]
     },
     "execution_count": 18,
     "metadata": {},
     "output_type": "execute_result"
    }
   ],
   "source": [
    "pd.crosstab(pd.Series(test_p1), \n",
    "            pd.Series(VADER_polarity_test_df['VADER Polarity']), \n",
    "            rownames = ['True:'], \n",
    "            colnames = ['Predicted:'], \n",
    "            margins = True)"
   ]
  },
  {
   "cell_type": "code",
   "execution_count": 19,
   "id": "48eb8cf5",
   "metadata": {},
   "outputs": [
    {
     "data": {
      "image/png": "[encoded data removed]",
      "text/plain": [
       "<Figure size 640x480 with 1 Axes>"
      ]
     },
     "metadata": {},
     "output_type": "display_data"
    }
   ],
   "source": [
    "import matplotlib.pyplot as plt\n",
    "\n",
    "pos_reviews_scored = VADER_polarity_test_df[:500]['VADER Score']\n",
    "plt.bar(range(0, 500), pos_reviews_scored.sort_values(ascending=False))\n",
    "plt.xlabel(\"Reviews with positive ACTUAL polarity\")\n",
    "plt.ylabel(\"VADER Score\")\n",
    "plt.title(\"VADER Scores for ACTUAL Positive Reviews \\n (in decreasing order of VADER scores)\")\n",
    "plt.show()"
   ]
  },
  {
   "cell_type": "code",
   "execution_count": 20,
   "id": "6723ca47",
   "metadata": {},
   "outputs": [
    {
     "data": {
      "image/png": "[encoded data removed]",
      "text/plain": [
       "<Figure size 640x480 with 1 Axes>"
      ]
     },
     "metadata": {},
     "output_type": "display_data"
    }
   ],
   "source": [
    "neg_reviews_scored = VADER_polarity_test_df[0:500]['VADER Score']\n",
    "plt.bar(range(0, 500), neg_reviews_scored.sort_values(ascending=True))\n",
    "plt.xlabel(\"Reviews with negative ACTUAL polarity\")\n",
    "plt.ylabel(\"VADER score\")\n",
    "plt.title(\"VADER Scores for ACTUAL Negative Reviews \\n (in ascending order of VADER scores)\")\n",
    "plt.show()"
   ]
  },
  {
   "cell_type": "code",
   "execution_count": 21,
   "id": "7cddc662",
   "metadata": {},
   "outputs": [],
   "source": [
    "# divide into positive and negative\n",
    "positive_corpus = test_reviews[VADER_polarity_test_df['VADER Polarity'] == 'positive'].tolist()\n",
    "negative_corpus = test_reviews[VADER_polarity_test_df['VADER Polarity'] == 'negative'].tolist()"
   ]
  },
  {
   "cell_type": "code",
   "execution_count": 22,
   "id": "d616edf0",
   "metadata": {},
   "outputs": [
    {
     "name": "stdout",
     "output_type": "stream",
     "text": [
      "Requirement already satisfied: numpy in d:\\anaconda\\setup\\lib\\site-packages (1.24.3)\n",
      "Requirement already satisfied: pandas in d:\\anaconda\\setup\\lib\\site-packages (2.0.1)\n",
      "Requirement already satisfied: pytz>=2020.1 in d:\\anaconda\\setup\\lib\\site-packages (from pandas) (2022.1)\n",
      "Requirement already satisfied: tzdata>=2022.1 in d:\\anaconda\\setup\\lib\\site-packages (from pandas) (2023.3)\n",
      "Requirement already satisfied: numpy>=1.20.3 in d:\\anaconda\\setup\\lib\\site-packages (from pandas) (1.24.3)\n",
      "Requirement already satisfied: python-dateutil>=2.8.2 in d:\\anaconda\\setup\\lib\\site-packages (from pandas) (2.8.2)\n",
      "Requirement already satisfied: six>=1.5 in d:\\anaconda\\setup\\lib\\site-packages (from python-dateutil>=2.8.2->pandas) (1.16.0)\n",
      "Requirement already satisfied: nltk in d:\\anaconda\\setup\\lib\\site-packages (3.7)\n",
      "Requirement already satisfied: joblib in d:\\anaconda\\setup\\lib\\site-packages (from nltk) (1.2.0)\n",
      "Requirement already satisfied: tqdm in d:\\anaconda\\setup\\lib\\site-packages (from nltk) (4.64.1)\n",
      "Requirement already satisfied: regex>=2021.8.3 in d:\\anaconda\\setup\\lib\\site-packages (from nltk) (2022.7.9)\n",
      "Requirement already satisfied: click in d:\\anaconda\\setup\\lib\\site-packages (from nltk) (8.0.4)\n",
      "Requirement already satisfied: colorama in d:\\anaconda\\setup\\lib\\site-packages (from click->nltk) (0.4.5)\n",
      "Requirement already satisfied: sklearn in d:\\anaconda\\setup\\lib\\site-packages (0.0.post4)\n"
     ]
    },
    {
     "name": "stderr",
     "output_type": "stream",
     "text": [
      "ERROR: Invalid requirement: '#visualizing'\n"
     ]
    },
    {
     "name": "stdout",
     "output_type": "stream",
     "text": [
      "Requirement already satisfied: html.parser in d:\\anaconda\\setup\\lib\\site-packages (0.2)\n",
      "Requirement already satisfied: ply in d:\\anaconda\\setup\\lib\\site-packages (from html.parser) (3.11)\n"
     ]
    },
    {
     "name": "stderr",
     "output_type": "stream",
     "text": [
      "[nltk_data] Downloading package omw-1.4 to\n",
      "[nltk_data]     C:\\Users\\drrr8\\AppData\\Roaming\\nltk_data...\n",
      "[nltk_data]   Package omw-1.4 is already up-to-date!\n"
     ]
    },
    {
     "name": "stdout",
     "output_type": "stream",
     "text": [
      "Requirement already satisfied: pattern3 in d:\\anaconda\\setup\\lib\\site-packages (3.0.0)\n",
      "Requirement already satisfied: pdfminer.six in d:\\anaconda\\setup\\lib\\site-packages (from pattern3) (20221105)\n",
      "Requirement already satisfied: beautifulsoup4 in d:\\anaconda\\setup\\lib\\site-packages (from pattern3) (4.11.1)\n",
      "Requirement already satisfied: pdfminer3k in d:\\anaconda\\setup\\lib\\site-packages (from pattern3) (1.3.4)\n",
      "Requirement already satisfied: docx in d:\\anaconda\\setup\\lib\\site-packages (from pattern3) (0.2.4)\n",
      "Requirement already satisfied: simplejson in d:\\anaconda\\setup\\lib\\site-packages (from pattern3) (3.19.1)\n",
      "Requirement already satisfied: cherrypy in d:\\anaconda\\setup\\lib\\site-packages (from pattern3) (18.8.0)\n",
      "Requirement already satisfied: feedparser in d:\\anaconda\\setup\\lib\\site-packages (from pattern3) (6.0.10)\n",
      "Requirement already satisfied: soupsieve>1.2 in d:\\anaconda\\setup\\lib\\site-packages (from beautifulsoup4->pattern3) (2.3.2.post1)\n",
      "Requirement already satisfied: portend>=2.1.1 in d:\\anaconda\\setup\\lib\\site-packages (from cherrypy->pattern3) (3.1.0)\n",
      "Requirement already satisfied: pywin32>=227 in d:\\anaconda\\setup\\lib\\site-packages (from cherrypy->pattern3) (302)\n",
      "Requirement already satisfied: jaraco.collections in d:\\anaconda\\setup\\lib\\site-packages (from cherrypy->pattern3) (4.1.0)\n",
      "Requirement already satisfied: cheroot>=8.2.1 in d:\\anaconda\\setup\\lib\\site-packages (from cherrypy->pattern3) (9.0.0)\n",
      "Requirement already satisfied: more-itertools in d:\\anaconda\\setup\\lib\\site-packages (from cherrypy->pattern3) (9.1.0)\n",
      "Requirement already satisfied: zc.lockfile in d:\\anaconda\\setup\\lib\\site-packages (from cherrypy->pattern3) (3.0.post1)\n",
      "Requirement already satisfied: lxml in d:\\anaconda\\setup\\lib\\site-packages (from docx->pattern3) (4.9.1)\n",
      "Requirement already satisfied: Pillow>=2.0 in d:\\anaconda\\setup\\lib\\site-packages (from docx->pattern3) (9.2.0)\n",
      "Requirement already satisfied: sgmllib3k in d:\\anaconda\\setup\\lib\\site-packages (from feedparser->pattern3) (1.0.0)\n",
      "Requirement already satisfied: charset-normalizer>=2.0.0 in d:\\anaconda\\setup\\lib\\site-packages (from pdfminer.six->pattern3) (2.0.4)\n",
      "Requirement already satisfied: cryptography>=36.0.0 in d:\\anaconda\\setup\\lib\\site-packages (from pdfminer.six->pattern3) (38.0.1)\n",
      "Requirement already satisfied: ply in d:\\anaconda\\setup\\lib\\site-packages (from pdfminer3k->pattern3) (3.11)\n",
      "Requirement already satisfied: jaraco.functools in d:\\anaconda\\setup\\lib\\site-packages (from cheroot>=8.2.1->cherrypy->pattern3) (3.6.0)\n",
      "Requirement already satisfied: six>=1.11.0 in d:\\anaconda\\setup\\lib\\site-packages (from cheroot>=8.2.1->cherrypy->pattern3) (1.16.0)\n",
      "Requirement already satisfied: cffi>=1.12 in d:\\anaconda\\setup\\lib\\site-packages (from cryptography>=36.0.0->pdfminer.six->pattern3) (1.15.1)\n",
      "Requirement already satisfied: tempora>=1.8 in d:\\anaconda\\setup\\lib\\site-packages (from portend>=2.1.1->cherrypy->pattern3) (5.2.2)\n",
      "Requirement already satisfied: jaraco.text in d:\\anaconda\\setup\\lib\\site-packages (from jaraco.collections->cherrypy->pattern3) (3.11.1)\n",
      "Requirement already satisfied: setuptools in d:\\anaconda\\setup\\lib\\site-packages (from zc.lockfile->cherrypy->pattern3) (65.5.0)\n",
      "Requirement already satisfied: pycparser in d:\\anaconda\\setup\\lib\\site-packages (from cffi>=1.12->cryptography>=36.0.0->pdfminer.six->pattern3) (2.21)\n",
      "Requirement already satisfied: pytz in d:\\anaconda\\setup\\lib\\site-packages (from tempora>=1.8->portend>=2.1.1->cherrypy->pattern3) (2022.1)\n",
      "Requirement already satisfied: autocommand in d:\\anaconda\\setup\\lib\\site-packages (from jaraco.text->jaraco.collections->cherrypy->pattern3) (2.2.2)\n",
      "Requirement already satisfied: jaraco.context>=4.1 in d:\\anaconda\\setup\\lib\\site-packages (from jaraco.text->jaraco.collections->cherrypy->pattern3) (4.3.0)\n",
      "Requirement already satisfied: inflect in d:\\anaconda\\setup\\lib\\site-packages (from jaraco.text->jaraco.collections->cherrypy->pattern3) (6.0.4)\n",
      "Requirement already satisfied: pydantic>=1.9.1 in d:\\anaconda\\setup\\lib\\site-packages (from inflect->jaraco.text->jaraco.collections->cherrypy->pattern3) (1.10.7)\n",
      "Requirement already satisfied: typing-extensions>=4.2.0 in d:\\anaconda\\setup\\lib\\site-packages (from pydantic>=1.9.1->inflect->jaraco.text->jaraco.collections->cherrypy->pattern3) (4.3.0)\n",
      "Requirement already satisfied: pyLDAvis in d:\\anaconda\\setup\\lib\\site-packages (3.4.1)\n",
      "Requirement already satisfied: joblib>=1.2.0 in d:\\anaconda\\setup\\lib\\site-packages (from pyLDAvis) (1.2.0)\n",
      "Requirement already satisfied: scipy in d:\\anaconda\\setup\\lib\\site-packages (from pyLDAvis) (1.10.1)\n",
      "Requirement already satisfied: gensim in d:\\anaconda\\setup\\lib\\site-packages (from pyLDAvis) (4.1.2)\n",
      "Requirement already satisfied: numpy>=1.24.2 in d:\\anaconda\\setup\\lib\\site-packages (from pyLDAvis) (1.24.3)\n",
      "Requirement already satisfied: pandas>=2.0.0 in d:\\anaconda\\setup\\lib\\site-packages (from pyLDAvis) (2.0.1)\n",
      "Requirement already satisfied: numexpr in d:\\anaconda\\setup\\lib\\site-packages (from pyLDAvis) (2.8.3)\n",
      "Requirement already satisfied: funcy in d:\\anaconda\\setup\\lib\\site-packages (from pyLDAvis) (2.0)\n",
      "Requirement already satisfied: setuptools in d:\\anaconda\\setup\\lib\\site-packages (from pyLDAvis) (65.5.0)\n",
      "Requirement already satisfied: jinja2 in d:\\anaconda\\setup\\lib\\site-packages (from pyLDAvis) (2.11.3)\n",
      "Requirement already satisfied: scikit-learn>=1.0.0 in d:\\anaconda\\setup\\lib\\site-packages (from pyLDAvis) (1.0.2)\n",
      "Requirement already satisfied: tzdata>=2022.1 in d:\\anaconda\\setup\\lib\\site-packages (from pandas>=2.0.0->pyLDAvis) (2023.3)\n",
      "Requirement already satisfied: pytz>=2020.1 in d:\\anaconda\\setup\\lib\\site-packages (from pandas>=2.0.0->pyLDAvis) (2022.1)\n",
      "Requirement already satisfied: python-dateutil>=2.8.2 in d:\\anaconda\\setup\\lib\\site-packages (from pandas>=2.0.0->pyLDAvis) (2.8.2)\n",
      "Requirement already satisfied: threadpoolctl>=2.0.0 in d:\\anaconda\\setup\\lib\\site-packages (from scikit-learn>=1.0.0->pyLDAvis) (2.2.0)\n",
      "Requirement already satisfied: smart-open>=1.8.1 in d:\\anaconda\\setup\\lib\\site-packages (from gensim->pyLDAvis) (5.2.1)\n",
      "Requirement already satisfied: MarkupSafe>=0.23 in d:\\anaconda\\setup\\lib\\site-packages (from jinja2->pyLDAvis) (2.0.1)\n",
      "Requirement already satisfied: packaging in d:\\anaconda\\setup\\lib\\site-packages (from numexpr->pyLDAvis) (21.3)\n",
      "Requirement already satisfied: six>=1.5 in d:\\anaconda\\setup\\lib\\site-packages (from python-dateutil>=2.8.2->pandas>=2.0.0->pyLDAvis) (1.16.0)\n",
      "Requirement already satisfied: pyparsing!=3.0.5,>=2.0.2 in d:\\anaconda\\setup\\lib\\site-packages (from packaging->numexpr->pyLDAvis) (3.0.9)\n",
      "Original:   <p>The circus dog in a plissé skirt jumped over Python who wasn't that large, just 3 feet long.</p>\n",
      "Processed:  ['<', 'p', '>', 'The', 'circus', 'dog', 'in', 'a', 'plissé', 'skirt', 'jumped', 'over', 'Python', 'who', 'was', \"n't\", 'that', 'large', ',', 'just', '3', 'feet', 'long.', '<', '/p', '>']\n",
      "Original:   <p>The circus dog in a plissé skirt jumped over Python who wasn't that large, just 3 feet long.</p>\n",
      "Processed:  <p>The circus dog in a plissé skirt jumped over Python who was not that large, just 3 feet long.</p>\n",
      "Original:   <p>The circus dog in a plissé skirt jumped over Python who wasn't that large, just 3 feet long.</p>\n",
      "Processed:  [('<', 'a'), ('p', 'n'), ('>', 'v'), ('the', None), ('circus', 'n'), ('dog', 'n'), ('in', None), ('a', None), ('plissé', 'n'), ('skirt', 'n'), ('jumped', 'v'), ('over', None), ('python', 'n'), ('who', None), ('was', 'v'), (\"n't\", 'r'), ('that', None), ('large', 'a'), (',', None), ('just', 'r'), ('3', None), ('feet', 'n'), ('long.', 'a'), ('<', 'n'), ('/p', 'n'), ('>', 'n')]\n",
      "Original:   <p>The circus dog in a plissé skirt jumped over Python who wasn't that large, just 3 feet long.</p>\n",
      "Processed:  < p > the circus dog in a plissé skirt jump over python who be n't that large , just 3 foot long. < /p >\n",
      "Original:   <p>The circus dog in a plissé skirt jumped over Python who wasn't that large, just 3 feet long.</p>\n",
      "Processed:    p   The circus dog in a plissé skirt jumped over Python who was n t that large   just 3 feet long     p  \n",
      "Original:   <p>The circus dog in a plissé skirt jumped over Python who wasn't that large, just 3 feet long.</p>\n",
      "Processed:  < p > The circus dog plissé skirt jumped Python n't large , 3 feet long. < /p >\n",
      "Original:   <p>The circus dog in a plissé skirt jumped over Python who wasn't that large, just 3 feet long.</p>\n",
      "Processed:  p The circus dog in a plissé skirt jumped over Python who was n't that large just feet long. /p\n",
      "Original:   <p>The circus dog in a plissé skirt jumped over Python who wasn't that large, just 3 feet long.</p>\n",
      "Processed:  The circus dog in a plissé skirt jumped over Python who wasn't that large, just 3 feet long.\n",
      "Original:   <p>The circus dog in a plissé skirt jumped over Python who wasn't that large, just 3 feet long.</p>\n",
      "Processed:  <p>The circus dog in a plisse skirt jumped over Python who wasn't that large, just 3 feet long.</p>\n"
     ]
    },
    {
     "name": "stderr",
     "output_type": "stream",
     "text": [
      "[nltk_data] Downloading package stopwords to\n",
      "[nltk_data]     C:\\Users\\drrr8\\AppData\\Roaming\\nltk_data...\n",
      "[nltk_data]   Package stopwords is already up-to-date!\n",
      "[nltk_data] Downloading package punkt to\n",
      "[nltk_data]     C:\\Users\\drrr8\\AppData\\Roaming\\nltk_data...\n",
      "[nltk_data]   Package punkt is already up-to-date!\n",
      "[nltk_data] Downloading package averaged_perceptron_tagger to\n",
      "[nltk_data]     C:\\Users\\drrr8\\AppData\\Roaming\\nltk_data...\n",
      "[nltk_data]   Package averaged_perceptron_tagger is already up-to-\n",
      "[nltk_data]       date!\n",
      "[nltk_data] Downloading package wordnet to\n",
      "[nltk_data]     C:\\Users\\drrr8\\AppData\\Roaming\\nltk_data...\n",
      "[nltk_data]   Package wordnet is already up-to-date!\n"
     ]
    }
   ],
   "source": [
    "#the module 'sys' allows istalling module from inside Jupyter\n",
    "import sys\n",
    "\n",
    "!{sys.executable} -m pip install numpy\n",
    "import numpy as np\n",
    "\n",
    "!{sys.executable} -m pip install pandas\n",
    "import pandas as pd\n",
    "\n",
    "#Natrual Language ToolKit (NLTK)\n",
    "!{sys.executable} -m pip install nltk\n",
    "import nltk\n",
    "\n",
    "!{sys.executable} -m pip install sklearn\n",
    "from sklearn import metrics\n",
    "#from sklearn.model_selection import GridSearchCV\n",
    "from sklearn.feature_extraction.text import  CountVectorizer #bag-of-words vectorizer \n",
    "from sklearn.decomposition import LatentDirichletAllocation #package for LDA\n",
    "\n",
    "# Plotting tools\n",
    "\n",
    "from pprint import pprint\n",
    "!{sys.executable} -m pip install pyLDAvis #visualizing LDA\n",
    "import pyLDAvis\n",
    "import pyLDAvis.lda_model\n",
    "\n",
    "import matplotlib.pyplot as plt\n",
    "%matplotlib inline\n",
    "\n",
    "#define text normalization function\n",
    "%run \"C:/Users/drrr8/OneDrive - Washington University in St. Louis/Desktop/562 text mining/Text_Normalization_Function.ipynb\"\n",
    "#ignore warnings about future changes in functions as they take too much space\n",
    "import warnings\n",
    "warnings.simplefilter(action='ignore', category=FutureWarning)\n",
    "warnings.filterwarnings(\"ignore\", category=DeprecationWarning)"
   ]
  },
  {
   "cell_type": "code",
   "execution_count": 23,
   "id": "8381e6a4",
   "metadata": {},
   "outputs": [],
   "source": [
    "def display_topics(model, feature_names, no_top_words):\n",
    "    for topic_idx, topic in enumerate(model.components_):\n",
    "        print(\"Topic %d:\" % (topic_idx))\n",
    "        print(\" \".join([feature_names[i]\n",
    "                        for i in topic.argsort()[:-no_top_words - 1:-1]]))\n",
    "        \n",
    "def get_topic_words(vectorizer, lda_model, n_words):\n",
    "    keywords = np.array(vectorizer.get_feature_names_out())\n",
    "    topic_words = []\n",
    "    for topic_weights in lda_model.components_:\n",
    "        top_word_locs = (-topic_weights).argsort()[:n_words]\n",
    "        topic_words.append(keywords.take(top_word_locs).tolist())\n",
    "    return topic_words"
   ]
  },
  {
   "cell_type": "code",
   "execution_count": 24,
   "id": "3e87b964",
   "metadata": {},
   "outputs": [
    {
     "name": "stdout",
     "output_type": "stream",
     "text": [
      "Requirement already satisfied: gensim in d:\\anaconda\\setup\\lib\\site-packages (4.1.2)\n",
      "Requirement already satisfied: smart-open>=1.8.1 in d:\\anaconda\\setup\\lib\\site-packages (from gensim) (5.2.1)\n",
      "Requirement already satisfied: numpy>=1.17.0 in d:\\anaconda\\setup\\lib\\site-packages (from gensim) (1.24.3)\n",
      "Requirement already satisfied: scipy>=0.18.1 in d:\\anaconda\\setup\\lib\\site-packages (from gensim) (1.10.1)\n"
     ]
    }
   ],
   "source": [
    "!{sys.executable} -m pip install gensim\n",
    "import gensim\n",
    "\n",
    "from gensim.models.coherencemodel import CoherenceModel\n",
    "from gensim.corpora.dictionary import Dictionary"
   ]
  },
  {
   "cell_type": "code",
   "execution_count": 25,
   "id": "20846b1a",
   "metadata": {},
   "outputs": [],
   "source": [
    "#define the bag-of-words vectorizer:\n",
    "bow_vectorizer = CountVectorizer()"
   ]
  },
  {
   "cell_type": "code",
   "execution_count": 26,
   "id": "8dd718d6",
   "metadata": {},
   "outputs": [],
   "source": [
    "# do LDA for positive\n",
    "# vectorize the normalized data:\n",
    "bow_positive_corpus = bow_vectorizer.fit_transform(positive_corpus)"
   ]
  },
  {
   "cell_type": "code",
   "execution_count": 27,
   "id": "29bc67e3",
   "metadata": {},
   "outputs": [],
   "source": [
    "# positive corpus, assume that there are 5 topics\n",
    "lda_positive_corpus = LatentDirichletAllocation(n_components=5, max_iter=500,\n",
    "                                                doc_topic_prior = 0.5,\n",
    "                                                topic_word_prior = 0.25).fit(bow_positive_corpus)"
   ]
  },
  {
   "cell_type": "code",
   "execution_count": 28,
   "id": "517881ce",
   "metadata": {},
   "outputs": [
    {
     "name": "stdout",
     "output_type": "stream",
     "text": [
      "Topic 0:\n",
      "not beach resort did food great good pool room just time day no people like\n",
      "Topic 1:\n",
      "bali waikiki villa ubud rs villas kuta dua nusa private it__ç_é_ hawaii spa balinese rice\n",
      "Topic 2:\n",
      "hotel room not stay good great nice did rooms night no location staff stayed breakfast\n",
      "Topic 3:\n",
      "hotel great staff location stay breakfast stayed helpful clean friendly good rooms excellent room walk\n",
      "Topic 4:\n",
      "york nyc new hong kong ny harbour manhattan hk times affinia mandarin oriental state subway\n"
     ]
    }
   ],
   "source": [
    "no_top_words = 15\n",
    "display_topics(lda_positive_corpus, bow_vectorizer.get_feature_names_out(), no_top_words)"
   ]
  },
  {
   "cell_type": "code",
   "execution_count": 29,
   "id": "ec7dcd3d",
   "metadata": {},
   "outputs": [
    {
     "data": {
      "text/html": [
       "<div>\n",
       "<style scoped>\n",
       "    .dataframe tbody tr th:only-of-type {\n",
       "        vertical-align: middle;\n",
       "    }\n",
       "\n",
       "    .dataframe tbody tr th {\n",
       "        vertical-align: top;\n",
       "    }\n",
       "\n",
       "    .dataframe thead th {\n",
       "        text-align: right;\n",
       "    }\n",
       "</style>\n",
       "<table border=\"1\" class=\"dataframe\">\n",
       "  <thead>\n",
       "    <tr style=\"text-align: right;\">\n",
       "      <th></th>\n",
       "      <th>Topic_0</th>\n",
       "      <th>Topic_1</th>\n",
       "      <th>Topic_2</th>\n",
       "      <th>Topic_3</th>\n",
       "      <th>Topic_4</th>\n",
       "    </tr>\n",
       "  </thead>\n",
       "  <tbody>\n",
       "    <tr>\n",
       "      <th>00</th>\n",
       "      <td>0.000841</td>\n",
       "      <td>0.000017</td>\n",
       "      <td>7.191875e-04</td>\n",
       "      <td>0.000002</td>\n",
       "      <td>0.000019</td>\n",
       "    </tr>\n",
       "    <tr>\n",
       "      <th>000</th>\n",
       "      <td>0.000047</td>\n",
       "      <td>0.000792</td>\n",
       "      <td>4.594852e-05</td>\n",
       "      <td>0.000002</td>\n",
       "      <td>0.000019</td>\n",
       "    </tr>\n",
       "    <tr>\n",
       "      <th>0001</th>\n",
       "      <td>0.000001</td>\n",
       "      <td>0.000016</td>\n",
       "      <td>4.777650e-06</td>\n",
       "      <td>0.000002</td>\n",
       "      <td>0.000019</td>\n",
       "    </tr>\n",
       "    <tr>\n",
       "      <th>000rp</th>\n",
       "      <td>0.000001</td>\n",
       "      <td>0.000206</td>\n",
       "      <td>9.679526e-07</td>\n",
       "      <td>0.000002</td>\n",
       "      <td>0.000018</td>\n",
       "    </tr>\n",
       "    <tr>\n",
       "      <th>000rupiah</th>\n",
       "      <td>0.000001</td>\n",
       "      <td>0.000079</td>\n",
       "      <td>9.602259e-07</td>\n",
       "      <td>0.000002</td>\n",
       "      <td>0.000018</td>\n",
       "    </tr>\n",
       "    <tr>\n",
       "      <th>000us</th>\n",
       "      <td>0.000001</td>\n",
       "      <td>0.000016</td>\n",
       "      <td>9.587769e-07</td>\n",
       "      <td>0.000011</td>\n",
       "      <td>0.000019</td>\n",
       "    </tr>\n",
       "    <tr>\n",
       "      <th>00a</th>\n",
       "      <td>0.000001</td>\n",
       "      <td>0.000268</td>\n",
       "      <td>1.016267e-06</td>\n",
       "      <td>0.000002</td>\n",
       "      <td>0.000019</td>\n",
       "    </tr>\n",
       "    <tr>\n",
       "      <th>00am</th>\n",
       "      <td>0.000067</td>\n",
       "      <td>0.000016</td>\n",
       "      <td>6.754091e-05</td>\n",
       "      <td>0.000002</td>\n",
       "      <td>0.000019</td>\n",
       "    </tr>\n",
       "    <tr>\n",
       "      <th>00dollars</th>\n",
       "      <td>0.000001</td>\n",
       "      <td>0.000016</td>\n",
       "      <td>9.583477e-07</td>\n",
       "      <td>0.000002</td>\n",
       "      <td>0.000092</td>\n",
       "    </tr>\n",
       "    <tr>\n",
       "      <th>00gbp</th>\n",
       "      <td>0.000001</td>\n",
       "      <td>0.000016</td>\n",
       "      <td>4.786015e-06</td>\n",
       "      <td>0.000002</td>\n",
       "      <td>0.000019</td>\n",
       "    </tr>\n",
       "  </tbody>\n",
       "</table>\n",
       "</div>"
      ],
      "text/plain": [
       "            Topic_0   Topic_1       Topic_2   Topic_3   Topic_4\n",
       "00         0.000841  0.000017  7.191875e-04  0.000002  0.000019\n",
       "000        0.000047  0.000792  4.594852e-05  0.000002  0.000019\n",
       "0001       0.000001  0.000016  4.777650e-06  0.000002  0.000019\n",
       "000rp      0.000001  0.000206  9.679526e-07  0.000002  0.000018\n",
       "000rupiah  0.000001  0.000079  9.602259e-07  0.000002  0.000018\n",
       "000us      0.000001  0.000016  9.587769e-07  0.000011  0.000019\n",
       "00a        0.000001  0.000268  1.016267e-06  0.000002  0.000019\n",
       "00am       0.000067  0.000016  6.754091e-05  0.000002  0.000019\n",
       "00dollars  0.000001  0.000016  9.583477e-07  0.000002  0.000092\n",
       "00gbp      0.000001  0.000016  4.786015e-06  0.000002  0.000019"
      ]
     },
     "execution_count": 29,
     "metadata": {},
     "output_type": "execute_result"
    }
   ],
   "source": [
    "word_weights = lda_positive_corpus.components_ / lda_positive_corpus.components_.sum(axis=1)[:, np.newaxis]\n",
    "word_weights_df = pd.DataFrame(word_weights.T, \n",
    "                               index = bow_vectorizer.get_feature_names_out(), \n",
    "                               columns = [\"Topic_\" + str(i) for i in range(5)])\n",
    "word_weights_df.head(10)"
   ]
  },
  {
   "cell_type": "code",
   "execution_count": 30,
   "id": "e77d6a8c",
   "metadata": {},
   "outputs": [
    {
     "data": {
      "text/html": [
       "<div>\n",
       "<style scoped>\n",
       "    .dataframe tbody tr th:only-of-type {\n",
       "        vertical-align: middle;\n",
       "    }\n",
       "\n",
       "    .dataframe tbody tr th {\n",
       "        vertical-align: top;\n",
       "    }\n",
       "\n",
       "    .dataframe thead th {\n",
       "        text-align: right;\n",
       "    }\n",
       "</style>\n",
       "<table border=\"1\" class=\"dataframe\">\n",
       "  <thead>\n",
       "    <tr style=\"text-align: right;\">\n",
       "      <th></th>\n",
       "      <th>Topic_0</th>\n",
       "      <th>Topic_1</th>\n",
       "      <th>Topic_2</th>\n",
       "      <th>Topic_3</th>\n",
       "      <th>Topic_4</th>\n",
       "    </tr>\n",
       "  </thead>\n",
       "  <tbody>\n",
       "    <tr>\n",
       "      <th>not</th>\n",
       "      <td>0.016776</td>\n",
       "      <td>0.000016</td>\n",
       "      <td>1.567095e-02</td>\n",
       "      <td>0.003216</td>\n",
       "      <td>0.000019</td>\n",
       "    </tr>\n",
       "    <tr>\n",
       "      <th>beach</th>\n",
       "      <td>0.013121</td>\n",
       "      <td>0.000017</td>\n",
       "      <td>9.940111e-07</td>\n",
       "      <td>0.000002</td>\n",
       "      <td>0.000019</td>\n",
       "    </tr>\n",
       "    <tr>\n",
       "      <th>resort</th>\n",
       "      <td>0.010163</td>\n",
       "      <td>0.000017</td>\n",
       "      <td>9.712997e-07</td>\n",
       "      <td>0.000002</td>\n",
       "      <td>0.000019</td>\n",
       "    </tr>\n",
       "    <tr>\n",
       "      <th>did</th>\n",
       "      <td>0.009501</td>\n",
       "      <td>0.000016</td>\n",
       "      <td>6.655918e-03</td>\n",
       "      <td>0.000002</td>\n",
       "      <td>0.000019</td>\n",
       "    </tr>\n",
       "    <tr>\n",
       "      <th>food</th>\n",
       "      <td>0.009180</td>\n",
       "      <td>0.000017</td>\n",
       "      <td>1.411611e-03</td>\n",
       "      <td>0.001347</td>\n",
       "      <td>0.000019</td>\n",
       "    </tr>\n",
       "    <tr>\n",
       "      <th>great</th>\n",
       "      <td>0.008235</td>\n",
       "      <td>0.000017</td>\n",
       "      <td>7.164681e-03</td>\n",
       "      <td>0.022429</td>\n",
       "      <td>0.000019</td>\n",
       "    </tr>\n",
       "    <tr>\n",
       "      <th>good</th>\n",
       "      <td>0.008171</td>\n",
       "      <td>0.000017</td>\n",
       "      <td>7.919155e-03</td>\n",
       "      <td>0.009338</td>\n",
       "      <td>0.000019</td>\n",
       "    </tr>\n",
       "    <tr>\n",
       "      <th>pool</th>\n",
       "      <td>0.007974</td>\n",
       "      <td>0.000017</td>\n",
       "      <td>1.694461e-03</td>\n",
       "      <td>0.000002</td>\n",
       "      <td>0.000019</td>\n",
       "    </tr>\n",
       "    <tr>\n",
       "      <th>room</th>\n",
       "      <td>0.007361</td>\n",
       "      <td>0.000016</td>\n",
       "      <td>2.568701e-02</td>\n",
       "      <td>0.008493</td>\n",
       "      <td>0.000019</td>\n",
       "    </tr>\n",
       "    <tr>\n",
       "      <th>just</th>\n",
       "      <td>0.007114</td>\n",
       "      <td>0.000017</td>\n",
       "      <td>4.534078e-03</td>\n",
       "      <td>0.006679</td>\n",
       "      <td>0.000019</td>\n",
       "    </tr>\n",
       "  </tbody>\n",
       "</table>\n",
       "</div>"
      ],
      "text/plain": [
       "         Topic_0   Topic_1       Topic_2   Topic_3   Topic_4\n",
       "not     0.016776  0.000016  1.567095e-02  0.003216  0.000019\n",
       "beach   0.013121  0.000017  9.940111e-07  0.000002  0.000019\n",
       "resort  0.010163  0.000017  9.712997e-07  0.000002  0.000019\n",
       "did     0.009501  0.000016  6.655918e-03  0.000002  0.000019\n",
       "food    0.009180  0.000017  1.411611e-03  0.001347  0.000019\n",
       "great   0.008235  0.000017  7.164681e-03  0.022429  0.000019\n",
       "good    0.008171  0.000017  7.919155e-03  0.009338  0.000019\n",
       "pool    0.007974  0.000017  1.694461e-03  0.000002  0.000019\n",
       "room    0.007361  0.000016  2.568701e-02  0.008493  0.000019\n",
       "just    0.007114  0.000017  4.534078e-03  0.006679  0.000019"
      ]
     },
     "execution_count": 30,
     "metadata": {},
     "output_type": "execute_result"
    }
   ],
   "source": [
    "word_weights_df.sort_values(by='Topic_0',ascending=False).head(10)"
   ]
  },
  {
   "cell_type": "code",
   "execution_count": 31,
   "id": "03e686c9",
   "metadata": {},
   "outputs": [
    {
     "data": {
      "text/html": [
       "\n",
       "<link rel=\"stylesheet\" type=\"text/css\" href=\"https://cdn.jsdelivr.net/gh/bmabey/pyLDAvis@3.4.0/pyLDAvis/js/ldavis.v1.0.0.css\">\n",
       "\n",
       "\n",
       "<div id=\"ldavis_el1227622454436696802962336319\" style=\"background-color:white;\"></div>\n",
       "<script type=\"text/javascript\">\n",
       "\n",
       "var ldavis_el1227622454436696802962336319_data = {\"mdsDat\": {\"x\": [181.00128173828125, 115.14793395996094, 85.96381378173828, -63.12110900878906, -11.618971824645996], \"y\": [-136.0443878173828, -273.94970703125, -23.30446434020996, -58.41923522949219, -197.2940673828125], \"topics\": [1, 2, 3, 4, 5], \"cluster\": [1, 1, 1, 1, 1], \"Freq\": [42.72430479472185, 36.43855817981452, 17.32562697347299, 1.9448688142992978, 1.5666412376913421]}, \"tinfo\": {\"Term\": [\"hotel\", \"beach\", \"location\", \"great\", \"staff\", \"new\", \"resort\", \"stay\", \"helpful\", \"breakfast\", \"friendly\", \"excellent\", \"stayed\", \"clean\", \"room\", \"times\", \"city\", \"pool\", \"recommend\", \"did\", \"walk\", \"lovely\", \"rooms\", \"food\", \"fantastic\", \"station\", \"wonderful\", \"comfortable\", \"square\", \"perfect\", \"parking\", \"downtown\", \"hilton\", \"seattle\", \"marriott\", \"elevator\", \"orleans\", \"boston\", \"quarter\", \"valet\", \"cable\", \"toiletries\", \"tokyo\", \"executive\", \"union\", \"hyatt\", \"wireless\", \"elevators\", \"seasons\", \"overpriced\", \"garage\", \"carpet\", \"beijing\", \"sofa\", \"sf\", \"wharf\", \"cars\", \"convention\", \"laptop\", \"web\", \"window\", \"car\", \"floor\", \"noise\", \"business\", \"noisy\", \"bed\", \"rate\", \"bath\", \"tv\", \"screen\", \"shower\", \"room\", \"bathroom\", \"internet\", \"bedroom\", \"desk\", \"street\", \"door\", \"suite\", \"view\", \"hotel\", \"san\", \"space\", \"free\", \"night\", \"not\", \"small\", \"area\", \"stay\", \"hotels\", \"nice\", \"coffee\", \"no\", \"check\", \"price\", \"rooms\", \"good\", \"location\", \"did\", \"breakfast\", \"stayed\", \"service\", \"great\", \"the\", \"staff\", \"just\", \"clean\", \"like\", \"day\", \"really\", \"beach\", \"resort\", \"vacation\", \"ocean\", \"cana\", \"punta\", \"grounds\", \"pools\", \"dominican\", \"resorts\", \"activities\", \"swim\", \"sand\", \"country\", \"inclusive\", \"sick\", \"bavaro\", \"mexican\", \"beaches\", \"tropical\", \"golf\", \"riu\", \"disco\", \"excellence\", \"carte\", \"paradise\", \"puerto\", \"rum\", \"shade\", \"caribbean\", \"shows\", \"entertainment\", \"fun\", \"kids\", \"spanish\", \"food\", \"pool\", \"people\", \"drinks\", \"water\", \"went\", \"beautiful\", \"did\", \"lunch\", \"time\", \"not\", \"buffet\", \"day\", \"drink\", \"like\", \"just\", \"got\", \"no\", \"good\", \"great\", \"service\", \"bar\", \"really\", \"make\", \"nice\", \"room\", \"best\", \"staff\", \"place\", \"night\", \"little\", \"rooms\", \"the\", \"paris\", \"florence\", \"ramblas\", \"berlin\", \"catalunya\", \"duomo\", \"madrid\", \"italy\", \"eiffel\", \"rambla\", \"spotlessly\", \"ponte\", \"recommending\", \"placa\", \"bustle\", \"rome\", \"bahn\", \"casablanca\", \"arc\", \"residence\", \"castle\", \"europa\", \"splendid\", \"vecchio\", \"rue\", \"railway\", \"venice\", \"uffizi\", \"arno\", \"piazza\", \"metro\", \"amsterdam\", \"sights\", \"brilliant\", \"gem\", \"barcelona\", \"london\", \"museums\", \"thoroughly\", \"station\", \"helpful\", \"lovely\", \"cafes\", \"fantastic\", \"las\", \"train\", \"hotel\", \"location\", \"excellent\", \"perfect\", \"friendly\", \"staff\", \"recommend\", \"great\", \"city\", \"highly\", \"wonderful\", \"stay\", \"breakfast\", \"clean\", \"walk\", \"stayed\", \"value\", \"loved\", \"rooms\", \"nights\", \"comfortable\", \"definitely\", \"good\", \"just\", \"room\", \"best\", \"nice\", \"place\", \"the\", \"bali\", \"waikiki\", \"ubud\", \"rs\", \"kuta\", \"dua\", \"nusa\", \"balinese\", \"honolulu\", \"there__\\u00e7_\\u00e9_\", \"outrigger\", \"oahu\", \"alila\", \"seminyak\", \"sanur\", \"hawaiian\", \"casitas\", \"uma\", \"legian\", \"kahala\", \"cayena\", \"duke\", \"benoa\", \"indonesian\", \"scottsdale\", \"sari\", \"tegal\", \"moana\", \"monkey\", \"camper\", \"villas\", \"villa\", \"aqua\", \"hawaii\", \"palms\", \"rice\", \"it__\\u00e7_\\u00e9_\", \"sunset\", \"private\", \"spa\", \"magnificent\", \"island\", \"team\", \"yes\", \"york\", \"nyc\", \"hong\", \"kong\", \"manhattan\", \"hk\", \"affinia\", \"mandarin\", \"mtr\", \"kowloon\", \"empire\", \"midtown\", \"peninsula\", \"millenium\", \"bryant\", \"dumont\", \"langham\", \"ic\", \"muse\", \"chrysler\", \"hix\", \"42nd\", \"regis\", \"milano\", \"lexington\", \"ferries\", \"hudson\", \"mansion\", \"gras\", \"mardi\", \"ny\", \"benjamin\", \"oriental\", \"state\", \"harbour\", \"new\", \"avenue\", \"subway\", \"island\", \"times\", \"5th\", \"square\", \"park\"], \"Freq\": [12860.0, 2804.0, 2980.0, 5833.0, 4411.0, 957.0, 2172.0, 3953.0, 1547.0, 2617.0, 1905.0, 1685.0, 2775.0, 2556.0, 8871.0, 728.0, 1152.0, 2128.0, 1280.0, 3698.0, 1675.0, 874.0, 3265.0, 2452.0, 876.0, 696.0, 1131.0, 1211.0, 425.0, 812.0, 433.27388080619926, 223.91641186123167, 213.35101902588943, 192.26938371076267, 190.32556131990785, 188.41111832454865, 164.41067314108457, 147.12339450162324, 135.59713267189164, 126.96771453381287, 127.91338090437358, 121.16846463591271, 114.45326861585814, 112.54464000055506, 108.70710536586002, 97.18477985792585, 97.18241284021174, 94.30091845615713, 87.56351853380485, 86.61181247933837, 82.78346355999405, 79.90780884721539, 76.05673677552588, 73.17818097015346, 69.33587192513475, 67.43265745068952, 66.46130815229328, 67.40564151067122, 65.5076596508938, 67.37558020791576, 236.72610077458467, 447.46794478050157, 1146.445047333512, 525.8734418561523, 438.2791508079691, 246.89827630358675, 1122.590186972364, 364.69758664778135, 299.9824581125626, 488.40125418413174, 160.42145897849022, 704.259032846995, 6435.163356232001, 1082.6164761319226, 518.2688159474063, 232.68011257654993, 854.7272865106501, 780.4435687967997, 513.2023963763802, 450.74915256462396, 968.2976787908466, 6769.806930101659, 360.9542690026072, 266.03913908133313, 853.019347519053, 1617.3223210098236, 3925.9200482945116, 1134.6402781144284, 1043.9608724029904, 2035.6868752234832, 711.6498096910435, 1780.9386817797647, 559.6010150474964, 1503.5854752471473, 717.3618213483883, 686.6047443232451, 1619.5315935869737, 1983.923245975557, 1448.154769896503, 1667.4544879418922, 1292.0480159962333, 1299.6257349032035, 1261.2238781593228, 1794.9108202575933, 1011.2607996233893, 1328.5235309576167, 1135.886523279182, 997.2982846263202, 930.7838383200278, 922.5472523544844, 859.5562164536467, 2803.5952259343376, 2171.398878447765, 638.1935424898588, 534.7815796198297, 442.9745168254219, 433.30747513729983, 345.3218043848779, 296.00767739524906, 286.37187468703416, 282.487210628483, 271.8494234028342, 209.97997087243542, 205.15882626444207, 193.52324897549653, 188.70773278375287, 182.93619821824834, 156.83829151811892, 151.02072726047146, 146.1886141980063, 145.2092653349542, 142.3157937155882, 138.4676516901742, 132.6630642617907, 132.65971746994592, 132.65500394112507, 125.8800241244174, 127.79238230964714, 121.06118336919221, 120.08788705851777, 112.35631567255857, 222.2463041578272, 342.81342815323944, 571.3247955372605, 547.4796201248881, 286.0564851938219, 1961.3436508101954, 1703.6602880237838, 1277.8687643122191, 550.6937625654648, 952.1391682521787, 871.1704645831495, 929.6136443995815, 2029.983524886158, 336.1327755139811, 1506.8982855660004, 3584.5248142679834, 656.9439639526765, 1350.1988724063253, 383.75845883242295, 1169.893779083036, 1519.9376834473787, 868.3033741112903, 1296.1174906714953, 1745.8662779812998, 1759.6024344794102, 1093.8087398807363, 770.7674480291472, 905.0232402064183, 623.5992177889997, 1119.6450898159171, 1572.6821338237976, 756.2969451488823, 1139.1166226681778, 775.887459971936, 820.9514058222484, 706.498697081832, 716.5553307430571, 677.7143691036805, 343.4502758347997, 291.5065323347942, 186.67107782253558, 110.60537984212426, 87.41146019047136, 84.63601962702836, 82.76967532669299, 72.5382401466304, 67.00664052633248, 67.00601898336744, 58.649321479545165, 45.67404975861182, 42.85196083879035, 39.169064723133936, 40.06257562683824, 38.24899730148402, 38.24799471176741, 37.30483208943325, 36.39993465906519, 36.375751877394634, 35.46537794822605, 33.61758535126888, 32.660718664804826, 31.75902899841134, 29.90618939063609, 29.901056030496147, 78.54993486960944, 28.048655237081228, 28.048533467784846, 28.03081513217877, 370.0183964643672, 253.19413783832712, 125.83939115085916, 114.8053794727264, 94.7018090428422, 316.4310009608926, 172.7403861941209, 82.11426911145792, 74.46304754261956, 515.0952706832857, 1030.6237832523407, 610.3998247783755, 102.47360705098185, 579.2483266744141, 118.49350531680204, 248.00619610154186, 5542.488683478861, 1531.8892430196354, 923.7606535514327, 502.0131961464161, 986.569553107476, 1943.2834688919515, 709.5715410576314, 2278.5644624021584, 625.4581016101768, 316.75809343183715, 580.4416997357345, 1470.097197730968, 1062.0482529566, 1010.1402859211712, 732.2365071027907, 1035.9244044794414, 351.83110886108034, 446.77048066775745, 929.3984392119489, 487.39543130626214, 501.71785205350835, 409.29229957586284, 948.6349084440958, 678.5651585936905, 862.8655761406518, 495.42477110498476, 544.3510747566971, 475.0730817971266, 455.0239217116268, 137.312302718365, 104.66038382693974, 58.953282878505085, 58.21099432289236, 36.444901612539546, 28.47288524991048, 28.47281755803038, 23.39019230084558, 21.210492702168587, 18.307933923872632, 18.3008139306045, 17.586153479874095, 16.865716639837753, 16.136914319667948, 15.408176765321075, 15.407011901462369, 15.389017743246946, 14.687624411223231, 13.94864722809344, 13.234951152737901, 12.504153906339322, 12.499626872246619, 11.057465527726348, 11.047592760687262, 11.039246884634387, 10.335439182460117, 10.335439182460117, 10.334235179380565, 10.310391429228321, 10.309785188866346, 37.03331521856247, 73.71925093821828, 18.185253502379947, 23.989565699336882, 15.279977035727951, 22.38118378245405, 24.7171900864718, 15.333947959429615, 25.019190329345946, 23.57711236047773, 16.25787600467219, 19.453271680697778, 16.619223896629986, 18.14935674859224, 156.3349936844996, 123.05541958138748, 77.57841601709517, 77.57841601709517, 36.148194858789225, 34.788703234251145, 32.75921929260781, 29.356226177194877, 25.959408188056894, 24.60675315700549, 23.2501136799528, 23.245129257755394, 18.49033000820358, 17.139301663663474, 17.138580123360132, 15.784418480949913, 15.096749330788718, 12.379168445457957, 11.025419106387437, 9.668026711738747, 8.99432693206205, 8.98979755603634, 8.975179844120005, 8.959755504364571, 8.314891230734089, 8.293738855194544, 7.632710804039014, 8.250850827763921, 7.620033542975895, 7.620033542975895, 57.270908806327796, 14.31770136337996, 27.222349785960187, 26.983105827940793, 39.75534171302516, 96.35450005891842, 19.471462096399012, 26.75762931969382, 25.87584489554376, 34.67180657434729, 18.766621534764152, 24.053409712498283, 18.6734567176062], \"Total\": [12860.0, 2804.0, 2980.0, 5833.0, 4411.0, 957.0, 2172.0, 3953.0, 1547.0, 2617.0, 1905.0, 1685.0, 2775.0, 2556.0, 8871.0, 728.0, 1152.0, 2128.0, 1280.0, 3698.0, 1675.0, 874.0, 3265.0, 2452.0, 876.0, 696.0, 1131.0, 1211.0, 425.0, 812.0, 434.1236381614529, 224.78945907228004, 214.22746445891124, 193.1086477978029, 191.18572943752142, 189.2656915692531, 165.26021702329942, 147.97673814034087, 136.45357712406278, 127.81168507735444, 128.77193573021492, 122.04925533381646, 115.32802386171495, 113.40657099320656, 109.5676687836332, 98.04375761967523, 98.04240885938027, 95.16197889110309, 88.43800697533108, 87.48154718352295, 83.6412745760103, 80.75935139557626, 76.91880714866117, 74.03803762731997, 70.19533844450103, 68.27858787041882, 67.31740335687782, 68.2749239107988, 66.35878584946, 68.27367920093627, 242.1073442148235, 472.6942916707391, 1260.67502582138, 568.0652399420289, 471.39981256104716, 261.37291764737853, 1276.3019327019415, 394.9502739670328, 321.9134148805177, 540.0871461999839, 168.18508628490972, 820.9067707482868, 8871.07525534787, 1356.6811123816192, 610.6564684682774, 256.62863269976486, 1112.9103589708254, 1015.4830221014016, 634.6552010614798, 549.0367390064133, 1336.3281500934495, 12860.64890190754, 429.34937958485733, 299.90876735607617, 1181.6917463974692, 2615.0589090346775, 7837.481806014887, 1736.8690607046335, 1615.504562230373, 3953.726354887428, 1027.692745240133, 3445.299503965416, 759.5568741676935, 2837.2506489267134, 1061.5246477529406, 1001.6665250672518, 3265.8525954219394, 4678.788239273065, 2980.661011256854, 3698.0526859256775, 2617.698028410697, 2775.3466933923796, 2677.0771106707725, 5833.444961978225, 2144.3714668808457, 4411.289404568399, 3334.756298578624, 2556.1292899815985, 2211.6042224027683, 2543.2863430744146, 2128.9230935656315, 2804.4472127004237, 2172.236707161522, 639.0703884117249, 535.636619044922, 443.8049067845358, 434.13800176135965, 346.1672411007213, 296.8647296483194, 287.2018801873896, 283.3325790173529, 272.69918462444394, 210.83188684262527, 205.9984823378346, 194.3947712080765, 189.56287571911983, 183.76715630090175, 157.66649472642752, 151.86309927857306, 147.03154540730472, 146.06179206720395, 143.162893105489, 139.29892979294578, 133.49881943511122, 133.4985155619243, 133.497831758051, 126.72798029378907, 128.6622971418336, 121.89834546542679, 120.93015904855079, 113.19713843943536, 226.02384345935607, 353.83112738210093, 627.1000669173593, 601.015015989363, 303.52106280573037, 2452.1846640426097, 2128.7785391819148, 1733.3656699065382, 698.0207946766117, 1331.5727426384158, 1207.3453812656355, 1340.37661875631, 3698.0526859256775, 403.71768648579985, 2617.3408601921287, 7837.481806014887, 960.1739522485627, 2543.2863430744146, 479.27342614544943, 2211.6042224027683, 3334.756298578624, 1569.7034580026395, 2837.2506489267134, 4678.788239273065, 5833.444961978225, 2677.0771106707725, 1508.1156909587694, 2128.9230935656315, 1075.6000996549185, 3445.299503965416, 8871.07525534787, 1614.393715059514, 4411.289404568399, 2092.4723969599413, 2615.0589090346775, 1701.7019782995396, 3265.8525954219394, 2144.3714668808457, 344.3016710665905, 292.3518269863925, 187.5255603467113, 111.45655673323995, 88.26516504956656, 85.4817562304466, 83.62701098594803, 73.41990170598321, 67.85672458557274, 67.85626442253607, 59.50694132482808, 46.519380065863714, 43.73326920205798, 40.02656912659256, 40.94981801783082, 39.097575488057494, 39.098478433698546, 38.16669405997653, 37.24373283390878, 37.240352582217916, 36.31647966669731, 34.46062172374198, 33.52788774190303, 32.60408553570063, 30.75021497684968, 30.748907776079648, 80.89488093999458, 28.893662879400644, 28.89365431891732, 28.893587922062228, 415.3859291544248, 280.2528217802972, 137.80668630014836, 125.77682243370079, 103.36961234829337, 370.21476880670025, 198.8306404725186, 90.37129423069757, 81.9911918847088, 696.5036661987608, 1547.0743855396363, 874.3001470228006, 119.4238777118122, 876.0838654159883, 142.05464903114049, 336.212844800701, 12860.64890190754, 2980.661011256854, 1685.6648855098733, 812.2669726562086, 1905.9153490673948, 4411.289404568399, 1280.4816554000004, 5833.444961978225, 1152.51364221485, 499.66988905144103, 1131.059201453966, 3953.726354887428, 2617.698028410697, 2556.1292899815985, 1675.0690415606261, 2775.3466933923796, 642.8848087356822, 956.046402131283, 3265.8525954219394, 1137.01531285314, 1211.9683089058187, 848.193200785246, 4678.788239273065, 3334.756298578624, 8871.07525534787, 1614.393715059514, 3445.299503965416, 2092.4723969599413, 2144.3714668808457, 138.21858892813063, 105.56349660898702, 59.84467525306626, 59.12471153306973, 37.35312778526784, 29.367804480709026, 29.367826925713807, 24.28941965710436, 22.11307226568395, 19.21085658178359, 19.213125327933213, 18.483863180732666, 17.756666721781862, 17.03165765210709, 16.30726051207414, 16.307748005286026, 16.313593672755133, 15.580058170263525, 14.858392185160639, 14.129158879891252, 13.405277395322747, 13.40653962215384, 11.952291214369243, 11.955136372374787, 11.95817899678511, 11.225580827944963, 11.225580827944963, 11.225994381131313, 11.233749505715899, 11.23337259317604, 44.89131115425048, 110.04066900006129, 28.91694739598236, 47.28860561702532, 22.149131195633743, 50.72494798823543, 84.45583612218736, 34.60591391697314, 194.12739709215083, 327.8455945864329, 54.66998142391165, 280.54919266002554, 84.53206387263401, 339.31636367723587, 157.2673021279242, 123.99332392216078, 78.48502464918386, 78.48502464918386, 37.06235444317864, 35.70455418186985, 33.66433039171328, 30.271786547663552, 26.876726109307864, 25.516299708471518, 24.157636380694846, 24.15865936597999, 19.406223926519605, 18.045389404737822, 18.045583538981735, 16.68590736680546, 16.010213661951717, 13.293997180464288, 11.93413073764259, 10.575725690432348, 9.894587536811063, 9.896378800326193, 9.902037199217958, 9.907870413946762, 9.21560381348732, 9.22386943099547, 8.537654306864612, 9.239189795586318, 8.542881587118426, 8.542881587118426, 67.75006546393699, 17.29939815171548, 36.0023955801319, 53.40774917378252, 144.24815436175385, 957.7194188255644, 48.76585558043784, 160.01737218295415, 280.54919266002554, 728.3949006642015, 101.981104461306, 425.73294908686535, 367.3944166772297], \"Category\": [\"Default\", \"Default\", \"Default\", \"Default\", \"Default\", \"Default\", \"Default\", \"Default\", \"Default\", \"Default\", \"Default\", \"Default\", \"Default\", \"Default\", \"Default\", \"Default\", \"Default\", \"Default\", \"Default\", \"Default\", \"Default\", \"Default\", \"Default\", \"Default\", \"Default\", \"Default\", \"Default\", \"Default\", \"Default\", \"Default\", \"Topic1\", \"Topic1\", \"Topic1\", \"Topic1\", \"Topic1\", \"Topic1\", \"Topic1\", \"Topic1\", \"Topic1\", \"Topic1\", \"Topic1\", \"Topic1\", \"Topic1\", \"Topic1\", \"Topic1\", \"Topic1\", \"Topic1\", \"Topic1\", \"Topic1\", \"Topic1\", \"Topic1\", \"Topic1\", \"Topic1\", \"Topic1\", \"Topic1\", \"Topic1\", \"Topic1\", \"Topic1\", \"Topic1\", \"Topic1\", \"Topic1\", \"Topic1\", \"Topic1\", \"Topic1\", \"Topic1\", \"Topic1\", \"Topic1\", \"Topic1\", \"Topic1\", \"Topic1\", \"Topic1\", \"Topic1\", \"Topic1\", \"Topic1\", \"Topic1\", \"Topic1\", \"Topic1\", \"Topic1\", \"Topic1\", \"Topic1\", \"Topic1\", \"Topic1\", \"Topic1\", \"Topic1\", \"Topic1\", \"Topic1\", \"Topic1\", \"Topic1\", \"Topic1\", \"Topic1\", \"Topic1\", \"Topic1\", \"Topic1\", \"Topic1\", \"Topic1\", \"Topic1\", \"Topic1\", \"Topic1\", \"Topic1\", \"Topic1\", \"Topic1\", \"Topic1\", \"Topic1\", \"Topic1\", \"Topic1\", \"Topic1\", \"Topic1\", \"Topic1\", \"Topic1\", \"Topic1\", \"Topic1\", \"Topic2\", \"Topic2\", \"Topic2\", \"Topic2\", \"Topic2\", \"Topic2\", \"Topic2\", \"Topic2\", \"Topic2\", \"Topic2\", \"Topic2\", \"Topic2\", \"Topic2\", \"Topic2\", \"Topic2\", \"Topic2\", \"Topic2\", \"Topic2\", \"Topic2\", \"Topic2\", \"Topic2\", \"Topic2\", \"Topic2\", \"Topic2\", \"Topic2\", \"Topic2\", \"Topic2\", \"Topic2\", \"Topic2\", \"Topic2\", \"Topic2\", \"Topic2\", \"Topic2\", \"Topic2\", \"Topic2\", \"Topic2\", \"Topic2\", \"Topic2\", \"Topic2\", \"Topic2\", \"Topic2\", \"Topic2\", \"Topic2\", \"Topic2\", \"Topic2\", \"Topic2\", \"Topic2\", \"Topic2\", \"Topic2\", \"Topic2\", \"Topic2\", \"Topic2\", \"Topic2\", \"Topic2\", \"Topic2\", \"Topic2\", \"Topic2\", \"Topic2\", \"Topic2\", \"Topic2\", \"Topic2\", \"Topic2\", \"Topic2\", \"Topic2\", \"Topic2\", \"Topic2\", \"Topic2\", \"Topic2\", \"Topic3\", \"Topic3\", \"Topic3\", \"Topic3\", \"Topic3\", \"Topic3\", \"Topic3\", \"Topic3\", \"Topic3\", \"Topic3\", \"Topic3\", \"Topic3\", \"Topic3\", \"Topic3\", \"Topic3\", \"Topic3\", \"Topic3\", \"Topic3\", \"Topic3\", \"Topic3\", \"Topic3\", \"Topic3\", \"Topic3\", \"Topic3\", \"Topic3\", \"Topic3\", \"Topic3\", \"Topic3\", \"Topic3\", \"Topic3\", \"Topic3\", \"Topic3\", \"Topic3\", \"Topic3\", \"Topic3\", \"Topic3\", \"Topic3\", \"Topic3\", \"Topic3\", \"Topic3\", \"Topic3\", \"Topic3\", \"Topic3\", \"Topic3\", \"Topic3\", \"Topic3\", \"Topic3\", \"Topic3\", \"Topic3\", \"Topic3\", \"Topic3\", \"Topic3\", \"Topic3\", \"Topic3\", \"Topic3\", \"Topic3\", \"Topic3\", \"Topic3\", \"Topic3\", \"Topic3\", \"Topic3\", \"Topic3\", \"Topic3\", \"Topic3\", \"Topic3\", \"Topic3\", \"Topic3\", \"Topic3\", \"Topic3\", \"Topic3\", \"Topic3\", \"Topic3\", \"Topic3\", \"Topic3\", \"Topic3\", \"Topic4\", \"Topic4\", \"Topic4\", \"Topic4\", \"Topic4\", \"Topic4\", \"Topic4\", \"Topic4\", \"Topic4\", \"Topic4\", \"Topic4\", \"Topic4\", \"Topic4\", \"Topic4\", \"Topic4\", \"Topic4\", \"Topic4\", \"Topic4\", \"Topic4\", \"Topic4\", \"Topic4\", \"Topic4\", \"Topic4\", \"Topic4\", \"Topic4\", \"Topic4\", \"Topic4\", \"Topic4\", \"Topic4\", \"Topic4\", \"Topic4\", \"Topic4\", \"Topic4\", \"Topic4\", \"Topic4\", \"Topic4\", \"Topic4\", \"Topic4\", \"Topic4\", \"Topic4\", \"Topic4\", \"Topic4\", \"Topic4\", \"Topic4\", \"Topic5\", \"Topic5\", \"Topic5\", \"Topic5\", \"Topic5\", \"Topic5\", \"Topic5\", \"Topic5\", \"Topic5\", \"Topic5\", \"Topic5\", \"Topic5\", \"Topic5\", \"Topic5\", \"Topic5\", \"Topic5\", \"Topic5\", \"Topic5\", \"Topic5\", \"Topic5\", \"Topic5\", \"Topic5\", \"Topic5\", \"Topic5\", \"Topic5\", \"Topic5\", \"Topic5\", \"Topic5\", \"Topic5\", \"Topic5\", \"Topic5\", \"Topic5\", \"Topic5\", \"Topic5\", \"Topic5\", \"Topic5\", \"Topic5\", \"Topic5\", \"Topic5\", \"Topic5\", \"Topic5\", \"Topic5\", \"Topic5\"], \"logprob\": [30.0, 29.0, 28.0, 27.0, 26.0, 25.0, 24.0, 23.0, 22.0, 21.0, 20.0, 19.0, 18.0, 17.0, 16.0, 15.0, 14.0, 13.0, 12.0, 11.0, 10.0, 9.0, 8.0, 7.0, 6.0, 5.0, 4.0, 3.0, 2.0, 1.0, -6.3599, -7.02, -7.0684, -7.1724, -7.1826, -7.1927, -7.3289, -7.44, -7.5216, -7.5874, -7.5799, -7.6341, -7.6911, -7.708, -7.7426, -7.8547, -7.8547, -7.8848, -7.9589, -7.9699, -8.0151, -8.0504, -8.0998, -8.1384, -8.1923, -8.2202, -8.2347, -8.2206, -8.2491, -8.221, -6.9644, -6.3277, -5.3869, -6.1662, -6.3484, -6.9223, -5.4079, -6.5322, -6.7276, -6.2402, -7.3535, -5.8742, -3.6618, -5.4442, -6.1808, -6.9816, -5.6805, -5.7714, -6.1906, -6.3204, -5.5558, -3.6111, -6.5426, -6.8477, -5.6825, -5.0428, -4.1559, -5.3972, -5.4805, -4.8127, -5.8637, -4.9464, -6.1041, -5.1157, -5.8557, -5.8995, -5.0414, -4.8385, -5.1533, -5.0122, -5.2673, -5.2615, -5.2915, -4.9386, -5.5123, -5.2395, -5.3961, -5.5263, -5.5953, -5.6042, -5.6749, -4.3335, -4.589, -5.8135, -5.9903, -6.1786, -6.2007, -6.4277, -6.5818, -6.6149, -6.6285, -6.6669, -6.9251, -6.9484, -7.0068, -7.032, -7.063, -7.2169, -7.2547, -7.2873, -7.294, -7.3141, -7.3415, -7.3843, -7.3844, -7.3844, -7.4368, -7.4218, -7.4759, -7.4839, -7.5505, -6.8684, -6.435, -5.9242, -5.9668, -6.616, -4.6908, -4.8316, -5.1192, -5.961, -5.4135, -5.5023, -5.4374, -4.6564, -6.4547, -4.9544, -4.0878, -5.7846, -5.0642, -6.3221, -5.2075, -4.9457, -5.5056, -5.105, -4.8072, -4.7993, -5.2747, -5.6248, -5.4642, -5.8367, -5.2514, -4.9116, -5.6437, -5.2342, -5.6182, -5.5617, -5.7118, -5.6977, -5.7534, -5.6897, -5.8537, -6.2994, -6.8228, -7.0581, -7.0904, -7.1127, -7.2446, -7.3239, -7.3239, -7.4571, -7.7072, -7.771, -7.8608, -7.8383, -7.8846, -7.8846, -7.9096, -7.9342, -7.9348, -7.9602, -8.0137, -8.0425, -8.0705, -8.1307, -8.1308, -7.165, -8.1948, -8.1948, -8.1954, -5.6152, -5.9946, -6.6937, -6.7855, -6.978, -5.7716, -6.3769, -7.1206, -7.2184, -5.2844, -4.5908, -5.1146, -6.8991, -5.167, -6.7539, -6.0153, -2.9085, -4.1945, -4.7003, -5.3101, -4.6345, -3.9566, -4.9641, -3.7974, -5.0902, -5.7706, -5.1649, -4.2356, -4.5608, -4.6109, -4.9326, -4.5857, -5.6656, -5.4267, -4.6942, -5.3396, -5.3107, -5.5143, -4.6737, -5.0087, -4.7685, -5.3233, -5.2291, -5.3653, -5.4084, -4.4195, -4.691, -5.265, -5.2777, -5.7459, -5.9928, -5.9928, -6.1894, -6.2872, -6.4344, -6.4348, -6.4746, -6.5164, -6.5606, -6.6068, -6.6069, -6.6081, -6.6547, -6.7063, -6.7589, -6.8157, -6.816, -6.9386, -6.9395, -6.9403, -7.0062, -7.0062, -7.0063, -7.0086, -7.0086, -5.7299, -5.0415, -6.4411, -6.1641, -6.6152, -6.2335, -6.1342, -6.6117, -6.1221, -6.1815, -6.5532, -6.3737, -6.5312, -6.4431, -4.0735, -4.3128, -4.7742, -4.7742, -5.5378, -5.5762, -5.6363, -5.746, -5.8689, -5.9224, -5.9792, -5.9794, -6.2082, -6.2841, -6.2841, -6.3664, -6.411, -6.6095, -6.7253, -6.8566, -6.9289, -6.9294, -6.931, -6.9327, -7.0074, -7.01, -7.093, -7.0152, -7.0947, -7.0947, -5.0777, -6.464, -5.8214, -5.8303, -5.4427, -4.5574, -6.1565, -5.8386, -5.8722, -5.5795, -6.1934, -5.9452, -6.1984], \"loglift\": [30.0, 29.0, 28.0, 27.0, 26.0, 25.0, 24.0, 23.0, 22.0, 21.0, 20.0, 19.0, 18.0, 17.0, 16.0, 15.0, 14.0, 13.0, 12.0, 11.0, 10.0, 9.0, 8.0, 7.0, 6.0, 5.0, 4.0, 3.0, 2.0, 1.0, 0.8484, 0.8465, 0.8463, 0.846, 0.8459, 0.8459, 0.8452, 0.8446, 0.8441, 0.8438, 0.8437, 0.8432, 0.8428, 0.8428, 0.8425, 0.8416, 0.8416, 0.8413, 0.8405, 0.8404, 0.8401, 0.8398, 0.8391, 0.8387, 0.8381, 0.8379, 0.8376, 0.8376, 0.8375, 0.8372, 0.8279, 0.7956, 0.7554, 0.7732, 0.7776, 0.7934, 0.7221, 0.7707, 0.7798, 0.7498, 0.8031, 0.6971, 0.5294, 0.6247, 0.6864, 0.7524, 0.5865, 0.5871, 0.638, 0.6531, 0.5283, 0.2087, 0.6769, 0.7306, 0.5245, 0.3699, 0.1591, 0.4246, 0.4138, 0.1866, 0.4829, 0.1905, 0.5449, 0.2154, 0.4585, 0.4727, 0.149, -0.0076, 0.1285, 0.0539, 0.1443, 0.0917, 0.0978, -0.3283, 0.0988, -0.3497, -0.2266, -0.0908, -0.015, -0.1637, -0.0566, 1.0092, 1.0092, 1.0082, 1.0079, 1.0077, 1.0076, 1.0071, 1.0067, 1.0066, 1.0066, 1.0064, 1.0055, 1.0055, 1.005, 1.005, 1.005, 1.0043, 1.004, 1.0038, 1.0037, 1.0036, 1.0036, 1.0033, 1.0032, 1.0032, 1.0028, 1.0028, 1.0027, 1.0026, 1.0021, 0.9927, 0.9779, 0.9164, 0.9162, 0.9503, 0.7862, 0.7868, 0.7047, 0.7725, 0.6741, 0.6832, 0.6436, 0.4098, 0.8263, 0.4574, 0.2273, 0.63, 0.3763, 0.7873, 0.3727, 0.2238, 0.4174, 0.2261, 0.0238, -0.189, 0.1145, 0.3383, 0.1541, 0.4644, -0.1145, -0.7205, 0.2513, -0.3444, 0.0174, -0.149, 0.1305, -0.5073, -0.1423, 1.7505, 1.7501, 1.7484, 1.7453, 1.7433, 1.743, 1.7427, 1.7409, 1.7404, 1.7404, 1.7385, 1.7346, 1.7326, 1.7313, 1.7311, 1.731, 1.731, 1.7301, 1.7301, 1.7295, 1.7293, 1.7282, 1.7268, 1.7267, 1.7252, 1.725, 1.7236, 1.7233, 1.7233, 1.7227, 1.6373, 1.6514, 1.6621, 1.6617, 1.6654, 1.596, 1.6123, 1.6572, 1.6567, 1.4513, 1.3468, 1.3937, 1.5999, 1.3393, 1.5716, 1.4487, 0.9113, 1.0873, 1.1515, 1.2718, 1.0945, 0.9332, 1.1627, 0.8129, 1.1418, 1.2972, 1.0859, 0.7637, 0.8509, 0.8246, 0.9255, 0.7675, 1.1502, 0.9922, 0.4962, 0.9059, 0.871, 1.0243, 0.1572, 0.1608, -0.5773, 0.5717, -0.0922, 0.2704, 0.2027, 3.9334, 3.9314, 3.925, 3.9244, 3.9154, 3.909, 3.909, 3.9023, 3.8983, 3.8918, 3.8913, 3.8902, 3.8885, 3.886, 3.8833, 3.8832, 3.8816, 3.881, 3.8768, 3.8746, 3.8704, 3.8699, 3.8622, 3.861, 3.86, 3.8574, 3.8574, 3.8572, 3.8542, 3.8542, 3.7475, 3.5394, 3.4762, 3.2613, 3.5687, 3.1218, 2.7112, 3.126, 1.8911, 1.3077, 2.7272, 1.2712, 2.3134, 1.0117, 4.1503, 4.1486, 4.1446, 4.1446, 4.1313, 4.1303, 4.129, 4.1255, 4.1215, 4.1199, 4.1179, 4.1177, 4.1079, 4.1047, 4.1047, 4.1007, 4.0975, 4.0849, 4.077, 4.0665, 4.0608, 4.0602, 4.058, 4.0556, 4.0534, 4.0499, 4.0442, 4.0431, 4.0419, 4.0419, 3.9882, 3.9671, 3.8767, 3.4735, 2.8674, 1.8597, 3.2382, 2.3678, 1.7728, 1.1113, 2.4635, 1.2827, 1.1769]}, \"token.table\": {\"Topic\": [5, 1, 2, 5, 2, 5, 4, 1, 3, 2, 4, 3, 1, 2, 3, 3, 1, 5, 3, 4, 4, 1, 2, 3, 1, 3, 1, 2, 1, 2, 3, 2, 2, 2, 1, 2, 3, 1, 2, 1, 3, 1, 2, 5, 4, 3, 1, 2, 3, 1, 1, 2, 3, 2, 3, 5, 1, 2, 3, 1, 3, 3, 1, 1, 3, 4, 2, 1, 2, 2, 1, 1, 2, 3, 4, 3, 3, 4, 1, 2, 5, 1, 3, 1, 2, 3, 1, 2, 3, 1, 2, 3, 1, 2, 1, 2, 3, 1, 2, 3, 1, 2, 3, 1, 2, 2, 2, 1, 2, 1, 1, 2, 3, 1, 2, 4, 4, 5, 3, 3, 1, 1, 5, 1, 2, 3, 2, 1, 2, 3, 1, 1, 2, 3, 5, 1, 2, 3, 1, 2, 3, 1, 2, 3, 1, 2, 3, 1, 2, 1, 1, 3, 2, 1, 2, 3, 1, 2, 3, 5, 1, 2, 3, 2, 1, 3, 5, 2, 4, 4, 1, 2, 3, 1, 2, 3, 1, 5, 5, 5, 4, 1, 2, 3, 1, 2, 3, 5, 1, 5, 2, 4, 1, 2, 3, 2, 4, 5, 1, 2, 4, 3, 1, 2, 3, 4, 1, 2, 5, 5, 4, 5, 1, 2, 3, 4, 5, 1, 2, 3, 1, 2, 3, 1, 3, 1, 3, 4, 1, 2, 3, 1, 2, 3, 1, 2, 3, 2, 3, 4, 1, 2, 3, 5, 5, 5, 5, 1, 1, 3, 2, 5, 5, 5, 4, 4, 5, 5, 1, 3, 1, 2, 3, 5, 1, 2, 3, 1, 2, 3, 1, 2, 3, 1, 2, 3, 1, 3, 1, 2, 1, 2, 3, 4, 2, 5, 5, 4, 2, 2, 5, 1, 4, 1, 2, 4, 2, 3, 1, 2, 3, 5, 1, 5, 1, 2, 3, 1, 2, 3, 4, 3, 3, 1, 2, 3, 3, 1, 2, 2, 1, 2, 3, 1, 2, 3, 4, 2, 2, 1, 3, 3, 3, 1, 2, 1, 2, 3, 1, 2, 3, 3, 5, 3, 2, 2, 2, 4, 2, 3, 1, 2, 3, 1, 2, 3, 4, 3, 2, 1, 2, 3, 2, 4, 4, 4, 1, 2, 1, 1, 4, 1, 2, 3, 1, 2, 1, 2, 2, 5, 2, 1, 3, 1, 2, 3, 1, 1, 2, 4, 1, 2, 1, 2, 3, 3, 1, 3, 5, 1, 2, 3, 1, 2, 5, 1, 2, 3, 1, 2, 3, 1, 2, 3, 1, 3, 1, 5, 1, 2, 1, 2, 4, 2, 2, 4, 4, 1, 2, 3, 4, 1, 3, 1, 2, 3, 1, 2, 3, 5, 1, 1, 1, 2, 3, 2, 1, 2, 4, 3, 4, 1, 2, 1, 1, 2, 3, 3, 1, 3, 1, 2, 3, 2, 4, 2, 4, 4, 1, 2, 3, 1, 2, 1, 1, 2, 3, 1, 1, 2, 1, 1, 2, 3, 1, 2, 4, 5], \"Freq\": [0.9094235559883128, 0.6471787136316212, 0.16669754745056908, 0.18630902362122426, 0.9974360589841629, 0.9802660446834015, 0.9573868939684682, 0.09277337453673372, 0.9027562983766781, 0.3458179683720479, 0.6224723430696862, 0.9666055806098894, 0.6462377293188506, 0.20179453999803187, 0.15165540582674175, 0.969070914012693, 0.5946783800843063, 0.38961686971040754, 0.9719048290955543, 0.9911836104131821, 0.9469143489096405, 0.3633673485961906, 0.5112339886271222, 0.12532195051948908, 0.14316014504454527, 0.8535586006429491, 0.9319276119988628, 0.06523493283992039, 0.7982715983263163, 0.04717394486877585, 0.15478950660067076, 0.9957727561103964, 0.9998405344559889, 0.9929841898590731, 0.08803495849508938, 0.6938348423765519, 0.21784921932683135, 0.879885841450228, 0.11987759015305866, 0.9079267482697128, 0.08962367043005749, 0.988054844026827, 0.11561095839635738, 0.8092767087745016, 0.9203256348687034, 0.9959037247639664, 0.22423278573446068, 0.46828725418577977, 0.3066166545264034, 0.9933993805201022, 0.49356342327400604, 0.10046995380887275, 0.4056999655704291, 0.07950590423979886, 0.9143178987576869, 0.9420587571067965, 0.1520557807864846, 0.6842510135391807, 0.1635120382430006, 0.9291475904931086, 0.06788292898579788, 0.976805317732615, 0.9940054040048588, 0.13397655733981784, 0.8541005530413387, 0.8902046039205287, 0.9981863499654218, 0.9456428983309221, 0.05288830527577864, 0.9894243047488707, 0.9905973564366956, 0.9804299736593566, 0.996270862593834, 0.9694316186216405, 0.9194785833762105, 0.963749799573648, 0.9856663152574847, 0.9697673249593364, 0.6754435721466872, 0.32406218803132547, 0.9455615900710062, 0.4563937299598088, 0.5422929300853242, 0.39004286829606233, 0.21438665178158692, 0.3951286830281073, 0.7372719792887613, 0.15798685270473456, 0.10532456846982303, 0.5387929661209848, 0.047030932724190094, 0.41420224960602503, 0.9813266154281696, 0.9979692292872737, 0.36291627268530247, 0.530809282909164, 0.10616185658183279, 0.31832370237115504, 0.1992470581508341, 0.4822014602585275, 0.7682559454210396, 0.21295515680091973, 0.018869444273499215, 0.45077778538537105, 0.5489375550883643, 0.9962634917880029, 0.9958152078022421, 0.8083129219487876, 0.19065470478714092, 0.9964880067084186, 0.16065985677376596, 0.8012127922224173, 0.037556849635425806, 0.21059544518026016, 0.7893747639069615, 0.9534250344928746, 0.8950855581085531, 0.9588930136235811, 0.994364221657451, 0.9873745072311538, 0.9933126201650235, 0.9877894627177438, 0.9520798987760263, 0.028262069744929584, 0.9693889922510847, 0.9866333890480963, 0.9962657595118122, 0.26932992666729, 0.18271721897252274, 0.5481516569175682, 0.9964149256110485, 0.1027298909988093, 0.23627874929726142, 0.6608956320923399, 0.8673149657905137, 0.9090368068910823, 0.09042774518811814, 0.9987965630657445, 0.14436106920936556, 0.7996950754789995, 0.05586854938328554, 0.7218464566588318, 0.16586389859921574, 0.11170425824028817, 0.27021137127207695, 0.21197163882314388, 0.5178614047486213, 0.08770530079890428, 0.9105404864758971, 0.9923330367780618, 0.07739218343051163, 0.9190321782373255, 0.9918771332412784, 0.42404141810620827, 0.37317354637774175, 0.20283029525342322, 0.40453500740069864, 0.5529706872815849, 0.04268322125330206, 0.9364521699637014, 0.3077083973020435, 0.30170851211788113, 0.39067823813446084, 0.9966281006342201, 0.37435487642064164, 0.3466248855746682, 0.27729990845973457, 0.48637509395538847, 0.5075218371708401, 0.9198081792248611, 0.2669554895745631, 0.06657727706096853, 0.6664191519403743, 0.1240819216016779, 0.24015855793873142, 0.6344188572214822, 0.994270274999466, 0.909588193193207, 0.9802671060313193, 0.9938201631285478, 0.9496645128134789, 0.5264120070174568, 0.0426106026359773, 0.4309269339572741, 0.6928140762866166, 0.06032931563169976, 0.2471555833943829, 0.9370255239273021, 0.9893541654765609, 0.9026630468700689, 0.9970306648019317, 0.9201066100273135, 0.8482674412658077, 0.045852294122476094, 0.10480524370851678, 0.8376427598021183, 0.06772430823932021, 0.09267536916959607, 0.5209823503060528, 0.18944812738401917, 0.29601269903752997, 0.9942808190119248, 0.34065457811240907, 0.4558054214180121, 0.20361307969923043, 0.9200830785830938, 0.08818415279151365, 0.9101270108859993, 0.9938201631285478, 0.9797658863404828, 0.9637747127082216, 0.9369019250284903, 0.9945932427052849, 0.16190951972967854, 0.8306662316566116, 0.9422284608951208, 0.8680928739896299, 0.4209613956101636, 0.5290277474370477, 0.050189811936335295, 0.41017758038777785, 0.41487875609422803, 0.17453114810196277, 0.48579828250560514, 0.5139799508277535, 0.11567633612878166, 0.8700872239251838, 0.010058811837285362, 0.10145951052559904, 0.43094142614996706, 0.4675505278860079, 0.1841472868879677, 0.1178085127295694, 0.6977009006314304, 0.16595755460507083, 0.8322647514522956, 0.9925022910832794, 0.25608203323582357, 0.4389977712614118, 0.29266518084094123, 0.31052432972733657, 0.5801412627241258, 0.10970620032283149, 0.9579877274286043, 0.9713360238673621, 0.8658767897399082, 0.9364521699637014, 0.9937980233095332, 0.10833299070000683, 0.8907379235333895, 0.9943165964432886, 0.952039583470778, 0.9083687638194377, 0.9420688918764283, 0.890789685126516, 0.890174735951861, 0.9673797282547654, 0.9217261182922893, 0.08852368518235228, 0.9073677731191108, 0.6223117003629989, 0.20256454676245264, 0.07413444752646463, 0.10023812623296625, 0.5169361902935095, 0.32508059131315586, 0.15789628720924712, 0.6183417109318196, 0.3139508625077451, 0.06730249914904159, 0.4678916756758883, 0.10290098882345664, 0.4283143722822511, 0.5300906356542519, 0.45678022859568507, 0.013040793563302738, 0.9259499842899704, 0.07393516984824859, 0.9450099200148608, 0.05356331530448604, 0.5009262027233015, 0.45741732979190924, 0.041722584893153225, 0.9534243058169153, 0.14760133339388357, 0.8413276003451363, 0.9919888918956284, 0.9738223997872351, 0.998811472139345, 0.22220743567449824, 0.7499500954014315, 0.9923743472809203, 0.9368595526637461, 0.9944954427644869, 0.2708909865134024, 0.6772274662835059, 0.9942555677751557, 0.9962193878915601, 0.7457924986397376, 0.07349050169077706, 0.1279279103506119, 0.05171553822684312, 0.9974117093319046, 0.9275374780872271, 0.23364948725552948, 0.737293937561893, 0.028845615710559193, 0.18713059267071036, 0.18713059267071036, 0.618023404741425, 0.007386733921212251, 0.969073140917196, 0.9743528074228441, 0.40191689086166726, 0.3708531597011341, 0.22700418925004986, 0.9888351894387165, 0.19917525106343018, 0.800459027858691, 0.9970871256772612, 0.6858570021134278, 0.12678870344746046, 0.18668887830452838, 0.3399829235266071, 0.4945206160387012, 0.03605879491948863, 0.1287814104267451, 0.9948524380759074, 0.9973787096343959, 0.9966759601791136, 0.9756444104768417, 0.987381203049962, 0.9971973935407012, 0.9241669750822029, 0.07595892945881119, 0.4039601066845619, 0.4250975541273587, 0.17097846375951223, 0.18274373476041908, 0.2631822163002617, 0.5544788533328955, 0.9832331491462459, 0.9089038769426964, 0.9666933179679352, 0.9994306756913531, 0.9952967674173775, 0.5519966231703974, 0.43371163249102657, 0.9906752349434664, 0.9719272749177822, 0.725391208480697, 0.17731785096194816, 0.09728245733004531, 0.49604198372912184, 0.21954450761344466, 0.2844586437557742, 0.9809773019790439, 0.9756029355432319, 0.9926303719546252, 0.8408070843122095, 0.02794926596051666, 0.13042990781574443, 0.9951529626504865, 0.9198356761942801, 0.8908225020398052, 0.919872499228962, 0.9513328650850529, 0.041620812847471066, 0.9950472993420888, 0.994258942774206, 0.9394270555937662, 0.4710361143404054, 0.4086546463825563, 0.1202804352241162, 0.9829712560550425, 0.9923082954999063, 0.8575882488559304, 0.141307154641034, 0.982197261148337, 0.013272935961464014, 0.9958253894964474, 0.07982196143982136, 0.9143242855834083, 0.6534747066883325, 0.15487638422833608, 0.19172429720459447, 0.9859796712529705, 0.3995783446937954, 0.5276874323055466, 0.07320519292100068, 0.8869363918400661, 0.11003346214557211, 0.05600929254415831, 0.942273980448781, 0.98425526397706, 0.9914809715716885, 0.6553403973040236, 0.28656461817595297, 0.05637336751002354, 0.3012724575775208, 0.25820115062512883, 0.4404607863605139, 0.2808581195060621, 0.2059626209711122, 0.5055446151109118, 0.245511988376529, 0.014357426220849649, 0.7394074503737569, 0.5149572371095393, 0.11331082624021298, 0.37180114860069885, 0.468409947879692, 0.15817843624552674, 0.37328669692566224, 0.7681073765131966, 0.23043221295395896, 0.8311597558791046, 0.16873167976493103, 0.8214386542076775, 0.17849443040432902, 0.4045551299003096, 0.1444839749643963, 0.4334519248931889, 0.9960542645845302, 0.7925986534642063, 0.20110712102823144, 0.8908225020398052, 0.4714668216839211, 0.31617656290969187, 0.2121833866134363, 0.9369701930453341, 0.08537502430557406, 0.9025359712303543, 0.32131848502845195, 0.5757752163351689, 0.1027760671494097, 0.42422043278753346, 0.42284755112802686, 0.10571188778200671, 0.048050858082730324, 0.9914030173232385, 0.9884848121276462, 0.22307297641902474, 0.03866598257929762, 0.7376279753589084, 0.992730528277269, 0.9035578858588554, 0.09442920528442957, 0.9858855403677209, 0.96907062690076, 0.9627691909796179, 0.9948190119408838, 0.9983250852626967, 0.9936493672165954, 0.39353861930189, 0.059108567325975574, 0.5475319920721947, 0.9814720908200548, 0.024723443273048894, 0.9765760092854312, 0.724372976751487, 0.13769073111805125, 0.13769073111805125, 0.32715177331373685, 0.6724786451449035, 0.15593217974737664, 0.8242129500932766, 0.9946620126550539, 0.3820738035990001, 0.18029107607327816, 0.43699691286635634, 0.28462583219377013, 0.7149440428719503, 0.9813445061721706, 0.23688333465954212, 0.7214174282813328, 0.041413170395024845, 0.9812739555650248, 0.9789046291371825, 0.02065199639529921, 0.9893677759297471, 0.10344286121327478, 0.3828269991910084, 0.5127936709717895, 0.3860703874706428, 0.5570023147477213, 0.05304783949978298, 0.9919417316201344], \"Term\": [\"42nd\", \"5th\", \"5th\", \"5th\", \"activities\", \"affinia\", \"alila\", \"amsterdam\", \"amsterdam\", \"aqua\", \"aqua\", \"arc\", \"area\", \"area\", \"area\", \"arno\", \"avenue\", \"avenue\", \"bahn\", \"bali\", \"balinese\", \"bar\", \"bar\", \"bar\", \"barcelona\", \"barcelona\", \"bath\", \"bath\", \"bathroom\", \"bathroom\", \"bathroom\", \"bavaro\", \"beach\", \"beaches\", \"beautiful\", \"beautiful\", \"beautiful\", \"bed\", \"bed\", \"bedroom\", \"bedroom\", \"beijing\", \"benjamin\", \"benjamin\", \"benoa\", \"berlin\", \"best\", \"best\", \"best\", \"boston\", \"breakfast\", \"breakfast\", \"breakfast\", \"brilliant\", \"brilliant\", \"bryant\", \"buffet\", \"buffet\", \"buffet\", \"business\", \"business\", \"bustle\", \"cable\", \"cafes\", \"cafes\", \"camper\", \"cana\", \"car\", \"car\", \"caribbean\", \"carpet\", \"cars\", \"carte\", \"casablanca\", \"casitas\", \"castle\", \"catalunya\", \"cayena\", \"check\", \"check\", \"chrysler\", \"city\", \"city\", \"clean\", \"clean\", \"clean\", \"coffee\", \"coffee\", \"coffee\", \"comfortable\", \"comfortable\", \"comfortable\", \"convention\", \"country\", \"day\", \"day\", \"day\", \"definitely\", \"definitely\", \"definitely\", \"desk\", \"desk\", \"desk\", \"did\", \"did\", \"disco\", \"dominican\", \"door\", \"door\", \"downtown\", \"drink\", \"drink\", \"drink\", \"drinks\", \"drinks\", \"dua\", \"duke\", \"dumont\", \"duomo\", \"eiffel\", \"elevator\", \"elevators\", \"empire\", \"entertainment\", \"entertainment\", \"europa\", \"excellence\", \"excellent\", \"excellent\", \"excellent\", \"executive\", \"fantastic\", \"fantastic\", \"fantastic\", \"ferries\", \"floor\", \"floor\", \"florence\", \"food\", \"food\", \"food\", \"free\", \"free\", \"free\", \"friendly\", \"friendly\", \"friendly\", \"fun\", \"fun\", \"garage\", \"gem\", \"gem\", \"golf\", \"good\", \"good\", \"good\", \"got\", \"got\", \"got\", \"gras\", \"great\", \"great\", \"great\", \"grounds\", \"harbour\", \"harbour\", \"harbour\", \"hawaii\", \"hawaii\", \"hawaiian\", \"helpful\", \"helpful\", \"helpful\", \"highly\", \"highly\", \"highly\", \"hilton\", \"hix\", \"hk\", \"hong\", \"honolulu\", \"hotel\", \"hotel\", \"hotel\", \"hotels\", \"hotels\", \"hotels\", \"hudson\", \"hyatt\", \"ic\", \"inclusive\", \"indonesian\", \"internet\", \"internet\", \"internet\", \"island\", \"island\", \"island\", \"it__\\u00e7_\\u00e9_\", \"it__\\u00e7_\\u00e9_\", \"it__\\u00e7_\\u00e9_\", \"italy\", \"just\", \"just\", \"just\", \"kahala\", \"kids\", \"kids\", \"kong\", \"kowloon\", \"kuta\", \"langham\", \"laptop\", \"las\", \"las\", \"legian\", \"lexington\", \"like\", \"like\", \"like\", \"little\", \"little\", \"little\", \"location\", \"location\", \"london\", \"london\", \"london\", \"loved\", \"loved\", \"loved\", \"lovely\", \"lovely\", \"lovely\", \"lunch\", \"lunch\", \"madrid\", \"magnificent\", \"magnificent\", \"magnificent\", \"make\", \"make\", \"make\", \"mandarin\", \"manhattan\", \"mansion\", \"mardi\", \"marriott\", \"metro\", \"metro\", \"mexican\", \"midtown\", \"milano\", \"millenium\", \"moana\", \"monkey\", \"mtr\", \"muse\", \"museums\", \"museums\", \"new\", \"new\", \"new\", \"new\", \"nice\", \"nice\", \"nice\", \"night\", \"night\", \"night\", \"nights\", \"nights\", \"nights\", \"no\", \"no\", \"no\", \"noise\", \"noise\", \"noisy\", \"noisy\", \"not\", \"not\", \"not\", \"nusa\", \"ny\", \"ny\", \"nyc\", \"oahu\", \"ocean\", \"oriental\", \"oriental\", \"orleans\", \"outrigger\", \"overpriced\", \"palms\", \"palms\", \"paradise\", \"paris\", \"park\", \"park\", \"park\", \"park\", \"parking\", \"peninsula\", \"people\", \"people\", \"people\", \"perfect\", \"perfect\", \"perfect\", \"perfect\", \"piazza\", \"placa\", \"place\", \"place\", \"place\", \"ponte\", \"pool\", \"pool\", \"pools\", \"price\", \"price\", \"price\", \"private\", \"private\", \"private\", \"private\", \"puerto\", \"punta\", \"quarter\", \"railway\", \"rambla\", \"ramblas\", \"rate\", \"rate\", \"really\", \"really\", \"really\", \"recommend\", \"recommend\", \"recommend\", \"recommending\", \"regis\", \"residence\", \"resort\", \"resorts\", \"rice\", \"rice\", \"riu\", \"rome\", \"room\", \"room\", \"room\", \"rooms\", \"rooms\", \"rooms\", \"rs\", \"rue\", \"rum\", \"san\", \"san\", \"san\", \"sand\", \"sanur\", \"sari\", \"scottsdale\", \"screen\", \"screen\", \"seasons\", \"seattle\", \"seminyak\", \"service\", \"service\", \"service\", \"sf\", \"shade\", \"shower\", \"shower\", \"shows\", \"shows\", \"sick\", \"sights\", \"sights\", \"small\", \"small\", \"small\", \"sofa\", \"spa\", \"spa\", \"spa\", \"space\", \"space\", \"spanish\", \"spanish\", \"splendid\", \"spotlessly\", \"square\", \"square\", \"square\", \"staff\", \"staff\", \"staff\", \"state\", \"state\", \"state\", \"station\", \"station\", \"station\", \"stay\", \"stay\", \"stay\", \"stayed\", \"stayed\", \"stayed\", \"street\", \"street\", \"subway\", \"subway\", \"suite\", \"suite\", \"sunset\", \"sunset\", \"sunset\", \"swim\", \"team\", \"team\", \"tegal\", \"the\", \"the\", \"the\", \"there__\\u00e7_\\u00e9_\", \"thoroughly\", \"thoroughly\", \"time\", \"time\", \"time\", \"times\", \"times\", \"times\", \"times\", \"toiletries\", \"tokyo\", \"train\", \"train\", \"train\", \"tropical\", \"tv\", \"tv\", \"ubud\", \"uffizi\", \"uma\", \"union\", \"vacation\", \"valet\", \"value\", \"value\", \"value\", \"vecchio\", \"venice\", \"venice\", \"view\", \"view\", \"view\", \"villa\", \"villa\", \"villas\", \"villas\", \"waikiki\", \"walk\", \"walk\", \"walk\", \"water\", \"water\", \"web\", \"went\", \"went\", \"went\", \"wharf\", \"window\", \"window\", \"wireless\", \"wonderful\", \"wonderful\", \"wonderful\", \"yes\", \"yes\", \"yes\", \"york\"]}, \"R\": 30, \"lambda.step\": 0.01, \"plot.opts\": {\"xlab\": \"PC1\", \"ylab\": \"PC2\"}, \"topic.order\": [3, 1, 4, 2, 5]};\n",
       "\n",
       "function LDAvis_load_lib(url, callback){\n",
       "  var s = document.createElement('script');\n",
       "  s.src = url;\n",
       "  s.async = true;\n",
       "  s.onreadystatechange = s.onload = callback;\n",
       "  s.onerror = function(){console.warn(\"failed to load library \" + url);};\n",
       "  document.getElementsByTagName(\"head\")[0].appendChild(s);\n",
       "}\n",
       "\n",
       "if(typeof(LDAvis) !== \"undefined\"){\n",
       "   // already loaded: just create the visualization\n",
       "   !function(LDAvis){\n",
       "       new LDAvis(\"#\" + \"ldavis_el1227622454436696802962336319\", ldavis_el1227622454436696802962336319_data);\n",
       "   }(LDAvis);\n",
       "}else if(typeof define === \"function\" && define.amd){\n",
       "   // require.js is available: use it to load d3/LDAvis\n",
       "   require.config({paths: {d3: \"https://d3js.org/d3.v5\"}});\n",
       "   require([\"d3\"], function(d3){\n",
       "      window.d3 = d3;\n",
       "      LDAvis_load_lib(\"https://cdn.jsdelivr.net/gh/bmabey/pyLDAvis@3.4.0/pyLDAvis/js/ldavis.v3.0.0.js\", function(){\n",
       "        new LDAvis(\"#\" + \"ldavis_el1227622454436696802962336319\", ldavis_el1227622454436696802962336319_data);\n",
       "      });\n",
       "    });\n",
       "}else{\n",
       "    // require.js not available: dynamically load d3 & LDAvis\n",
       "    LDAvis_load_lib(\"https://d3js.org/d3.v5.js\", function(){\n",
       "         LDAvis_load_lib(\"https://cdn.jsdelivr.net/gh/bmabey/pyLDAvis@3.4.0/pyLDAvis/js/ldavis.v3.0.0.js\", function(){\n",
       "                 new LDAvis(\"#\" + \"ldavis_el1227622454436696802962336319\", ldavis_el1227622454436696802962336319_data);\n",
       "            })\n",
       "         });\n",
       "}\n",
       "</script>"
      ],
      "text/plain": [
       "PreparedData(topic_coordinates=                x           y  topics  cluster       Freq\n",
       "topic                                                    \n",
       "2      181.001282 -136.044388       1        1  42.724305\n",
       "0      115.147934 -273.949707       2        1  36.438558\n",
       "3       85.963814  -23.304464       3        1  17.325627\n",
       "1      -63.121109  -58.419235       4        1   1.944869\n",
       "4      -11.618972 -197.294067       5        1   1.566641, topic_info=           Term          Freq         Total Category  logprob  loglift\n",
       "12269     hotel  12860.000000  12860.000000  Default  30.0000  30.0000\n",
       "3193      beach   2804.000000   2804.000000  Default  29.0000  29.0000\n",
       "14564  location   2980.000000   2980.000000  Default  28.0000  28.0000\n",
       "11271     great   5833.000000   5833.000000  Default  27.0000  27.0000\n",
       "22945     staff   4411.000000   4411.000000  Default  26.0000  26.0000\n",
       "...         ...           ...           ...      ...      ...      ...\n",
       "13268    island     25.875845    280.549193   Topic5  -5.8722   1.7728\n",
       "24608     times     34.671807    728.394901   Topic5  -5.5795   1.1113\n",
       "828         5th     18.766622    101.981104   Topic5  -6.1934   2.4635\n",
       "22907    square     24.053410    425.732949   Topic5  -5.9452   1.2827\n",
       "17770      park     18.673457    367.394417   Topic5  -6.1984   1.1769\n",
       "\n",
       "[341 rows x 6 columns], token_table=       Topic      Freq        Term\n",
       "term                              \n",
       "703        5  0.909424        42nd\n",
       "828        1  0.647179         5th\n",
       "828        2  0.166698         5th\n",
       "828        5  0.186309         5th\n",
       "1286       2  0.997436  activities\n",
       "...      ...       ...         ...\n",
       "27026      3  0.512794   wonderful\n",
       "27264      1  0.386070         yes\n",
       "27264      2  0.557002         yes\n",
       "27264      4  0.053048         yes\n",
       "27300      5  0.991942        york\n",
       "\n",
       "[488 rows x 3 columns], R=30, lambda_step=0.01, plot_opts={'xlab': 'PC1', 'ylab': 'PC2'}, topic_order=[3, 1, 4, 2, 5])"
      ]
     },
     "execution_count": 31,
     "metadata": {},
     "output_type": "execute_result"
    }
   ],
   "source": [
    "# Topic Model Visualization\n",
    "#prepare to display result in the Jupyter notebook\n",
    "pyLDAvis.enable_notebook()\n",
    "\n",
    "#run the visualization [mds is a function to use for visualizing the \"distance\" between topics]\n",
    "pyLDAvis.lda_model.prepare(lda_positive_corpus, bow_positive_corpus, bow_vectorizer, mds='tsne')"
   ]
  },
  {
   "cell_type": "code",
   "execution_count": 32,
   "id": "6172df58",
   "metadata": {},
   "outputs": [],
   "source": [
    "#tokenizing the corpus\n",
    "news_corpus_tokenized = [tokenize_text(positive_corpus[doc_id]) for doc_id in range(len(positive_corpus))]\n",
    "\n",
    "#Dictionary of the corpus:\n",
    "news_dictionary = Dictionary(news_corpus_tokenized)\n",
    "\n",
    "#Bag-of-words representation for each document of the corpus:\n",
    "news_corpus_bow = [news_dictionary.doc2bow(doc) for doc in news_corpus_tokenized]"
   ]
  },
  {
   "cell_type": "code",
   "execution_count": 33,
   "id": "df7f4f8c",
   "metadata": {},
   "outputs": [
    {
     "name": "stdout",
     "output_type": "stream",
     "text": [
      "Coherence score for the model:  -3.6363\n"
     ]
    }
   ],
   "source": [
    "#top 15 words for each topic (using the function defined in session prep)\n",
    "topic_topwords_5_positive = get_topic_words(vectorizer = bow_vectorizer, lda_model = lda_positive_corpus, n_words=15)\n",
    "cm_5 = CoherenceModel(topics=topic_topwords_5_positive, \n",
    "                    corpus = news_corpus_bow , \n",
    "                    dictionary = news_dictionary, coherence='u_mass')\n",
    "print(\"Coherence score for the model: \", np.round(cm_5.get_coherence(), 4))  # get coherence value"
   ]
  },
  {
   "cell_type": "code",
   "execution_count": 34,
   "id": "f60f16c9",
   "metadata": {},
   "outputs": [
    {
     "name": "stdout",
     "output_type": "stream",
     "text": [
      "Log-Likelihood (higher values are better):  -4556583.7995051835\n"
     ]
    }
   ],
   "source": [
    "print(\"Log-Likelihood (higher values are better): \", lda_positive_corpus.score(bow_positive_corpus))"
   ]
  },
  {
   "cell_type": "code",
   "execution_count": 35,
   "id": "c57c8e51",
   "metadata": {},
   "outputs": [
    {
     "name": "stdout",
     "output_type": "stream",
     "text": [
      "Perplexity (lower values are better):  2370.478293844522\n"
     ]
    }
   ],
   "source": [
    "print(\"Perplexity (lower values are better): \", lda_positive_corpus.perplexity(bow_positive_corpus))"
   ]
  },
  {
   "cell_type": "code",
   "execution_count": 36,
   "id": "0f3e8fb1",
   "metadata": {},
   "outputs": [
    {
     "name": "stdout",
     "output_type": "stream",
     "text": [
      "Topic 0:\n",
      "not beach resort did food room great good pool just time no day people like\n",
      "Topic 1:\n",
      "paris orleans french quarter kong hong st eiffel new bourbon hk pacific arc mtr charles\n",
      "Topic 2:\n",
      "bali ubud villa kuta dua nusa balinese villas rice alila seminyak sanur uma sunset legian\n",
      "Topic 3:\n",
      "hotel room great not stay staff location good rooms breakfast stayed nice clean just night\n"
     ]
    },
    {
     "data": {
      "text/html": [
       "\n",
       "<link rel=\"stylesheet\" type=\"text/css\" href=\"https://cdn.jsdelivr.net/gh/bmabey/pyLDAvis@3.4.0/pyLDAvis/js/ldavis.v1.0.0.css\">\n",
       "\n",
       "\n",
       "<div id=\"ldavis_el1227622454703469282468167140\" style=\"background-color:white;\"></div>\n",
       "<script type=\"text/javascript\">\n",
       "\n",
       "var ldavis_el1227622454703469282468167140_data = {\"mdsDat\": {\"x\": [218.72792053222656, 87.08304595947266, 118.57328796386719, 250.1895294189453], \"y\": [-316.4313049316406, -285.0401306152344, -153.06045532226562, -184.47415161132812], \"topics\": [1, 2, 3, 4], \"cluster\": [1, 1, 1, 1], \"Freq\": [57.482394537438196, 39.27028783316274, 1.9753572137402642, 1.2719604156588065]}, \"tinfo\": {\"Term\": [\"hotel\", \"beach\", \"resort\", \"location\", \"new\", \"food\", \"paris\", \"pool\", \"french\", \"not\", \"home\", \"people\", \"city\", \"did\", \"vacation\", \"st\", \"room\", \"stay\", \"street\", \"tower\", \"bali\", \"orleans\", \"ocean\", \"water\", \"breakfast\", \"villa\", \"time\", \"went\", \"experience\", \"quarter\", \"location\", \"city\", \"street\", \"modern\", \"noise\", \"business\", \"square\", \"parking\", \"metro\", \"central\", \"barcelona\", \"weekend\", \"florence\", \"amsterdam\", \"blocks\", \"euros\", \"tea\", \"centre\", \"inn\", \"hilton\", \"london\", \"ramblas\", \"seattle\", \"marriott\", \"elevator\", \"courtyard\", \"subway\", \"attractions\", \"ideal\", \"harbour\", \"downtown\", \"hotel\", \"station\", \"distance\", \"views\", \"comfortable\", \"helpful\", \"bathroom\", \"breakfast\", \"stay\", \"hotels\", \"located\", \"room\", \"stayed\", \"nights\", \"value\", \"internet\", \"floor\", \"small\", \"quiet\", \"rooms\", \"staff\", \"great\", \"clean\", \"walk\", \"view\", \"excellent\", \"bed\", \"friendly\", \"price\", \"good\", \"nice\", \"area\", \"not\", \"night\", \"the\", \"just\", \"service\", \"place\", \"did\", \"no\", \"really\", \"day\", \"beach\", \"resort\", \"vacation\", \"ocean\", \"cana\", \"punta\", \"grounds\", \"pools\", \"dominican\", \"resorts\", \"activities\", \"shows\", \"swim\", \"sand\", \"casino\", \"country\", \"inclusive\", \"sick\", \"bavaro\", \"mexican\", \"beaches\", \"steak\", \"tropical\", \"golf\", \"riu\", \"disco\", \"carte\", \"excellence\", \"puerto\", \"paradise\", \"entertainment\", \"kids\", \"fun\", \"pool\", \"food\", \"people\", \"spanish\", \"water\", \"went\", \"drinks\", \"did\", \"not\", \"beautiful\", \"time\", \"day\", \"buffet\", \"like\", \"drink\", \"no\", \"just\", \"got\", \"good\", \"service\", \"make\", \"great\", \"bar\", \"really\", \"nice\", \"room\", \"staff\", \"best\", \"night\", \"place\", \"little\", \"rooms\", \"the\", \"hotel\", \"paris\", \"orleans\", \"quarter\", \"hong\", \"kong\", \"eiffel\", \"bourbon\", \"hk\", \"pacific\", \"arc\", \"mtr\", \"charles\", \"kowloon\", \"du\", \"rue\", \"peninsula\", \"triomphe\", \"parisian\", \"dame\", \"latin\", \"notre\", \"champs\", \"louvre\", \"langham\", \"katrina\", \"armes\", \"harrah\", \"adagio\", \"conrad\", \"kahala\", \"french\", \"st\", \"mr\", \"splendid\", \"new\", \"residence\", \"exceptional\", \"thanks\", \"tower\", \"home\", \"waikiki\", \"bali\", \"ubud\", \"kuta\", \"dua\", \"nusa\", \"balinese\", \"alila\", \"seminyak\", \"sanur\", \"uma\", \"legian\", \"rex\", \"benoa\", \"fita\", \"indonesian\", \"sari\", \"tegal\", \"hix\", \"jimbaran\", \"manggis\", \"indonesia\", \"draycott\", \"nites\", \"chedi\", \"cottage\", \"centres\", \"fajardo\", \"laura\", \"keraton\", \"ellies\", \"50th\", \"villa\", \"villas\", \"sunset\", \"fields\", \"rice\", \"storm\", \"ku\"], \"Freq\": [13128.0, 2816.0, 2181.0, 3051.0, 988.0, 2468.0, 269.0, 2138.0, 288.0, 7890.0, 578.0, 1743.0, 1180.0, 3716.0, 641.0, 168.0, 8950.0, 4027.0, 1029.0, 210.0, 121.0, 125.0, 537.0, 1337.0, 2669.0, 108.0, 2639.0, 1214.0, 876.0, 103.0, 3050.579324545888, 1180.1865748230298, 1028.586606463094, 588.277073661058, 571.8584078870214, 474.3070080426768, 441.50897862653835, 435.70483669124314, 429.91536266960827, 405.7696926231429, 382.5924584750006, 375.8310429750466, 303.4214854708937, 289.91113011570326, 291.83068059292276, 276.3892168541955, 295.65176165298055, 282.15736293681874, 226.165411499379, 214.56522892146, 205.8890442348616, 194.32162292161053, 193.35216354949497, 191.40911395590615, 189.48198608187434, 183.65797248942624, 171.1423595287855, 172.09635139436156, 173.04253451786877, 162.4409246960745, 224.22990987530946, 12361.427058028374, 705.6525570995236, 478.3064921492372, 337.235027502317, 1162.8928973243353, 1476.0479565692197, 1274.8968180530683, 2372.9247509687802, 3495.266885154183, 959.5728759410456, 628.6983697303534, 7077.196223775062, 2348.5535217963024, 1028.2884722341744, 611.931945733117, 574.7456268451372, 1102.5862179291103, 1456.6350105027602, 743.6567591538658, 2539.2406531886513, 3299.150189340909, 4133.732372279981, 2019.6370422613845, 1397.3066548412976, 1132.76305978349, 1386.6432219359335, 1075.0521876107373, 1515.256457708818, 868.7022038905385, 2928.3647787876193, 2294.707021656984, 1260.7594114151964, 4030.7171116028144, 1736.2304487596891, 1455.8360741616189, 1812.5763306189876, 1524.5191462051707, 1307.8725832351176, 1581.3399181964746, 1444.8661142579376, 1226.600309571849, 1171.4076535621848, 2816.3423745034497, 2181.2681579108444, 641.1056669040353, 537.2293772778422, 444.9924859345524, 435.2817428331125, 346.9017730199897, 297.3675533872118, 287.67823990071037, 283.779953484834, 273.09798304911135, 227.4577679402399, 210.94197152362585, 206.0999816276893, 202.18053796008618, 194.43367150647356, 189.5769948667912, 183.7687620197534, 157.55433265026073, 151.72469719937027, 146.86233922380475, 148.7818471441582, 145.87533892714018, 142.97667066670104, 139.1032498268685, 133.27312806408275, 133.26536933799554, 133.26439130053663, 128.39362847833104, 126.45486645207815, 341.4959471376562, 545.6176632519115, 565.803761813497, 1738.9954929719304, 1961.1165093076218, 1311.8560881282863, 276.4920917094891, 992.3247407376127, 900.447710568719, 557.4641726427612, 2135.2300580158826, 3859.27072324089, 910.7084510671176, 1544.8842016036572, 1393.8404444430694, 660.0997439368725, 1213.1295656423895, 384.9506474258424, 1408.2170552958025, 1562.8038783978955, 904.6404158734174, 1807.9794488895132, 1177.5896281353798, 646.6321742613129, 1810.6040821148479, 786.8278240149449, 925.6288635243033, 1187.6798017587346, 1873.451726810075, 1203.9742876910063, 776.3146946493263, 898.6552329267412, 811.8395264562895, 727.7485770565776, 776.6770799482143, 715.488507595981, 766.9912482839082, 268.985561211131, 124.404309165249, 102.60600707233748, 82.99810069366507, 82.99810069366507, 52.48506007816584, 39.403325510889836, 37.221282631769256, 34.29598837799869, 28.502475799777617, 27.776114092522445, 27.052833015926737, 26.330127530966372, 25.60273407305709, 23.423716558085193, 19.78881744124173, 19.062811045980062, 19.058718014271488, 18.341611597973095, 17.599812302038245, 16.161682223989654, 16.158747994002432, 16.15689873129977, 16.15537758101073, 15.429284483009672, 13.981414188868552, 13.976786317671642, 13.970780370068772, 13.958582198813959, 13.247604199361536, 108.711763123817, 53.49114188188087, 20.285243352846056, 18.594959536399774, 51.050633718063814, 17.664636310786182, 20.560450996006214, 20.968363021865514, 20.411355120999787, 21.096900453171493, 18.834964559066922, 120.76081929578669, 51.844783438062045, 32.05977574108249, 25.042819413373124, 25.042781400763893, 20.571166318396596, 14.833776604318679, 14.195806127246058, 13.542555472744576, 12.919265358674295, 12.274983535465564, 10.999754138135046, 9.726841290694642, 9.721470848193395, 9.715575980265275, 9.091383121399028, 9.091383121399028, 8.450624129696422, 8.449751362087463, 7.178143786800977, 7.168727099604108, 7.165581686940587, 7.158515713603273, 6.538824897034903, 6.518563336251615, 5.871370250491652, 5.872442593106388, 5.226578008309865, 4.626046379001145, 4.625263868809849, 10.625930499376018, 51.15566134243558, 18.514798160009843, 12.591427087948231, 7.095490136819578, 14.90185126619204, 10.438853943740883, 7.221634483439521], \"Total\": [13128.0, 2816.0, 2181.0, 3051.0, 988.0, 2468.0, 269.0, 2138.0, 288.0, 7890.0, 578.0, 1743.0, 1180.0, 3716.0, 641.0, 168.0, 8950.0, 4027.0, 1029.0, 210.0, 121.0, 125.0, 537.0, 1337.0, 2669.0, 108.0, 2639.0, 1214.0, 876.0, 103.0, 3051.19085147567, 1180.7984871003637, 1029.196190836909, 588.8788749777575, 572.4658645980812, 474.9342333294153, 442.10674508114647, 436.31310806688344, 430.51700985965186, 406.37792059116174, 383.20503964520657, 376.4450887708204, 304.0221255781547, 290.50528469191437, 292.43485602311466, 276.9874342964005, 296.29772816878045, 282.7785274334405, 226.7739012093066, 215.1846947911542, 206.4964464005421, 194.91160925208416, 193.94558598853038, 192.01395985333062, 190.0823741648621, 184.28558136106417, 171.73555111169907, 172.70086514252782, 173.66527505900638, 163.042553330269, 225.47906928072285, 13128.773593012296, 718.3398805972924, 489.4791683230759, 344.6136792892039, 1236.248663507725, 1591.8318567323654, 1371.5661377424324, 2669.5073169941124, 4027.5170511332653, 1042.2097598482437, 669.248739053485, 8950.999640327023, 2826.9589010423842, 1160.2940522873323, 658.6609773076437, 616.1460962629177, 1267.6650049813775, 1757.9955882954855, 830.7679579895283, 3316.273018214826, 4503.482216948694, 5944.692302442707, 2605.4732890684922, 1709.7775888657077, 1350.034545775566, 1727.316522901075, 1283.3573330156348, 1950.9072282414322, 1013.5944946380355, 4736.69728354365, 3482.73987256519, 1632.864969826819, 7890.339995317344, 2635.2378127875772, 2171.6783151815703, 3375.7349912926848, 2702.4664669815024, 2120.074123510794, 3716.921026236222, 2853.435558703357, 2152.5825839268828, 2565.6016245765804, 2816.939821433476, 2181.8577345425483, 641.7269758320631, 537.8274626913995, 445.5770969316299, 435.8663347160468, 347.4962117009899, 297.9693589349788, 288.26288597280075, 284.3759606840932, 273.69427658703086, 228.05475229180055, 211.54492692144828, 206.6906354040327, 202.80203874409253, 195.03691130336614, 190.18120303861775, 184.35686268189454, 158.13888644333375, 152.3123342106686, 147.45585094744163, 149.3959265860767, 146.4792885336903, 143.5700173701124, 139.68843300587298, 133.861527014303, 133.8600715153936, 133.85968030059638, 129.0034672066767, 127.0568704852205, 355.18953776959444, 603.5343554056009, 629.7183635278303, 2138.8103290533013, 2468.3687401560915, 1743.403854092115, 304.6108020286967, 1337.981391423894, 1214.8311015546128, 701.1289762252319, 3716.921026236222, 7890.339995317344, 1356.8314061339875, 2639.837919113102, 2565.6016245765804, 970.1453799235592, 2226.619800359107, 481.9282075352731, 2853.435558703357, 3375.7349912926848, 1579.8570227452417, 4736.69728354365, 2702.4664669815024, 1084.9753604832317, 5944.692302442707, 1522.2233066849756, 2152.5825839268828, 3482.73987256519, 8950.999640327023, 4503.482216948694, 1639.965446378713, 2635.2378127875772, 2120.074123510794, 1720.80560043214, 3316.273018214826, 2171.6783151815703, 13128.773593012296, 269.6467310697099, 125.06661485167513, 103.27086047504666, 83.65194385907321, 83.65194385907321, 53.13765867116335, 40.06111413823891, 37.88184782735696, 34.98257465832406, 29.163824330838928, 28.437547629140703, 27.709559117032846, 26.982402568677426, 26.255861967245153, 24.07593300615684, 20.444632286927536, 19.716870059857783, 19.718701322629922, 18.989709154811322, 18.268125240519144, 16.81020192949616, 16.8107352308155, 16.81111433748308, 16.812247127516155, 16.085381454647788, 14.630820999916223, 14.632283935949664, 14.63410130683293, 14.631740965811465, 13.90505916985901, 288.63230816630073, 168.78294017444398, 31.6179684862021, 28.55675925165333, 988.6346286153431, 32.730816941538876, 99.53348742891563, 145.8927400634768, 210.46438800499644, 578.7381077949544, 133.73411631203425, 121.44198530501743, 52.51811102677084, 32.736964815783935, 25.715849938539627, 25.715870175836688, 21.251241200792677, 15.504709887150407, 14.866411784079352, 14.233133746110038, 13.59026609260527, 12.954237824487166, 11.677872905696944, 10.400249416840136, 10.401469306437535, 10.403390234976122, 9.760757175981846, 9.760757175981846, 9.123740017260806, 9.124046647480036, 7.845662040373985, 7.8496402137789625, 7.849841638694669, 7.855112958574807, 7.208097146986345, 7.215481884216787, 6.5810196955611096, 6.584253426555251, 5.943866017257104, 5.292762829610687, 5.2931358891157725, 12.843719452154355, 108.22899446221895, 47.571356741067866, 33.09952824951216, 9.830111445201513, 50.42687610903104, 39.159911077033634, 14.580483294442644], \"Category\": [\"Default\", \"Default\", \"Default\", \"Default\", \"Default\", \"Default\", \"Default\", \"Default\", \"Default\", \"Default\", \"Default\", \"Default\", \"Default\", \"Default\", \"Default\", \"Default\", \"Default\", \"Default\", \"Default\", \"Default\", \"Default\", \"Default\", \"Default\", \"Default\", \"Default\", \"Default\", \"Default\", \"Default\", \"Default\", \"Default\", \"Topic1\", \"Topic1\", \"Topic1\", \"Topic1\", \"Topic1\", \"Topic1\", \"Topic1\", \"Topic1\", \"Topic1\", \"Topic1\", \"Topic1\", \"Topic1\", \"Topic1\", \"Topic1\", \"Topic1\", \"Topic1\", \"Topic1\", \"Topic1\", \"Topic1\", \"Topic1\", \"Topic1\", \"Topic1\", \"Topic1\", \"Topic1\", \"Topic1\", \"Topic1\", \"Topic1\", \"Topic1\", \"Topic1\", \"Topic1\", \"Topic1\", \"Topic1\", \"Topic1\", \"Topic1\", \"Topic1\", \"Topic1\", \"Topic1\", \"Topic1\", \"Topic1\", \"Topic1\", \"Topic1\", \"Topic1\", \"Topic1\", \"Topic1\", \"Topic1\", \"Topic1\", \"Topic1\", \"Topic1\", \"Topic1\", \"Topic1\", \"Topic1\", \"Topic1\", \"Topic1\", \"Topic1\", \"Topic1\", \"Topic1\", \"Topic1\", \"Topic1\", \"Topic1\", \"Topic1\", \"Topic1\", \"Topic1\", \"Topic1\", \"Topic1\", \"Topic1\", \"Topic1\", \"Topic1\", \"Topic1\", \"Topic1\", \"Topic1\", \"Topic1\", \"Topic1\", \"Topic1\", \"Topic2\", \"Topic2\", \"Topic2\", \"Topic2\", \"Topic2\", \"Topic2\", \"Topic2\", \"Topic2\", \"Topic2\", \"Topic2\", \"Topic2\", \"Topic2\", \"Topic2\", \"Topic2\", \"Topic2\", \"Topic2\", \"Topic2\", \"Topic2\", \"Topic2\", \"Topic2\", \"Topic2\", \"Topic2\", \"Topic2\", \"Topic2\", \"Topic2\", \"Topic2\", \"Topic2\", \"Topic2\", \"Topic2\", \"Topic2\", \"Topic2\", \"Topic2\", \"Topic2\", \"Topic2\", \"Topic2\", \"Topic2\", \"Topic2\", \"Topic2\", \"Topic2\", \"Topic2\", \"Topic2\", \"Topic2\", \"Topic2\", \"Topic2\", \"Topic2\", \"Topic2\", \"Topic2\", \"Topic2\", \"Topic2\", \"Topic2\", \"Topic2\", \"Topic2\", \"Topic2\", \"Topic2\", \"Topic2\", \"Topic2\", \"Topic2\", \"Topic2\", \"Topic2\", \"Topic2\", \"Topic2\", \"Topic2\", \"Topic2\", \"Topic2\", \"Topic2\", \"Topic2\", \"Topic2\", \"Topic3\", \"Topic3\", \"Topic3\", \"Topic3\", \"Topic3\", \"Topic3\", \"Topic3\", \"Topic3\", \"Topic3\", \"Topic3\", \"Topic3\", \"Topic3\", \"Topic3\", \"Topic3\", \"Topic3\", \"Topic3\", \"Topic3\", \"Topic3\", \"Topic3\", \"Topic3\", \"Topic3\", \"Topic3\", \"Topic3\", \"Topic3\", \"Topic3\", \"Topic3\", \"Topic3\", \"Topic3\", \"Topic3\", \"Topic3\", \"Topic3\", \"Topic3\", \"Topic3\", \"Topic3\", \"Topic3\", \"Topic3\", \"Topic3\", \"Topic3\", \"Topic3\", \"Topic3\", \"Topic3\", \"Topic4\", \"Topic4\", \"Topic4\", \"Topic4\", \"Topic4\", \"Topic4\", \"Topic4\", \"Topic4\", \"Topic4\", \"Topic4\", \"Topic4\", \"Topic4\", \"Topic4\", \"Topic4\", \"Topic4\", \"Topic4\", \"Topic4\", \"Topic4\", \"Topic4\", \"Topic4\", \"Topic4\", \"Topic4\", \"Topic4\", \"Topic4\", \"Topic4\", \"Topic4\", \"Topic4\", \"Topic4\", \"Topic4\", \"Topic4\", \"Topic4\", \"Topic4\", \"Topic4\", \"Topic4\", \"Topic4\", \"Topic4\", \"Topic4\", \"Topic4\"], \"logprob\": [30.0, 29.0, 28.0, 27.0, 26.0, 25.0, 24.0, 23.0, 22.0, 21.0, 20.0, 19.0, 18.0, 17.0, 16.0, 15.0, 14.0, 13.0, 12.0, 11.0, 10.0, 9.0, 8.0, 7.0, 6.0, 5.0, 4.0, 3.0, 2.0, 1.0, -4.7049, -5.6546, -5.7921, -6.3508, -6.3791, -6.5662, -6.6378, -6.651, -6.6644, -6.7222, -6.781, -6.7989, -7.0129, -7.0584, -7.0518, -7.1062, -7.0388, -7.0855, -7.3067, -7.3594, -7.4007, -7.4585, -7.4635, -7.4736, -7.4837, -7.5149, -7.5855, -7.58, -7.5745, -7.6377, -7.3153, -3.3057, -6.1689, -6.5578, -6.9072, -5.6693, -5.4309, -5.5774, -4.9561, -4.5688, -5.8615, -6.2844, -3.8634, -4.9665, -5.7924, -6.3114, -6.3741, -5.7226, -5.4441, -6.1164, -4.8884, -4.6266, -4.4011, -5.1173, -5.4857, -5.6956, -5.4934, -5.7479, -5.4047, -5.961, -4.7458, -4.9897, -5.5885, -4.4263, -5.2685, -5.4447, -5.2255, -5.3986, -5.5519, -5.362, -5.4522, -5.616, -5.6621, -4.4038, -4.6593, -5.8838, -6.0606, -6.2489, -6.271, -6.498, -6.652, -6.6852, -6.6988, -6.7372, -6.92, -6.9954, -7.0186, -7.0378, -7.0769, -7.1022, -7.1333, -7.2872, -7.3249, -7.3575, -7.3445, -7.3643, -7.3843, -7.4118, -7.4546, -7.4547, -7.4547, -7.4919, -7.5071, -6.5137, -6.0451, -6.0088, -4.8859, -4.7657, -5.1678, -6.7248, -5.447, -5.5441, -6.0236, -4.6807, -4.0888, -5.5328, -5.0043, -5.1072, -5.8546, -5.246, -6.3939, -5.0969, -4.9928, -5.5395, -4.847, -5.2758, -5.8752, -4.8456, -5.679, -5.5165, -5.2672, -4.8115, -5.2536, -5.6924, -5.5461, -5.6477, -5.757, -5.692, -5.774, -5.7045, -3.7626, -4.5337, -4.7264, -4.9385, -4.9385, -5.3968, -5.6834, -5.7404, -5.8223, -6.0073, -6.0331, -6.0595, -6.0866, -6.1146, -6.2035, -6.3722, -6.4095, -6.4098, -6.4481, -6.4894, -6.5746, -6.5748, -6.5749, -6.575, -6.621, -6.7196, -6.7199, -6.7203, -6.7212, -6.7735, -4.6686, -5.3778, -6.3474, -6.4344, -5.4245, -6.4857, -6.3339, -6.3143, -6.3412, -6.3082, -6.4216, -4.1233, -4.9688, -5.4495, -5.6965, -5.6965, -5.8932, -6.2202, -6.2641, -6.3113, -6.3584, -6.4095, -6.5192, -6.6422, -6.6428, -6.6434, -6.7098, -6.7098, -6.7829, -6.783, -6.9461, -6.9474, -6.9478, -6.9488, -7.0393, -7.0424, -7.147, -7.1468, -7.2633, -7.3854, -7.3856, -6.5538, -4.9822, -5.9985, -6.3841, -6.9576, -6.2156, -6.5716, -6.94], \"loglift\": [30.0, 29.0, 28.0, 27.0, 26.0, 25.0, 24.0, 23.0, 22.0, 21.0, 20.0, 19.0, 18.0, 17.0, 16.0, 15.0, 14.0, 13.0, 12.0, 11.0, 10.0, 9.0, 8.0, 7.0, 6.0, 5.0, 4.0, 3.0, 2.0, 1.0, 0.5535, 0.5532, 0.5531, 0.5527, 0.5526, 0.5524, 0.5523, 0.5523, 0.5523, 0.5522, 0.5521, 0.5521, 0.5517, 0.5516, 0.5516, 0.5515, 0.5515, 0.5515, 0.551, 0.5508, 0.5507, 0.5507, 0.5506, 0.5505, 0.5505, 0.5503, 0.5502, 0.5502, 0.5501, 0.55, 0.5481, 0.4935, 0.5359, 0.5306, 0.532, 0.4925, 0.4782, 0.4806, 0.4359, 0.412, 0.4711, 0.4912, 0.3188, 0.3683, 0.4329, 0.4801, 0.4841, 0.4142, 0.3656, 0.4429, 0.2867, 0.2425, 0.1904, 0.299, 0.3519, 0.3782, 0.334, 0.3766, 0.301, 0.3994, 0.0728, 0.1365, 0.2951, -0.118, 0.1364, 0.1538, -0.0682, -0.0188, 0.0706, -0.3009, -0.1268, -0.0087, -0.2303, 0.9345, 0.9344, 0.9337, 0.9336, 0.9334, 0.9334, 0.933, 0.9327, 0.9327, 0.9326, 0.9325, 0.9321, 0.9318, 0.9318, 0.9316, 0.9316, 0.9315, 0.9315, 0.931, 0.9308, 0.9307, 0.9306, 0.9306, 0.9306, 0.9305, 0.9303, 0.9302, 0.9302, 0.93, 0.93, 0.8954, 0.8338, 0.8277, 0.7278, 0.7047, 0.6503, 0.8378, 0.6358, 0.6352, 0.7054, 0.3804, 0.2195, 0.536, 0.3989, 0.3246, 0.5496, 0.3274, 0.71, 0.2285, 0.1646, 0.3771, -0.0284, 0.104, 0.4172, -0.2541, 0.2748, 0.0908, -0.1411, -0.6293, -0.3845, 0.1868, -0.1411, -0.0252, 0.0741, -0.5169, -0.1756, -1.9054, 3.922, 3.9191, 3.918, 3.9166, 3.9166, 3.9121, 3.9079, 3.9068, 3.9046, 3.9015, 3.9009, 3.9004, 3.8999, 3.8992, 3.897, 3.8918, 3.8907, 3.8904, 3.8897, 3.8872, 3.8851, 3.8849, 3.8847, 3.8846, 3.8828, 3.879, 3.8786, 3.878, 3.8773, 3.876, 2.948, 2.7753, 3.4806, 3.4954, 0.9609, 3.3077, 2.3473, 1.9846, 1.5912, 0.6127, 1.9643, 4.359, 4.3517, 4.3437, 4.3381, 4.3381, 4.3321, 4.3204, 4.3185, 4.3149, 4.314, 4.3108, 4.3048, 4.2977, 4.297, 4.2962, 4.2936, 4.2936, 4.288, 4.2878, 4.2757, 4.2739, 4.2734, 4.2717, 4.2672, 4.263, 4.2505, 4.2502, 4.236, 4.23, 4.2297, 4.1751, 3.6152, 3.421, 3.3981, 4.0386, 3.1456, 3.0425, 3.662]}, \"token.table\": {\"Topic\": [2, 4, 2, 3, 4, 1, 3, 1, 2, 3, 1, 4, 4, 1, 2, 1, 1, 2, 2, 2, 2, 1, 2, 1, 2, 4, 1, 2, 1, 3, 1, 2, 1, 2, 1, 2, 2, 2, 1, 1, 4, 3, 3, 4, 1, 1, 2, 1, 2, 3, 4, 2, 1, 3, 1, 2, 1, 2, 2, 1, 2, 2, 1, 4, 4, 1, 2, 1, 2, 3, 4, 3, 1, 4, 1, 2, 1, 2, 1, 2, 1, 2, 3, 1, 2, 3, 4, 2, 4, 4, 1, 2, 1, 1, 2, 2, 3, 1, 2, 1, 2, 2, 1, 2, 1, 2, 1, 2, 2, 1, 3, 1, 2, 1, 4, 3, 1, 2, 3, 3, 1, 2, 1, 2, 1, 2, 4, 4, 1, 1, 2, 4, 1, 2, 3, 3, 4, 1, 2, 3, 3, 1, 4, 4, 3, 3, 4, 4, 1, 2, 1, 2, 1, 2, 1, 1, 3, 1, 2, 4, 1, 1, 2, 1, 2, 3, 4, 3, 1, 2, 3, 1, 2, 1, 2, 1, 2, 4, 1, 2, 1, 1, 2, 3, 4, 2, 3, 3, 2, 3, 3, 1, 3, 1, 2, 1, 2, 1, 2, 2, 1, 2, 2, 2, 3, 1, 2, 1, 1, 2, 1, 3, 2, 2, 4, 2, 4, 2, 1, 2, 1, 2, 3, 2, 4, 4, 1, 4, 1, 2, 2, 2, 1, 2, 1, 2, 1, 3, 1, 1, 2, 3, 1, 2, 1, 2, 1, 2, 1, 2, 2, 2, 4, 1, 1, 1, 2, 4, 2, 1, 4, 1, 2, 3, 1, 2, 1, 2, 1, 3, 3, 2, 4, 4, 2, 1, 2, 1, 2, 1, 2, 2, 4, 2, 4, 1, 3, 1, 2, 1, 2, 1, 1, 2], \"Freq\": [0.15571813192046388, 0.8564497255625514, 0.9974633134616898, 0.9566696106895982, 0.9674479631786799, 0.9982606695349786, 0.9943826183774638, 0.7722622649769632, 0.22782043027076154, 0.956884101041231, 0.995941739249833, 0.9963605230603952, 0.9881775752098986, 0.48284637133867536, 0.5170069309435884, 0.9994649348938719, 0.9295942535433412, 0.06999297909032216, 0.9991217438894543, 0.9996663679407259, 0.9969085597857754, 0.32870701399135904, 0.6714172415832469, 0.8376466727890692, 0.16207489110709433, 0.9615154021025639, 0.5262305994956369, 0.47318070128460515, 0.9985129815609932, 0.9735126153861491, 0.8889280748149504, 0.11088188375272875, 0.3195397374612307, 0.6803104087884266, 0.998032920636472, 0.9987048325966393, 0.9935748464373508, 0.9960452136030813, 0.9990700267607748, 0.9972468650979034, 0.9117128161836369, 0.95177276783651, 0.9743929842392661, 0.9711300856879614, 0.9993237736082095, 0.7752910031644153, 0.22452734497583315, 0.9407492475665132, 0.05904960883263583, 0.9568239372684637, 0.9701361755632518, 0.9946835124877809, 0.998450332581882, 0.9478818160540092, 0.45642315969193326, 0.5433423438177242, 0.4253520558656934, 0.5744001513429825, 0.9935640431308471, 0.9765481984403896, 0.02247286649130604, 0.9990880339246117, 0.9934403255901265, 0.00443500145352735, 0.8917377346180467, 0.20127479255901495, 0.7988741766517604, 0.2039567680826565, 0.7944330057485292, 0.9902550536118621, 0.9721630846248328, 0.978590350052801, 0.9943057625957294, 0.9446196176979803, 0.03660017713819286, 0.9600508003172127, 0.9964350935308355, 0.9935777502331854, 0.8029796401591157, 0.1968371143865172, 0.4922966256456611, 0.2913592274229423, 0.2109842681338548, 0.6689041883741673, 0.3161884986000757, 0.014839171414443986, 0.9112650457531188, 0.20345649295525364, 0.7120977253433878, 0.9614026350883847, 0.8701036911689485, 0.13016057030179193, 0.9966379895008926, 0.20539880924271428, 0.7944518045857253, 0.6201661939274862, 0.37764310133014517, 0.7765617852395967, 0.2229731858608743, 0.10163273569069346, 0.8988145062645703, 0.9960296907351976, 0.6181522323946116, 0.38170055880104437, 0.42725385290061557, 0.5728366472223069, 0.6954102566925653, 0.30464150335516105, 0.9985720370919702, 0.9936056366330505, 0.956788431750137, 0.9272336106087615, 0.07224381112466638, 0.9991416917855918, 0.8768334021865101, 0.976721097888997, 0.4803554427393863, 0.48208334001542724, 0.03628584279686012, 0.9922064708959838, 0.9415197780986231, 0.05842129842259072, 0.9211197562953025, 0.07867897918355708, 0.996169210806361, 0.9990472084742205, 0.891760616965917, 0.9612251174026014, 0.9965873444643337, 0.9332202272927165, 0.06654265968521979, 0.876803934601706, 0.5370682250462262, 0.463010278956013, 0.9349115196991868, 0.9325237354359307, 0.9446861990541486, 0.09610057734165195, 0.9046709522162407, 0.9922064708959838, 0.9635909898617461, 0.48009382533074557, 0.48009382533074557, 0.9774882974053657, 0.9516871765353263, 0.985322782880619, 0.8412033490464399, 0.9263377871075219, 0.45494969542470803, 0.5447719452617679, 0.5770553046495381, 0.4230576654429645, 0.9398598208636021, 0.05976851007081731, 0.9999374501678328, 0.9975958598358678, 0.951751304452521, 0.403695803566379, 0.5963269061813864, 0.892212787649763, 0.9947193430409689, 0.9987990953950451, 0.9979493833359772, 0.998507545413663, 0.2530206835866496, 0.632551708966624, 0.0948827563449936, 0.9846137355145091, 0.7181621798888516, 0.23062109438684247, 0.05158629742863582, 0.6589639433247801, 0.34111074713282735, 0.6587640749445851, 0.34114568166773157, 0.8859823059279361, 0.11376426496350932, 0.8911393173994592, 0.5064070907760851, 0.4934402656143445, 0.999186214188669, 0.5108778585450393, 0.4890790513831076, 0.9518029626952588, 0.9721623195737962, 0.9984614718496174, 0.9914716261174887, 0.9719124544742376, 0.9916819099889334, 0.9976015616167706, 0.9635522993694765, 0.9992823775836791, 0.9782518814382474, 0.24721753309673913, 0.752550820006779, 0.6169595607506317, 0.38300547655161543, 0.1865523064761936, 0.8130688244664178, 0.9967467831644048, 0.8573448303015185, 0.14305523635640988, 0.9922213935144159, 0.998012384423745, 0.9973771839045332, 0.8955569275932257, 0.10472238266211108, 0.9953229607226466, 0.5700129737933798, 0.4301809402874244, 0.45828370329991397, 0.5499404439598967, 0.9996068787946304, 0.9986779449177463, 0.9419523648552255, 0.6940743250548448, 0.29746042502350495, 0.9950716534572047, 0.7906379493208697, 0.2092503714961126, 0.7656185079016088, 0.23429916527749114, 0.9553108489759587, 0.9966586033146463, 0.9836203502146001, 0.9220596146112691, 0.9951244779111069, 0.9417201812607394, 0.5642993238333632, 0.43589810063980455, 0.9953750041110698, 0.9980642831695921, 0.828784787459379, 0.1712177220489177, 0.09192057475808814, 0.9060742369011545, 0.3501797914769001, 0.6653416038061102, 0.9997585536019657, 0.5687778628620885, 0.11257061869145503, 0.3140127784551114, 0.7325442493331785, 0.2673486742034395, 0.9828216685017794, 0.016705184167169054, 0.8677803112010599, 0.13209130917280798, 0.8309282455906428, 0.1690862926318975, 0.9973498167244299, 0.7150169453888607, 0.25536319478173597, 0.9998093746958494, 0.9957169548940938, 0.45317866426755127, 0.1812714657070205, 0.3927548423652111, 0.9974240605559375, 0.9989951722862659, 0.9220596146112691, 0.4729501959451761, 0.38384363728883863, 0.14394136398331447, 0.6704492050325909, 0.329238448899933, 0.41479819350723, 0.5852632045375985, 0.9027655547858737, 0.09502795313535513, 0.9636417921464482, 0.996727943325721, 0.9901346218163343, 0.9565669951873536, 0.9988671571253172, 0.9291578233488552, 0.06983865992491396, 0.8392377836147266, 0.16073662757669518, 0.9779066248765639, 0.02031260051672388, 0.52666108821604, 0.47122307893014104, 0.6096105300895192, 0.39940000247244356, 0.8524376811524312, 0.14207294685873853, 0.8170653359228968, 0.18247987459409004, 0.25785111976247094, 0.7414153936358585, 0.9988176528686462, 0.258472144480147, 0.7408437262169818], \"Term\": [\"50th\", \"50th\", \"activities\", \"adagio\", \"alila\", \"amsterdam\", \"arc\", \"area\", \"area\", \"armes\", \"attractions\", \"bali\", \"balinese\", \"bar\", \"bar\", \"barcelona\", \"bathroom\", \"bathroom\", \"bavaro\", \"beach\", \"beaches\", \"beautiful\", \"beautiful\", \"bed\", \"bed\", \"benoa\", \"best\", \"best\", \"blocks\", \"bourbon\", \"breakfast\", \"breakfast\", \"buffet\", \"buffet\", \"business\", \"cana\", \"carte\", \"casino\", \"central\", \"centre\", \"centres\", \"champs\", \"charles\", \"chedi\", \"city\", \"clean\", \"clean\", \"comfortable\", \"comfortable\", \"conrad\", \"cottage\", \"country\", \"courtyard\", \"dame\", \"day\", \"day\", \"did\", \"did\", \"disco\", \"distance\", \"distance\", \"dominican\", \"downtown\", \"downtown\", \"draycott\", \"drink\", \"drink\", \"drinks\", \"drinks\", \"du\", \"dua\", \"eiffel\", \"elevator\", \"ellies\", \"entertainment\", \"entertainment\", \"euros\", \"excellence\", \"excellent\", \"excellent\", \"exceptional\", \"exceptional\", \"exceptional\", \"experience\", \"experience\", \"experience\", \"fajardo\", \"fields\", \"fields\", \"fita\", \"floor\", \"floor\", \"florence\", \"food\", \"food\", \"french\", \"french\", \"friendly\", \"friendly\", \"fun\", \"fun\", \"golf\", \"good\", \"good\", \"got\", \"got\", \"great\", \"great\", \"grounds\", \"harbour\", \"harrah\", \"helpful\", \"helpful\", \"hilton\", \"hix\", \"hk\", \"home\", \"home\", \"home\", \"hong\", \"hotel\", \"hotel\", \"hotels\", \"hotels\", \"ideal\", \"inclusive\", \"indonesia\", \"indonesian\", \"inn\", \"internet\", \"internet\", \"jimbaran\", \"just\", \"just\", \"kahala\", \"katrina\", \"keraton\", \"kids\", \"kids\", \"kong\", \"kowloon\", \"ku\", \"ku\", \"kuta\", \"langham\", \"latin\", \"laura\", \"legian\", \"like\", \"like\", \"little\", \"little\", \"located\", \"located\", \"location\", \"london\", \"louvre\", \"make\", \"make\", \"manggis\", \"marriott\", \"metro\", \"mexican\", \"modern\", \"mr\", \"mr\", \"mr\", \"mtr\", \"new\", \"new\", \"new\", \"nice\", \"nice\", \"night\", \"night\", \"nights\", \"nights\", \"nites\", \"no\", \"no\", \"noise\", \"not\", \"not\", \"notre\", \"nusa\", \"ocean\", \"orleans\", \"pacific\", \"paradise\", \"paris\", \"parisian\", \"parking\", \"peninsula\", \"people\", \"people\", \"place\", \"place\", \"pool\", \"pool\", \"pools\", \"price\", \"price\", \"puerto\", \"punta\", \"quarter\", \"quiet\", \"quiet\", \"ramblas\", \"really\", \"really\", \"residence\", \"residence\", \"resort\", \"resorts\", \"rex\", \"rice\", \"rice\", \"riu\", \"room\", \"room\", \"rooms\", \"rooms\", \"rue\", \"sand\", \"sanur\", \"sari\", \"seattle\", \"seminyak\", \"service\", \"service\", \"shows\", \"sick\", \"small\", \"small\", \"spanish\", \"spanish\", \"splendid\", \"splendid\", \"square\", \"st\", \"st\", \"st\", \"staff\", \"staff\", \"station\", \"station\", \"stay\", \"stay\", \"stayed\", \"stayed\", \"steak\", \"storm\", \"storm\", \"street\", \"subway\", \"sunset\", \"sunset\", \"sunset\", \"swim\", \"tea\", \"tegal\", \"thanks\", \"thanks\", \"thanks\", \"the\", \"the\", \"time\", \"time\", \"tower\", \"tower\", \"triomphe\", \"tropical\", \"ubud\", \"uma\", \"vacation\", \"value\", \"value\", \"view\", \"view\", \"views\", \"views\", \"villa\", \"villa\", \"villas\", \"villas\", \"waikiki\", \"waikiki\", \"walk\", \"walk\", \"water\", \"water\", \"weekend\", \"went\", \"went\"]}, \"R\": 30, \"lambda.step\": 0.01, \"plot.opts\": {\"xlab\": \"PC1\", \"ylab\": \"PC2\"}, \"topic.order\": [4, 1, 2, 3]};\n",
       "\n",
       "function LDAvis_load_lib(url, callback){\n",
       "  var s = document.createElement('script');\n",
       "  s.src = url;\n",
       "  s.async = true;\n",
       "  s.onreadystatechange = s.onload = callback;\n",
       "  s.onerror = function(){console.warn(\"failed to load library \" + url);};\n",
       "  document.getElementsByTagName(\"head\")[0].appendChild(s);\n",
       "}\n",
       "\n",
       "if(typeof(LDAvis) !== \"undefined\"){\n",
       "   // already loaded: just create the visualization\n",
       "   !function(LDAvis){\n",
       "       new LDAvis(\"#\" + \"ldavis_el1227622454703469282468167140\", ldavis_el1227622454703469282468167140_data);\n",
       "   }(LDAvis);\n",
       "}else if(typeof define === \"function\" && define.amd){\n",
       "   // require.js is available: use it to load d3/LDAvis\n",
       "   require.config({paths: {d3: \"https://d3js.org/d3.v5\"}});\n",
       "   require([\"d3\"], function(d3){\n",
       "      window.d3 = d3;\n",
       "      LDAvis_load_lib(\"https://cdn.jsdelivr.net/gh/bmabey/pyLDAvis@3.4.0/pyLDAvis/js/ldavis.v3.0.0.js\", function(){\n",
       "        new LDAvis(\"#\" + \"ldavis_el1227622454703469282468167140\", ldavis_el1227622454703469282468167140_data);\n",
       "      });\n",
       "    });\n",
       "}else{\n",
       "    // require.js not available: dynamically load d3 & LDAvis\n",
       "    LDAvis_load_lib(\"https://d3js.org/d3.v5.js\", function(){\n",
       "         LDAvis_load_lib(\"https://cdn.jsdelivr.net/gh/bmabey/pyLDAvis@3.4.0/pyLDAvis/js/ldavis.v3.0.0.js\", function(){\n",
       "                 new LDAvis(\"#\" + \"ldavis_el1227622454703469282468167140\", ldavis_el1227622454703469282468167140_data);\n",
       "            })\n",
       "         });\n",
       "}\n",
       "</script>"
      ],
      "text/plain": [
       "PreparedData(topic_coordinates=                x           y  topics  cluster       Freq\n",
       "topic                                                    \n",
       "3      218.727921 -316.431305       1        1  57.482395\n",
       "0       87.083046 -285.040131       2        1  39.270288\n",
       "1      118.573288 -153.060455       3        1   1.975357\n",
       "2      250.189529 -184.474152       4        1   1.271960, topic_info=           Term          Freq         Total Category  logprob  loglift\n",
       "12269     hotel  13128.000000  13128.000000  Default  30.0000  30.0000\n",
       "3193      beach   2816.000000   2816.000000  Default  29.0000  29.0000\n",
       "20327    resort   2181.000000   2181.000000  Default  28.0000  28.0000\n",
       "14564  location   3051.000000   3051.000000  Default  27.0000  27.0000\n",
       "16531       new    988.000000    988.000000  Default  26.0000  26.0000\n",
       "...         ...           ...           ...      ...      ...      ...\n",
       "23615    sunset     12.591427     33.099528   Topic4  -6.3841   3.3981\n",
       "9816     fields      7.095490      9.830111   Topic4  -6.9576   4.0386\n",
       "20561      rice     14.901851     50.426876   Topic4  -6.2156   3.1456\n",
       "23258     storm     10.438854     39.159911   Topic4  -6.5716   3.0425\n",
       "13934        ku      7.221634     14.580483   Topic4  -6.9400   3.6620\n",
       "\n",
       "[249 rows x 6 columns], token_table=       Topic      Freq        Term\n",
       "term                              \n",
       "774        2  0.155718        50th\n",
       "774        4  0.856450        50th\n",
       "1286       2  0.997463  activities\n",
       "1304       3  0.956670      adagio\n",
       "1698       4  0.967448       alila\n",
       "...      ...       ...         ...\n",
       "26541      1  0.257851       water\n",
       "26541      2  0.741415       water\n",
       "26643      1  0.998818     weekend\n",
       "26692      1  0.258472        went\n",
       "26692      2  0.740844        went\n",
       "\n",
       "[294 rows x 3 columns], R=30, lambda_step=0.01, plot_opts={'xlab': 'PC1', 'ylab': 'PC2'}, topic_order=[4, 1, 2, 3])"
      ]
     },
     "execution_count": 36,
     "metadata": {},
     "output_type": "execute_result"
    }
   ],
   "source": [
    "# positive corpus, assume that there are 4 topics\n",
    "lda_positive_corpus4 = LatentDirichletAllocation(n_components=4, max_iter=500,\n",
    "                                                doc_topic_prior = 0.5,\n",
    "                                                topic_word_prior = 0.25).fit(bow_positive_corpus)\n",
    "\n",
    "no_top_words = 15\n",
    "display_topics(lda_positive_corpus4, bow_vectorizer.get_feature_names_out(), no_top_words)\n",
    "\n",
    "#run the visualization [mds is a function to use for visualizing the \"distance\" between topics]\n",
    "pyLDAvis.lda_model.prepare(lda_positive_corpus4, bow_positive_corpus, bow_vectorizer, mds='tsne')"
   ]
  },
  {
   "cell_type": "code",
   "execution_count": 37,
   "id": "7b07e0a6",
   "metadata": {},
   "outputs": [
    {
     "name": "stdout",
     "output_type": "stream",
     "text": [
      "Coherence score for the model:  -4.7512\n",
      "Log-Likelihood (higher values are better):  -4547989.173181516\n",
      "Perplexity (lower values are better):  2335.9867161081306\n"
     ]
    }
   ],
   "source": [
    "#top 15 words for each topic (using the function defined in session prep)\n",
    "topic_topwords_4_positive = get_topic_words(vectorizer = bow_vectorizer, lda_model = lda_positive_corpus4, n_words=15)\n",
    "cm_4 = CoherenceModel(topics=topic_topwords_4_positive, \n",
    "                    corpus = news_corpus_bow , \n",
    "                    dictionary = news_dictionary, coherence='u_mass')\n",
    "print(\"Coherence score for the model: \", np.round(cm_4.get_coherence(), 4))  # get coherence value\n",
    "print(\"Log-Likelihood (higher values are better): \", lda_positive_corpus4.score(bow_positive_corpus))\n",
    "print(\"Perplexity (lower values are better): \", lda_positive_corpus4.perplexity(bow_positive_corpus))"
   ]
  },
  {
   "cell_type": "code",
   "execution_count": 38,
   "id": "064ec5e1",
   "metadata": {},
   "outputs": [
    {
     "name": "stdout",
     "output_type": "stream",
     "text": [
      "Topic 0:\n",
      "not beach resort food did great good pool room just time day people no nice\n",
      "Topic 1:\n",
      "hotel room great staff location stay good not breakfast rooms stayed nice clean just friendly\n",
      "Topic 2:\n",
      "not room hotel no did night stay desk service told like check rooms asked time\n"
     ]
    },
    {
     "data": {
      "text/html": [
       "\n",
       "<link rel=\"stylesheet\" type=\"text/css\" href=\"https://cdn.jsdelivr.net/gh/bmabey/pyLDAvis@3.4.0/pyLDAvis/js/ldavis.v1.0.0.css\">\n",
       "\n",
       "\n",
       "<div id=\"ldavis_el12276224555462011233341837\" style=\"background-color:white;\"></div>\n",
       "<script type=\"text/javascript\">\n",
       "\n",
       "var ldavis_el12276224555462011233341837_data = {\"mdsDat\": {\"x\": [-260.88970947265625, -1114.5361328125, 1093.1920166015625], \"y\": [681.6112060546875, -1369.3538818359375, -1087.3118896484375], \"topics\": [1, 2, 3], \"cluster\": [1, 1, 1], \"Freq\": [48.75800855499799, 37.53118449840096, 13.710806946601044]}, \"tinfo\": {\"Term\": [\"hotel\", \"not\", \"beach\", \"room\", \"location\", \"resort\", \"food\", \"desk\", \"no\", \"stay\", \"great\", \"breakfast\", \"pool\", \"did\", \"night\", \"told\", \"city\", \"good\", \"helpful\", \"check\", \"street\", \"parking\", \"service\", \"san\", \"like\", \"comfortable\", \"asked\", \"clean\", \"hotels\", \"vacation\", \"location\", \"modern\", \"square\", \"metro\", \"central\", \"barcelona\", \"paris\", \"weekend\", \"florence\", \"amsterdam\", \"blocks\", \"centre\", \"euros\", \"downtown\", \"london\", \"ramblas\", \"subway\", \"attractions\", \"harbour\", \"district\", \"canal\", \"sights\", \"boston\", \"sydney\", \"quarter\", \"museum\", \"neighborhood\", \"cafes\", \"cable\", \"berlin\", \"city\", \"street\", \"station\", \"distance\", \"convenient\", \"hotel\", \"comfortable\", \"helpful\", \"breakfast\", \"value\", \"located\", \"bathroom\", \"train\", \"quiet\", \"stayed\", \"stay\", \"walk\", \"clean\", \"great\", \"excellent\", \"small\", \"nights\", \"room\", \"staff\", \"friendly\", \"rooms\", \"walking\", \"good\", \"lovely\", \"nice\", \"close\", \"the\", \"recommend\", \"floor\", \"area\", \"just\", \"not\", \"bed\", \"place\", \"night\", \"really\", \"service\", \"did\", \"beach\", \"resort\", \"cana\", \"punta\", \"grounds\", \"entertainment\", \"pools\", \"dominican\", \"resorts\", \"activities\", \"shows\", \"swim\", \"sand\", \"inclusive\", \"sick\", \"country\", \"bali\", \"bavaro\", \"mexican\", \"beaches\", \"tropical\", \"riu\", \"steak\", \"golf\", \"seafood\", \"fish\", \"carte\", \"excellence\", \"disco\", \"paradise\", \"grill\", \"vacation\", \"kids\", \"fun\", \"food\", \"pool\", \"ocean\", \"spanish\", \"people\", \"drinks\", \"water\", \"drink\", \"went\", \"beautiful\", \"did\", \"time\", \"not\", \"buffet\", \"day\", \"lunch\", \"just\", \"like\", \"good\", \"got\", \"no\", \"great\", \"bar\", \"service\", \"really\", \"nice\", \"best\", \"room\", \"staff\", \"restaurants\", \"place\", \"little\", \"night\", \"the\", \"rooms\", \"waikiki\", \"hyatt\", \"ubud\", \"intercontinental\", \"carlton\", \"priceline\", \"harbor\", \"condado\", \"hotwire\", \"shangri\", \"bravo\", \"honolulu\", \"attendant\", \"confirmation\", \"phoenix\", \"dallas\", \"asia\", \"pr\", \"embassy\", \"stained\", \"shabby\", \"starwood\", \"managers\", \"outrigger\", \"stains\", \"oahu\", \"alila\", \"verde\", \"katrina\", \"casitas\", \"ritz\", \"juan\", \"conditioner\", \"manager\", \"rico\", \"management\", \"credit\", \"clerk\", \"marriott\", \"told\", \"wing\", \"phone\", \"contacted\", \"desk\", \"parking\", \"san\", \"called\", \"attitude\", \"construction\", \"asked\", \"not\", \"property\", \"guest\", \"charge\", \"card\", \"room\", \"car\", \"check\", \"00\", \"no\", \"night\", \"hotel\", \"old\", \"did\", \"service\", \"stay\", \"like\", \"said\", \"view\", \"arrived\", \"rooms\", \"hotels\", \"star\", \"new\", \"time\", \"experience\", \"got\", \"staff\", \"day\", \"area\"], \"Freq\": [13128.0, 7850.0, 2822.0, 8921.0, 3059.0, 2186.0, 2473.0, 1105.0, 2840.0, 4021.0, 5960.0, 2676.0, 2141.0, 3708.0, 2624.0, 567.0, 1183.0, 4748.0, 1596.0, 1058.0, 1031.0, 429.0, 2694.0, 427.0, 2220.0, 1239.0, 571.0, 2612.0, 1038.0, 642.0, 3058.8634863092657, 589.8778047700586, 442.7076009125968, 431.1013970953271, 406.87740772671515, 383.6320324818139, 358.4775971153695, 376.8229262364919, 304.2635064014886, 290.7046839940916, 292.62881735042924, 282.93421905071324, 277.13422442613285, 225.79519683436254, 206.45709461286225, 194.8521390360689, 171.6062020414615, 172.55726647322223, 162.88045032949287, 152.23714870803596, 144.50151457121078, 142.53920088545198, 148.31475039788145, 132.8744399830336, 136.72635828533558, 127.06811108982711, 126.09633695644848, 123.20065200426455, 128.9805925010412, 115.45597140372011, 1177.3029915871646, 1014.4648364235001, 702.7862282802455, 475.2619689085142, 334.2314093311663, 11226.088117779453, 1152.7751526571137, 1465.701594627619, 2347.7969530988616, 607.551107413229, 610.1359985954106, 1183.9081965020125, 329.0247167989238, 732.4299438592537, 2191.9525710102535, 3006.803701427591, 1375.92164698298, 1994.6867518310562, 4034.1244880118047, 1371.5276865474993, 1387.2605937880573, 965.8532225458684, 5572.071929853382, 3074.3909212424383, 1490.094485385926, 2240.2199436573965, 695.1133567969321, 2850.2134093920613, 759.4839518325881, 2109.4622478471, 716.6204537056512, 1397.3759109345644, 951.3763721384572, 925.1911692476195, 1075.9608764633197, 1602.2726979618665, 2585.5073424691027, 911.772818424054, 1167.016174707173, 1251.3597798555036, 1138.730527640962, 1146.1659446037722, 1151.0820335510157, 2822.075343453066, 2185.7107006901047, 445.8985090867377, 436.1681419426484, 347.6080836525278, 355.3707976493554, 297.9805169644382, 288.2646835510627, 284.360587011778, 273.6590633085325, 227.91815208729832, 211.376330820897, 206.5213658460349, 189.97120970170582, 184.14224643143072, 194.80662354439482, 184.12175487102323, 157.8748672832632, 152.0293824495504, 147.15443474814612, 146.1841296441343, 139.38689194512463, 149.08132356284597, 143.26252971701237, 143.24920935394644, 145.1854869560486, 133.54104982168792, 133.53912427434963, 133.5376038150872, 126.73031926635085, 129.62306850286566, 618.7965907991263, 552.9228288533424, 570.5308333704347, 2008.6503536374896, 1756.5608982966796, 477.4340188044827, 280.4771294987988, 1272.7632914539308, 574.5116358842561, 998.8609790455653, 397.7929869419629, 851.8180454880724, 932.8713413347582, 1996.2728420465016, 1492.2218403859738, 3390.4381192416436, 676.8624984833865, 1367.5963251573376, 342.3712174065913, 1573.7656012579669, 1133.8105001960898, 1898.193077502472, 863.9506276404672, 1232.5481683105909, 1925.68340577749, 813.1184644259956, 1093.4639979739877, 954.4139963995253, 1224.4945659787759, 788.3150507698897, 1621.3642986929303, 1191.606340554051, 709.5318886945083, 788.8762393760453, 738.9103642142021, 814.6478062278416, 737.1712289211202, 752.3123730077656, 135.60733769704385, 95.16989573016465, 76.34944168134501, 62.26444481502154, 47.225728667980114, 42.525778536813384, 38.75992374626669, 35.01125928522894, 34.068038998499745, 33.105917590891146, 29.347905621931442, 27.492221549653287, 27.488421287918793, 28.402787078593672, 27.47813051463804, 27.472106155035686, 27.47022128767141, 25.606343078261723, 25.601591780694594, 25.6001807181381, 25.593007023109596, 24.667074076309287, 25.577869912888435, 23.725037732673872, 23.71749219184208, 22.78779205587963, 21.837002280521148, 19.961008968366006, 19.96023106596154, 19.958822666610068, 108.22604884346835, 213.5892144997038, 51.14020050075221, 214.4012471943887, 76.74931418866366, 129.35327809791534, 96.62644292581084, 53.284366699730334, 145.20124976511914, 377.46384964655624, 40.062552568143445, 145.8765031770608, 33.16870375357489, 532.0385371349093, 249.28688200670427, 247.58287102741642, 204.72347288046274, 66.89323452530583, 106.36457905615141, 269.5859194242693, 1874.8265533656356, 169.98125820482477, 134.41771091663162, 147.991634821617, 124.64169997264793, 1727.7063472808072, 216.29228113791132, 353.4583905645247, 171.37623436345729, 644.5974140260897, 558.5950986184666, 1180.1605527184788, 233.88947233801156, 560.6817845003816, 455.2749844234676, 536.5280652163335, 372.5770761698626, 199.0416533331049, 249.65124481114933, 202.86806625134483, 322.3815475286698, 220.10489798110777, 196.69244734469933, 211.78774100302368, 250.6846739289972, 200.19580539230918, 216.818393581628, 241.5279600658975, 220.13468054484937, 208.17348162477106], \"Total\": [13128.0, 7850.0, 2822.0, 8921.0, 3059.0, 2186.0, 2473.0, 1105.0, 2840.0, 4021.0, 5960.0, 2676.0, 2141.0, 3708.0, 2624.0, 567.0, 1183.0, 4748.0, 1596.0, 1058.0, 1031.0, 429.0, 2694.0, 427.0, 2220.0, 1239.0, 571.0, 2612.0, 1038.0, 642.0, 3059.3752389906895, 590.3753635964999, 443.203528805608, 431.5849650141193, 407.3789564287858, 384.14134329111477, 358.96731268278796, 377.3628614017169, 304.7461580310783, 291.19078288096716, 293.1270455889516, 283.4449838852919, 277.63530357985064, 226.31874922990013, 206.95433190679304, 195.3355602253447, 172.09768489692198, 173.06573113169011, 163.38322807536264, 152.73302740928273, 144.98725777568944, 143.0508529889426, 148.85979411072103, 133.36821169138216, 137.24076735616916, 127.55904296679554, 126.59062539291581, 123.6860942929393, 129.49533442113528, 115.9402503678417, 1183.7270041638747, 1031.4003767457757, 720.2028095168823, 490.7210798099742, 345.46482824679293, 13128.38591915755, 1239.5196760961196, 1596.0463815510684, 2676.611249505839, 660.3471017462341, 670.5267548277454, 1372.5386994178884, 347.43702068848927, 832.9291936195413, 2830.0486182474297, 4021.727831799889, 1714.2325438907762, 2612.200639832197, 5960.058780755523, 1731.7693819936965, 1760.6433087553487, 1161.5551412400823, 8921.14257582712, 4507.525221862387, 1955.9545620218394, 3314.9138641938316, 801.0041307083185, 4748.660243550401, 902.8544137914446, 3486.9054688040796, 850.5226687480501, 2175.8635953000007, 1315.447127971461, 1264.9529690542663, 1630.6134672355051, 3377.769099714202, 7850.772015076382, 1280.8295545143617, 2120.1673243862865, 2624.6026847018115, 2155.9648350417524, 2694.9049270012274, 3708.0366600978987, 2822.573452049021, 2186.1970698349287, 446.3785429228377, 436.64801853502513, 348.09990386178663, 355.8841255033769, 298.4742192955959, 288.74398780076035, 284.85149783389005, 274.1479740491833, 228.4144126875765, 211.87249490066478, 207.007364322844, 190.46545761004757, 184.62716386007583, 195.32977876116243, 184.6267013656891, 158.3548590489189, 152.51638069638224, 147.65091004587072, 146.67785950692598, 139.86687447275438, 149.59661366121398, 143.75859624940574, 143.75865814427624, 145.70465347503887, 134.0284377784175, 134.02834766077171, 134.0282369907966, 127.21697996599282, 130.1357887996954, 642.1367906539277, 604.7304709309058, 630.9599123754391, 2473.854199775878, 2141.173502246525, 536.7619080137428, 305.1648200913472, 1743.1129491382405, 702.6290990045763, 1338.7241152318825, 482.9327269631893, 1212.790837786062, 1359.5446017036322, 3708.0366600978987, 2638.1099005936912, 7850.772015076382, 972.3053122785382, 2564.818220161537, 406.1677563284207, 3377.769099714202, 2220.2313743297045, 4748.660243550401, 1576.7600154962552, 2840.0229723819507, 5960.058780755523, 1525.2977079711675, 2694.9049270012274, 2155.9648350417524, 3486.9054688040796, 1642.2481889099186, 8921.14257582712, 4507.525221862387, 1417.8551751262164, 2120.1673243862865, 1723.1465586800612, 2624.6026847018115, 2175.8635953000007, 3314.9138641938316, 136.10844928774426, 95.68050095417016, 76.87726973460104, 62.77375053296707, 47.73054458374921, 43.029533561973814, 39.26893732997747, 35.50780551317356, 34.56771155737551, 33.62815621100258, 29.867400031146296, 27.986196022563053, 27.986314212047, 28.927400863435164, 27.986662807475852, 27.98683014278597, 27.98689274535575, 26.10599602393016, 26.10613251595685, 26.1061663389634, 26.106385921431176, 25.16574935331872, 26.106925834835685, 24.22564979826005, 24.22585911322942, 23.285352637096, 22.345510152201026, 20.464949107379464, 20.464969602410637, 20.46507854747457, 113.71217684240287, 230.68814937759126, 54.40505020441365, 244.28245238653494, 83.67469888268486, 146.0575487724506, 112.17148487769686, 59.16872680093711, 188.1069836484863, 567.4750377365556, 44.08864714567765, 202.76452842309723, 35.57212948288512, 1105.9432905565473, 429.9658980263215, 427.1120421405499, 374.8078832149706, 87.91132952892612, 161.32064027768791, 571.5670121962314, 7850.772015076382, 314.7161988638645, 230.40546947012047, 269.595006697638, 212.24946549499384, 8921.14257582712, 469.75613375210446, 1058.7774433122022, 357.5325689561527, 2840.0229723819507, 2624.6026847018115, 13128.38591915755, 712.2399327929063, 3708.0366600978987, 2694.9049270012274, 4021.727831799889, 2220.2313743297045, 595.4794765321251, 1345.8838574179256, 746.2430470138454, 3314.9138641938316, 1038.2583570816842, 685.1131679200583, 1001.3485393267431, 2638.1099005936912, 875.9793313378711, 1576.7600154962552, 4507.525221862387, 2564.818220161537, 1630.6134672355051], \"Category\": [\"Default\", \"Default\", \"Default\", \"Default\", \"Default\", \"Default\", \"Default\", \"Default\", \"Default\", \"Default\", \"Default\", \"Default\", \"Default\", \"Default\", \"Default\", \"Default\", \"Default\", \"Default\", \"Default\", \"Default\", \"Default\", \"Default\", \"Default\", \"Default\", \"Default\", \"Default\", \"Default\", \"Default\", \"Default\", \"Default\", \"Topic1\", \"Topic1\", \"Topic1\", \"Topic1\", \"Topic1\", \"Topic1\", \"Topic1\", \"Topic1\", \"Topic1\", \"Topic1\", \"Topic1\", \"Topic1\", \"Topic1\", \"Topic1\", \"Topic1\", \"Topic1\", \"Topic1\", \"Topic1\", \"Topic1\", \"Topic1\", \"Topic1\", \"Topic1\", \"Topic1\", \"Topic1\", \"Topic1\", \"Topic1\", \"Topic1\", \"Topic1\", \"Topic1\", \"Topic1\", \"Topic1\", \"Topic1\", \"Topic1\", \"Topic1\", \"Topic1\", \"Topic1\", \"Topic1\", \"Topic1\", \"Topic1\", \"Topic1\", \"Topic1\", \"Topic1\", \"Topic1\", \"Topic1\", \"Topic1\", \"Topic1\", \"Topic1\", \"Topic1\", \"Topic1\", \"Topic1\", \"Topic1\", \"Topic1\", \"Topic1\", \"Topic1\", \"Topic1\", \"Topic1\", \"Topic1\", \"Topic1\", \"Topic1\", \"Topic1\", \"Topic1\", \"Topic1\", \"Topic1\", \"Topic1\", \"Topic1\", \"Topic1\", \"Topic1\", \"Topic1\", \"Topic1\", \"Topic1\", \"Topic1\", \"Topic1\", \"Topic1\", \"Topic2\", \"Topic2\", \"Topic2\", \"Topic2\", \"Topic2\", \"Topic2\", \"Topic2\", \"Topic2\", \"Topic2\", \"Topic2\", \"Topic2\", \"Topic2\", \"Topic2\", \"Topic2\", \"Topic2\", \"Topic2\", \"Topic2\", \"Topic2\", \"Topic2\", \"Topic2\", \"Topic2\", \"Topic2\", \"Topic2\", \"Topic2\", \"Topic2\", \"Topic2\", \"Topic2\", \"Topic2\", \"Topic2\", \"Topic2\", \"Topic2\", \"Topic2\", \"Topic2\", \"Topic2\", \"Topic2\", \"Topic2\", \"Topic2\", \"Topic2\", \"Topic2\", \"Topic2\", \"Topic2\", \"Topic2\", \"Topic2\", \"Topic2\", \"Topic2\", \"Topic2\", \"Topic2\", \"Topic2\", \"Topic2\", \"Topic2\", \"Topic2\", \"Topic2\", \"Topic2\", \"Topic2\", \"Topic2\", \"Topic2\", \"Topic2\", \"Topic2\", \"Topic2\", \"Topic2\", \"Topic2\", \"Topic2\", \"Topic2\", \"Topic2\", \"Topic2\", \"Topic2\", \"Topic2\", \"Topic2\", \"Topic2\", \"Topic3\", \"Topic3\", \"Topic3\", \"Topic3\", \"Topic3\", \"Topic3\", \"Topic3\", \"Topic3\", \"Topic3\", \"Topic3\", \"Topic3\", \"Topic3\", \"Topic3\", \"Topic3\", \"Topic3\", \"Topic3\", \"Topic3\", \"Topic3\", \"Topic3\", \"Topic3\", \"Topic3\", \"Topic3\", \"Topic3\", \"Topic3\", \"Topic3\", \"Topic3\", \"Topic3\", \"Topic3\", \"Topic3\", \"Topic3\", \"Topic3\", \"Topic3\", \"Topic3\", \"Topic3\", \"Topic3\", \"Topic3\", \"Topic3\", \"Topic3\", \"Topic3\", \"Topic3\", \"Topic3\", \"Topic3\", \"Topic3\", \"Topic3\", \"Topic3\", \"Topic3\", \"Topic3\", \"Topic3\", \"Topic3\", \"Topic3\", \"Topic3\", \"Topic3\", \"Topic3\", \"Topic3\", \"Topic3\", \"Topic3\", \"Topic3\", \"Topic3\", \"Topic3\", \"Topic3\", \"Topic3\", \"Topic3\", \"Topic3\", \"Topic3\", \"Topic3\", \"Topic3\", \"Topic3\", \"Topic3\", \"Topic3\", \"Topic3\", \"Topic3\", \"Topic3\", \"Topic3\", \"Topic3\", \"Topic3\", \"Topic3\", \"Topic3\", \"Topic3\", \"Topic3\", \"Topic3\"], \"logprob\": [30.0, 29.0, 28.0, 27.0, 26.0, 25.0, 24.0, 23.0, 22.0, 21.0, 20.0, 19.0, 18.0, 17.0, 16.0, 15.0, 14.0, 13.0, 12.0, 11.0, 10.0, 9.0, 8.0, 7.0, 6.0, 5.0, 4.0, 3.0, 2.0, 1.0, -4.5376, -6.1835, -6.4705, -6.4971, -6.5549, -6.6137, -6.6815, -6.6316, -6.8455, -6.8911, -6.8845, -6.9182, -6.9389, -7.1438, -7.2333, -7.2912, -7.4182, -7.4127, -7.4704, -7.538, -7.5901, -7.6038, -7.5641, -7.674, -7.6454, -7.7187, -7.7264, -7.7496, -7.7037, -7.8145, -5.4924, -5.6413, -6.0084, -6.3995, -6.7516, -3.2374, -5.5135, -5.2733, -4.8022, -6.154, -6.1497, -5.4868, -6.7673, -5.967, -4.8709, -4.5548, -5.3365, -4.9652, -4.2609, -5.3397, -5.3283, -5.6904, -3.9379, -4.5325, -5.2568, -4.8491, -6.0193, -4.6083, -5.9308, -4.9092, -5.9889, -5.3211, -5.7055, -5.7334, -5.5824, -5.1842, -4.7057, -5.748, -5.5012, -5.4314, -5.5257, -5.5192, -5.5149, -4.3565, -4.612, -6.2016, -6.2237, -6.4506, -6.4285, -6.6047, -6.6378, -6.6515, -6.6898, -6.8727, -6.9481, -6.9713, -7.0548, -7.086, -7.0297, -7.0861, -7.2399, -7.2776, -7.3102, -7.3168, -7.3645, -7.2972, -7.337, -7.3371, -7.3237, -7.4073, -7.4073, -7.4073, -7.4596, -7.4371, -5.8739, -5.9865, -5.9551, -4.6965, -4.8306, -6.1333, -6.6652, -5.1528, -5.9482, -5.3951, -6.3158, -5.5543, -5.4634, -4.7027, -4.9937, -4.173, -5.7842, -5.0809, -6.4658, -4.9405, -5.2684, -4.753, -5.5402, -5.1849, -4.7387, -5.6008, -5.3046, -5.4406, -5.1914, -5.6318, -4.9107, -5.2186, -5.7371, -5.6311, -5.6965, -5.599, -5.6989, -5.6786, -6.385, -6.7391, -6.9594, -7.1633, -7.4398, -7.5446, -7.6373, -7.739, -7.7664, -7.795, -7.9155, -7.9808, -7.981, -7.9482, -7.9813, -7.9815, -7.9816, -8.0519, -8.0521, -8.0521, -8.0524, -8.0892, -8.053, -8.1282, -8.1285, -8.1685, -8.2111, -8.3009, -8.301, -8.301, -6.6105, -5.9307, -7.3601, -5.9269, -6.9542, -6.4322, -6.7239, -7.3191, -6.3166, -5.3612, -7.6043, -6.312, -7.7931, -5.018, -5.7761, -5.783, -5.9731, -7.0916, -6.6278, -5.6978, -3.7584, -6.159, -6.3938, -6.2976, -6.4693, -3.8402, -5.9181, -5.427, -6.1509, -4.8261, -4.9693, -4.2213, -5.8399, -4.9656, -5.1738, -5.0096, -5.3743, -6.0012, -5.7747, -5.9822, -5.519, -5.9006, -6.0131, -5.9391, -5.7705, -5.9954, -5.9157, -5.8077, -5.9005, -5.9563], \"loglift\": [30.0, 29.0, 28.0, 27.0, 26.0, 25.0, 24.0, 23.0, 22.0, 21.0, 20.0, 19.0, 18.0, 17.0, 16.0, 15.0, 14.0, 13.0, 12.0, 11.0, 10.0, 9.0, 8.0, 7.0, 6.0, 5.0, 4.0, 3.0, 2.0, 1.0, 0.7181, 0.7175, 0.7172, 0.7172, 0.7171, 0.717, 0.7169, 0.7169, 0.7167, 0.7166, 0.7166, 0.7165, 0.7165, 0.716, 0.7159, 0.7158, 0.7154, 0.7154, 0.7152, 0.715, 0.7149, 0.7147, 0.7146, 0.7146, 0.7145, 0.7144, 0.7144, 0.7144, 0.7143, 0.7141, 0.7129, 0.7017, 0.6938, 0.6863, 0.6852, 0.5618, 0.6457, 0.6331, 0.5872, 0.635, 0.6239, 0.5705, 0.6639, 0.5897, 0.4628, 0.4275, 0.4985, 0.4486, 0.328, 0.4851, 0.48, 0.5338, 0.2476, 0.3357, 0.4463, 0.3264, 0.5765, 0.2078, 0.5454, 0.2157, 0.547, 0.2755, 0.3943, 0.4055, 0.3026, -0.0275, -0.3924, 0.3784, 0.1213, -0.0224, 0.08, -0.1366, -0.4515, 0.9798, 0.9798, 0.9789, 0.9789, 0.9786, 0.9786, 0.9783, 0.9783, 0.9783, 0.9782, 0.9778, 0.9777, 0.9776, 0.9774, 0.9774, 0.9773, 0.9773, 0.977, 0.9768, 0.9766, 0.9766, 0.9766, 0.9765, 0.9765, 0.9764, 0.9764, 0.9764, 0.9763, 0.9763, 0.9762, 0.9761, 0.943, 0.8904, 0.8793, 0.7717, 0.782, 0.8629, 0.8956, 0.6655, 0.7787, 0.6871, 0.7861, 0.6267, 0.6034, 0.3608, 0.4102, 0.1403, 0.6178, 0.3512, 0.8091, 0.2163, 0.308, 0.063, 0.3784, 0.1453, -0.1498, 0.3509, 0.078, 0.1651, -0.0665, 0.2461, -0.7252, -0.3504, 0.2877, -0.0086, 0.1333, -0.1899, -0.1024, -0.503, 1.9833, 1.9816, 1.9801, 1.9788, 1.9764, 1.9752, 1.9739, 1.9729, 1.9724, 1.9713, 1.9694, 1.9692, 1.969, 1.9687, 1.9686, 1.9684, 1.9684, 1.9677, 1.9675, 1.9674, 1.9671, 1.967, 1.9665, 1.9661, 1.9658, 1.9654, 1.964, 1.9621, 1.962, 1.9619, 1.9375, 1.91, 1.9251, 1.8565, 1.9006, 1.8655, 1.8378, 1.8822, 1.7281, 1.5793, 1.8912, 1.6577, 1.917, 1.2552, 1.4419, 1.4417, 1.3822, 1.7138, 1.5705, 1.2355, 0.5549, 1.371, 1.4481, 1.3872, 1.4547, 0.3454, 1.2114, 0.8899, 1.2516, 0.504, 0.4397, -0.4221, 0.8734, 0.0979, 0.2088, -0.0274, 0.2021, 0.8911, 0.3022, 0.6845, -0.3435, 0.4358, 0.739, 0.4335, -0.3666, 0.5109, 0.0029, -0.9395, -0.4684, -0.0714]}, \"token.table\": {\"Topic\": [1, 2, 3, 2, 3, 1, 1, 2, 3, 1, 2, 3, 3, 1, 2, 3, 3, 2, 3, 1, 2, 1, 2, 3, 1, 1, 2, 3, 2, 2, 2, 1, 2, 3, 1, 2, 3, 1, 1, 2, 3, 1, 1, 3, 1, 2, 1, 2, 1, 1, 1, 2, 3, 2, 1, 1, 2, 3, 1, 2, 3, 3, 2, 3, 1, 1, 1, 2, 3, 1, 2, 3, 1, 3, 1, 2, 1, 3, 1, 2, 1, 2, 3, 2, 3, 3, 1, 2, 3, 2, 3, 1, 2, 2, 2, 3, 3, 1, 2, 3, 1, 2, 3, 1, 2, 3, 2, 1, 2, 1, 2, 1, 1, 2, 1, 2, 3, 2, 1, 2, 1, 2, 1, 2, 3, 2, 1, 2, 3, 1, 1, 2, 1, 2, 1, 2, 2, 1, 2, 1, 2, 3, 1, 2, 2, 2, 1, 2, 3, 3, 1, 1, 2, 3, 1, 2, 3, 1, 2, 3, 3, 3, 2, 3, 2, 3, 1, 2, 3, 3, 1, 2, 1, 2, 3, 1, 2, 3, 1, 2, 3, 1, 1, 1, 2, 1, 2, 2, 3, 2, 3, 3, 1, 3, 1, 2, 1, 1, 1, 1, 2, 3, 1, 2, 3, 1, 2, 3, 1, 2, 3, 1, 2, 3, 1, 2, 3, 3, 2, 3, 1, 2, 3, 3, 2, 1, 1, 3, 1, 2, 3, 3, 1, 2, 3, 1, 2, 3, 1, 2, 3, 2, 3, 3, 1, 2, 3, 2, 1, 1, 2, 1, 1, 2, 3, 1, 2, 2, 2, 1, 2, 2, 3, 2, 3, 2, 1, 2, 3, 1, 2, 3, 1, 2, 3, 1, 3, 2, 2, 1, 2, 3, 3, 3, 2, 2, 1, 1, 2, 3, 1, 2, 1, 1, 2, 3, 3, 3, 1, 2, 3, 3, 1, 2, 1, 2, 3, 1, 2, 3, 2, 1, 3, 1, 2, 1, 1, 2, 3, 1, 2, 3, 2, 3, 1, 2, 2, 3, 2, 3, 1, 2, 3, 1, 2, 3, 3, 1, 2, 1, 2, 1, 2, 3, 1, 1, 2, 3, 2, 3], \"Freq\": [0.08670538768120394, 0.4335269384060197, 0.47827810624147976, 0.9994602402235636, 0.9845378266216493, 0.9993448182697282, 0.659874348900245, 0.21219007873558066, 0.1275593536907537, 0.4073739798534562, 0.3202709907400527, 0.2720293352310908, 0.9647373234915648, 0.22919447274718655, 0.2991775178608313, 0.472385554517102, 0.9647572665491467, 0.23887706069887402, 0.7621315746106933, 0.9996201955681214, 0.9966055756775517, 0.4549931442059956, 0.5330107006332485, 0.012456584639645413, 0.9996320539468524, 0.8626350575777206, 0.07358626758053191, 0.06411476779293869, 0.9977590896101944, 0.9997968336134514, 0.9955915608940812, 0.3052492720576931, 0.6862592068188618, 0.008826484975162209, 0.7120385353270469, 0.14053392144612767, 0.14756061751843405, 0.9918902161685991, 0.48713708768406017, 0.47983003136879926, 0.03288175341867406, 0.9995665852371406, 0.9942241347580965, 0.9709583013505777, 0.8772286227346209, 0.12291661706971477, 0.30340264140765155, 0.6962833499423055, 0.996174885965201, 0.994452939137084, 0.10938937475998736, 0.3441763254643505, 0.5469468737999369, 0.9991519688192021, 1.000087885132156, 0.5066458592014793, 0.03406022582867088, 0.45981304868705686, 0.1319202379836401, 0.2779747871798131, 0.5889296338555362, 0.984694400826134, 0.9997878228017213, 0.9772745290766568, 0.9990697692583146, 0.9984300872811637, 0.270776528446139, 0.18175410813507958, 0.5489715919181996, 0.36079348158851876, 0.30506883390861667, 0.33340340052551604, 0.9943170983341498, 0.005068736270182582, 0.7637238769408445, 0.23619931432205568, 0.10140491986900371, 0.8957434588428661, 0.8430110405586339, 0.15755018052281303, 0.930199029701074, 0.069381714270852, 0.9856987638116593, 0.055141939741407, 0.937412975603919, 0.9679404012889586, 0.1735673745889084, 0.16736853978216165, 0.6570764895151532, 0.05622379174578974, 0.9276925638055307, 0.9668133271193596, 0.03184115747997891, 0.9983116821037018, 0.13372382487719445, 0.8647474008725241, 0.9647394814721331, 0.3809236819670077, 0.533371132989628, 0.08577605939891678, 0.36620322529936467, 0.1528107285817102, 0.48103732310928893, 0.31040685557019587, 0.5382902551851529, 0.1512930025846046, 0.999789320583255, 0.9679633085742679, 0.030567262376029514, 0.9952005966115082, 0.9974233652225039, 0.9985915915893635, 0.17600795153085366, 0.8241313495209383, 0.18217292762474432, 0.8183549483142811, 0.9959345752998082, 0.9975156927774558, 0.9977117334443459, 0.9997884950365615, 0.7922532955401298, 0.20787987346534018, 0.5182770686000229, 0.25343063706873364, 0.2283158892511114, 0.9951638231296465, 0.7312524833959401, 0.11383822444217878, 0.15494647215741, 0.9975515424512679, 0.18796580657102882, 0.8120931298950471, 0.7617763873102504, 0.23824684327958168, 0.09509320453356836, 0.9049703298111256, 0.9947231242569338, 0.6001692801397723, 0.3996916820018554, 0.31456911332438464, 0.5479591006295733, 0.13762398707941828, 0.6768389622306095, 0.3231511753237863, 0.9989565606744475, 0.9997130023287042, 0.11718471814967667, 0.29947205749361816, 0.5815834160020991, 0.9931513978155919, 0.9976544221834944, 0.918519672702314, 0.08145126701998692, 0.9647613408493259, 0.8550936930958511, 0.05499533639900272, 0.08988157472413187, 0.7223635570900532, 0.06645744725228489, 0.21189331007974893, 0.9835768255461973, 0.9928877781012444, 0.9975562098456691, 0.9876739795472198, 0.0736925587459386, 0.9276592689194623, 0.4742775342860314, 0.46598803930475247, 0.05980278522208386, 0.9772797315879782, 0.08598872142154934, 0.9144569797330151, 0.32158810485036005, 0.5107575782917483, 0.16800050855628051, 0.5362283291258688, 0.42886659656278897, 0.03482002137180966, 0.9097325283563154, 0.06860278082686967, 0.02237047200876185, 0.999877347836935, 0.9953886835902384, 0.8406670980459156, 0.15838655470430293, 0.15757036102159383, 0.8420166167091421, 0.10954586143936386, 0.8832135078548711, 0.12280865738374921, 0.876035089337411, 0.9959043115412306, 0.2285933204923092, 0.7708379411949962, 0.9986446121585812, 0.9966142607500619, 0.9993641950195664, 0.9956173787934339, 0.99533436705062, 0.5981933127927043, 0.18974412258867082, 0.21171449467788533, 0.6048342918580278, 0.351027583325854, 0.04387844791573175, 0.47664357248881256, 0.3105231907101377, 0.21298461792265885, 0.8316436867290634, 0.11880624096129477, 0.049933057795326787, 0.33908176425499964, 0.43415141778443883, 0.22711083898699355, 0.3293943570178735, 0.4318046675524328, 0.23883001523917743, 0.9877454019467412, 0.8886621663692784, 0.1099183811651728, 0.380489758468509, 0.29203641978394784, 0.32854097225694134, 0.9906855006928954, 0.9982944103369628, 0.9973052903464702, 0.41863785203956067, 0.5791156953213922, 0.19620071101478412, 0.7303026465550297, 0.07400553134768173, 0.9647452497547405, 0.12822755637883207, 0.1528867018362998, 0.720047047358057, 0.5504282546840048, 0.3721404395421421, 0.07735238540546426, 0.144780420491262, 0.8205780606553139, 0.035027521086595646, 0.9984111884211807, 0.9959397824226665, 0.9993136443849368, 0.13345356912552114, 0.3272789909506828, 0.5401692083652045, 0.9985159247093363, 0.9982456571701882, 0.8788262022838368, 0.1200582243557154, 0.99828213447179, 0.5283017521841641, 0.4424933025317757, 0.029221255827570094, 0.7229480986183978, 0.27671199568569593, 0.9999098572413037, 0.997010730712792, 0.49934578116342127, 0.5007563624661427, 0.08365730732792082, 0.9202303806071289, 0.0439706646978507, 0.9497663574735752, 0.99380214596185, 0.6245836732951658, 0.18170318277305525, 0.1936971621417887, 0.6757339984593401, 0.22685355662563564, 0.09713676227853014, 0.2065562371961351, 0.4584540874353243, 0.33418448131732426, 0.4190937794750737, 0.5806438955855769, 0.999964424826778, 0.9947226959817972, 0.42524691261565906, 0.4055801705836958, 0.16883712499138295, 0.9959249081143843, 0.9813205277428484, 0.9981856981672023, 0.9966030791625488, 0.9996445111099999, 0.7877802352712269, 0.17663998065562478, 0.035782375502586374, 0.07864602477053516, 0.9175369556562436, 0.999540778011952, 0.6819706709771679, 0.2644466622657073, 0.05368799686938017, 0.995933284972411, 0.9906769410251346, 0.45685882954233636, 0.25689186581294315, 0.28754373616562384, 0.9934136929128692, 0.9761139372277343, 0.02360446220892103, 0.7476885870355487, 0.11885438796241846, 0.13352469944731948, 0.7745449975193164, 0.17526200673794748, 0.050529167265174375, 0.9960118504917156, 0.983129367471557, 0.016482445016781526, 0.9994323869203674, 0.9958819812780614, 0.9972391345230436, 0.6420439236253623, 0.3387160856921203, 0.018843092962519584, 0.33925804220612094, 0.5655564234318798, 0.09514387552372777, 0.3348164894756226, 0.6643464028016302, 0.9469342079552892, 0.051807950587219466, 0.9953785833171777, 0.9885886980946437, 0.9639690623700815, 0.035817913464477984, 0.9207278996033957, 0.08026082019569075, 0.9772807103042437, 0.6724205770148993, 0.1419141770274539, 0.18575154061185065, 0.9992032141405491, 0.8026915629993272, 0.19717278219024173, 0.8676609437524619, 0.13233389933490786, 0.20019061205420902, 0.7462329158289359, 0.053782552492175555, 0.9990384284230593, 0.17645252036258366, 0.7025119034996321, 0.12120803968831681, 0.09072630391182578, 0.9072630391182577], \"Term\": [\"00\", \"00\", \"00\", \"activities\", \"alila\", \"amsterdam\", \"area\", \"area\", \"area\", \"arrived\", \"arrived\", \"arrived\", \"asia\", \"asked\", \"asked\", \"asked\", \"attendant\", \"attitude\", \"attitude\", \"attractions\", \"bali\", \"bar\", \"bar\", \"bar\", \"barcelona\", \"bathroom\", \"bathroom\", \"bathroom\", \"bavaro\", \"beach\", \"beaches\", \"beautiful\", \"beautiful\", \"beautiful\", \"bed\", \"bed\", \"bed\", \"berlin\", \"best\", \"best\", \"best\", \"blocks\", \"boston\", \"bravo\", \"breakfast\", \"breakfast\", \"buffet\", \"buffet\", \"cable\", \"cafes\", \"called\", \"called\", \"called\", \"cana\", \"canal\", \"car\", \"car\", \"car\", \"card\", \"card\", \"card\", \"carlton\", \"carte\", \"casitas\", \"central\", \"centre\", \"charge\", \"charge\", \"charge\", \"check\", \"check\", \"check\", \"city\", \"city\", \"clean\", \"clean\", \"clerk\", \"clerk\", \"close\", \"close\", \"comfortable\", \"comfortable\", \"condado\", \"conditioner\", \"conditioner\", \"confirmation\", \"construction\", \"construction\", \"construction\", \"contacted\", \"contacted\", \"convenient\", \"convenient\", \"country\", \"credit\", \"credit\", \"dallas\", \"day\", \"day\", \"day\", \"desk\", \"desk\", \"desk\", \"did\", \"did\", \"did\", \"disco\", \"distance\", \"distance\", \"district\", \"dominican\", \"downtown\", \"drink\", \"drink\", \"drinks\", \"drinks\", \"embassy\", \"entertainment\", \"euros\", \"excellence\", \"excellent\", \"excellent\", \"experience\", \"experience\", \"experience\", \"fish\", \"floor\", \"floor\", \"floor\", \"florence\", \"food\", \"food\", \"friendly\", \"friendly\", \"fun\", \"fun\", \"golf\", \"good\", \"good\", \"got\", \"got\", \"got\", \"great\", \"great\", \"grill\", \"grounds\", \"guest\", \"guest\", \"guest\", \"harbor\", \"harbour\", \"helpful\", \"helpful\", \"honolulu\", \"hotel\", \"hotel\", \"hotel\", \"hotels\", \"hotels\", \"hotels\", \"hotwire\", \"hyatt\", \"inclusive\", \"intercontinental\", \"juan\", \"juan\", \"just\", \"just\", \"just\", \"katrina\", \"kids\", \"kids\", \"like\", \"like\", \"like\", \"little\", \"little\", \"little\", \"located\", \"located\", \"located\", \"location\", \"london\", \"lovely\", \"lovely\", \"lunch\", \"lunch\", \"management\", \"management\", \"manager\", \"manager\", \"managers\", \"marriott\", \"marriott\", \"metro\", \"mexican\", \"modern\", \"museum\", \"neighborhood\", \"new\", \"new\", \"new\", \"nice\", \"nice\", \"nice\", \"night\", \"night\", \"night\", \"nights\", \"nights\", \"nights\", \"no\", \"no\", \"no\", \"not\", \"not\", \"not\", \"oahu\", \"ocean\", \"ocean\", \"old\", \"old\", \"old\", \"outrigger\", \"paradise\", \"paris\", \"parking\", \"parking\", \"people\", \"people\", \"people\", \"phoenix\", \"phone\", \"phone\", \"phone\", \"place\", \"place\", \"place\", \"pool\", \"pool\", \"pool\", \"pools\", \"pr\", \"priceline\", \"property\", \"property\", \"property\", \"punta\", \"quarter\", \"quiet\", \"quiet\", \"ramblas\", \"really\", \"really\", \"really\", \"recommend\", \"recommend\", \"resort\", \"resorts\", \"restaurants\", \"restaurants\", \"rico\", \"rico\", \"ritz\", \"ritz\", \"riu\", \"room\", \"room\", \"room\", \"rooms\", \"rooms\", \"rooms\", \"said\", \"said\", \"said\", \"san\", \"san\", \"sand\", \"seafood\", \"service\", \"service\", \"service\", \"shabby\", \"shangri\", \"shows\", \"sick\", \"sights\", \"small\", \"small\", \"small\", \"spanish\", \"spanish\", \"square\", \"staff\", \"staff\", \"staff\", \"stained\", \"stains\", \"star\", \"star\", \"star\", \"starwood\", \"station\", \"station\", \"stay\", \"stay\", \"stay\", \"stayed\", \"stayed\", \"stayed\", \"steak\", \"street\", \"street\", \"subway\", \"swim\", \"sydney\", \"the\", \"the\", \"the\", \"time\", \"time\", \"time\", \"told\", \"told\", \"train\", \"train\", \"tropical\", \"ubud\", \"vacation\", \"vacation\", \"value\", \"value\", \"verde\", \"view\", \"view\", \"view\", \"waikiki\", \"walk\", \"walk\", \"walking\", \"walking\", \"water\", \"water\", \"water\", \"weekend\", \"went\", \"went\", \"went\", \"wing\", \"wing\"]}, \"R\": 30, \"lambda.step\": 0.01, \"plot.opts\": {\"xlab\": \"PC1\", \"ylab\": \"PC2\"}, \"topic.order\": [2, 1, 3]};\n",
       "\n",
       "function LDAvis_load_lib(url, callback){\n",
       "  var s = document.createElement('script');\n",
       "  s.src = url;\n",
       "  s.async = true;\n",
       "  s.onreadystatechange = s.onload = callback;\n",
       "  s.onerror = function(){console.warn(\"failed to load library \" + url);};\n",
       "  document.getElementsByTagName(\"head\")[0].appendChild(s);\n",
       "}\n",
       "\n",
       "if(typeof(LDAvis) !== \"undefined\"){\n",
       "   // already loaded: just create the visualization\n",
       "   !function(LDAvis){\n",
       "       new LDAvis(\"#\" + \"ldavis_el12276224555462011233341837\", ldavis_el12276224555462011233341837_data);\n",
       "   }(LDAvis);\n",
       "}else if(typeof define === \"function\" && define.amd){\n",
       "   // require.js is available: use it to load d3/LDAvis\n",
       "   require.config({paths: {d3: \"https://d3js.org/d3.v5\"}});\n",
       "   require([\"d3\"], function(d3){\n",
       "      window.d3 = d3;\n",
       "      LDAvis_load_lib(\"https://cdn.jsdelivr.net/gh/bmabey/pyLDAvis@3.4.0/pyLDAvis/js/ldavis.v3.0.0.js\", function(){\n",
       "        new LDAvis(\"#\" + \"ldavis_el12276224555462011233341837\", ldavis_el12276224555462011233341837_data);\n",
       "      });\n",
       "    });\n",
       "}else{\n",
       "    // require.js not available: dynamically load d3 & LDAvis\n",
       "    LDAvis_load_lib(\"https://d3js.org/d3.v5.js\", function(){\n",
       "         LDAvis_load_lib(\"https://cdn.jsdelivr.net/gh/bmabey/pyLDAvis@3.4.0/pyLDAvis/js/ldavis.v3.0.0.js\", function(){\n",
       "                 new LDAvis(\"#\" + \"ldavis_el12276224555462011233341837\", ldavis_el12276224555462011233341837_data);\n",
       "            })\n",
       "         });\n",
       "}\n",
       "</script>"
      ],
      "text/plain": [
       "PreparedData(topic_coordinates=                 x            y  topics  cluster       Freq\n",
       "topic                                                      \n",
       "1      -260.889709   681.611206       1        1  48.758009\n",
       "0     -1114.536133 -1369.353882       2        1  37.531184\n",
       "2      1093.192017 -1087.311890       3        1  13.710807, topic_info=             Term          Freq         Total Category  logprob  loglift\n",
       "12269       hotel  13128.000000  13128.000000  Default  30.0000  30.0000\n",
       "16757         not   7850.000000   7850.000000  Default  29.0000  29.0000\n",
       "3193        beach   2822.000000   2822.000000  Default  28.0000  28.0000\n",
       "20790        room   8921.000000   8921.000000  Default  27.0000  27.0000\n",
       "14564    location   3059.000000   3059.000000  Default  26.0000  26.0000\n",
       "...           ...           ...           ...      ...      ...      ...\n",
       "9356   experience    200.195805    875.979331   Topic3  -5.9954   0.5109\n",
       "11130         got    216.818394   1576.760015   Topic3  -5.9157   0.0029\n",
       "22945       staff    241.527960   4507.525222   Topic3  -5.8077  -0.9395\n",
       "7040          day    220.134681   2564.818220   Topic3  -5.9005  -0.4684\n",
       "2265         area    208.173482   1630.613467   Topic3  -5.9563  -0.0714\n",
       "\n",
       "[252 rows x 6 columns], token_table=       Topic      Freq        Term\n",
       "term                              \n",
       "0          1  0.086705          00\n",
       "0          2  0.433527          00\n",
       "0          3  0.478278          00\n",
       "1286       2  0.999460  activities\n",
       "1698       3  0.984538       alila\n",
       "...      ...       ...         ...\n",
       "26692      1  0.176453        went\n",
       "26692      2  0.702512        went\n",
       "26692      3  0.121208        went\n",
       "26930      2  0.090726        wing\n",
       "26930      3  0.907263        wing\n",
       "\n",
       "[350 rows x 3 columns], R=30, lambda_step=0.01, plot_opts={'xlab': 'PC1', 'ylab': 'PC2'}, topic_order=[2, 1, 3])"
      ]
     },
     "execution_count": 38,
     "metadata": {},
     "output_type": "execute_result"
    }
   ],
   "source": [
    "# positive corpus, assume that there are 3 topics\n",
    "lda_positive_corpus3 = LatentDirichletAllocation(n_components=3, max_iter=500,\n",
    "                                                doc_topic_prior = 0.5,\n",
    "                                                topic_word_prior = 0.25).fit(bow_positive_corpus)\n",
    "\n",
    "no_top_words = 15\n",
    "display_topics(lda_positive_corpus3, bow_vectorizer.get_feature_names_out(), no_top_words)\n",
    "\n",
    "#run the visualization [mds is a function to use for visualizing the \"distance\" between topics]\n",
    "pyLDAvis.lda_model.prepare(lda_positive_corpus3, bow_positive_corpus, bow_vectorizer, mds='tsne')"
   ]
  },
  {
   "cell_type": "code",
   "execution_count": 39,
   "id": "f09f3c7b",
   "metadata": {},
   "outputs": [
    {
     "name": "stdout",
     "output_type": "stream",
     "text": [
      "Coherence score for the model:  -0.9885\n",
      "Log-Likelihood (higher values are better):  -4535580.565015859\n",
      "Perplexity (lower values are better):  2287.0724749665446\n"
     ]
    }
   ],
   "source": [
    "#top 15 words for each topic (using the function defined in session prep)\n",
    "topic_topwords_3_positive = get_topic_words(vectorizer = bow_vectorizer, lda_model = lda_positive_corpus3, n_words=15)\n",
    "cm_3 = CoherenceModel(topics=topic_topwords_3_positive, \n",
    "                    corpus = news_corpus_bow , \n",
    "                    dictionary = news_dictionary, coherence='u_mass')\n",
    "print(\"Coherence score for the model: \", np.round(cm_3.get_coherence(), 4))  # get coherence value\n",
    "print(\"Log-Likelihood (higher values are better): \", lda_positive_corpus3.score(bow_positive_corpus))\n",
    "print(\"Perplexity (lower values are better): \", lda_positive_corpus3.perplexity(bow_positive_corpus))"
   ]
  },
  {
   "cell_type": "code",
   "execution_count": 40,
   "id": "2ebe5922",
   "metadata": {},
   "outputs": [],
   "source": [
    "# do LDA for negative\n",
    "# vectorize the normalized data:\n",
    "bow_negative_corpus = bow_vectorizer.fit_transform(negative_corpus)"
   ]
  },
  {
   "cell_type": "code",
   "execution_count": 41,
   "id": "c941669c",
   "metadata": {},
   "outputs": [],
   "source": [
    "#tokenizing the corpus\n",
    "news_corpus_tokenized = [tokenize_text(negative_corpus[doc_id]) for doc_id in range(len(negative_corpus))]\n",
    "\n",
    "#Dictionary of the corpus:\n",
    "news_dictionary = Dictionary(news_corpus_tokenized)\n",
    "\n",
    "#Bag-of-words representation for each document of the corpus:\n",
    "news_corpus_bow = [news_dictionary.doc2bow(doc) for doc in news_corpus_tokenized]"
   ]
  },
  {
   "cell_type": "code",
   "execution_count": 42,
   "id": "f1547932",
   "metadata": {},
   "outputs": [
    {
     "name": "stdout",
     "output_type": "stream",
     "text": [
      "Topic 0:\n",
      "hospital riu conditions mold bathroom poor standard bleach scary saw quality metal bambu medical naiboa\n",
      "Topic 1:\n",
      "star buffet tour ramada says shop information items cab ca contact driver tell does home\n",
      "Topic 2:\n",
      "sofa ibis over course sat baggage toddler deceptive bartender 08 don__ but linens wake picked\n",
      "Topic 3:\n",
      "not no room food resort hotel beach did people day like got just water time\n",
      "Topic 4:\n",
      "hotel room not no stay did staff rooms night service stayed breakfast just desk told\n"
     ]
    },
    {
     "data": {
      "text/html": [
       "\n",
       "<link rel=\"stylesheet\" type=\"text/css\" href=\"https://cdn.jsdelivr.net/gh/bmabey/pyLDAvis@3.4.0/pyLDAvis/js/ldavis.v1.0.0.css\">\n",
       "\n",
       "\n",
       "<div id=\"ldavis_el1227622455546219045478981716\" style=\"background-color:white;\"></div>\n",
       "<script type=\"text/javascript\">\n",
       "\n",
       "var ldavis_el1227622455546219045478981716_data = {\"mdsDat\": {\"x\": [10.017975807189941, 76.82173919677734, -19.548721313476562, -56.19741439819336, 83.11720275878906], \"y\": [-131.2965087890625, -57.49845504760742, 39.252227783203125, -52.73126983642578, 41.62014389038086], \"topics\": [1, 2, 3, 4, 5], \"cluster\": [1, 1, 1, 1, 1], \"Freq\": [61.895138597722976, 29.212338058558903, 5.014386758477779, 2.252868686891787, 1.6252678983485598]}, \"tinfo\": {\"Term\": [\"resort\", \"beach\", \"hotel\", \"not\", \"food\", \"bathroom\", \"room\", \"no\", \"star\", \"poor\", \"people\", \"buffet\", \"got\", \"pool\", \"like\", \"water\", \"standard\", \"does\", \"quality\", \"riu\", \"saw\", \"course\", \"day\", \"long\", \"tour\", \"sick\", \"location\", \"days\", \"need\", \"drinks\", \"location\", \"reception\", \"parking\", \"in\", \"staying\", \"card\", \"street\", \"window\", \"rate\", \"charged\", \"customer\", \"car\", \"fact\", \"tiny\", \"close\", \"late\", \"advised\", \"city\", \"expensive\", \"checking\", \"housekeeping\", \"credit\", \"weekend\", \"comfortable\", \"hilton\", \"dark\", \"on\", \"cheap\", \"disappointing\", \"san\", \"breakfast\", \"nights\", \"hotel\", \"manager\", \"business\", \"room\", \"stay\", \"check\", \"stayed\", \"small\", \"hotels\", \"not\", \"night\", \"rooms\", \"staff\", \"service\", \"floor\", \"price\", \"desk\", \"did\", \"told\", \"no\", \"bathroom\", \"booked\", \"bed\", \"asked\", \"good\", \"just\", \"time\", \"day\", \"place\", \"bad\", \"said\", \"the\", \"resort\", \"beach\", \"drinks\", \"cana\", \"punta\", \"ocean\", \"son\", \"pools\", \"god\", \"french\", \"spa\", \"bavaro\", \"sick\", \"ate\", \"when\", \"entertainment\", \"casino\", \"power\", \"ac\", \"shows\", \"feeling\", \"tip\", \"inclusive\", \"stomach\", \"nasty\", \"resorts\", \"caribbean\", \"hanging\", \"lucky\", \"march\", \"grounds\", \"beautiful\", \"doctor\", \"food\", \"drink\", \"pool\", \"vacation\", \"people\", \"eat\", \"water\", \"restaurants\", \"got\", \"days\", \"buffet\", \"like\", \"lunch\", \"no\", \"not\", \"day\", \"towels\", \"bring\", \"restaurant\", \"went\", \"just\", \"did\", \"thing\", \"way\", \"10\", \"time\", \"room\", \"place\", \"good\", \"hotel\", \"bar\", \"staff\", \"service\", \"rooms\", \"night\", \"stay\", \"ramada\", \"contact\", \"arrogant\", \"insurance\", \"knee\", \"scam\", \"felix\", \"california\", \"compensate\", \"agusti\", \"sant\", \"webpage\", \"steal\", \"peninsula\", \"decorations\", \"details\", \"cancellation\", \"dad\", \"worry\", \"mandatory\", \"shady\", \"lied\", \"alexis\", \"interval\", \"ie\", \"2e\", \"reference\", \"hurricane\", \"dh\", \"ensure\", \"information\", \"driver\", \"gon\", \"na\", \"clients\", \"fall\", \"shop\", \"says\", \"tour\", \"account\", \"cab\", \"items\", \"buffet\", \"star\", \"bali\", \"imagine\", \"provide\", \"lazy\", \"ca\", \"simply\", \"disaster\", \"email\", \"tell\", \"life\", \"does\", \"home\", \"matter\", \"bleach\", \"naiboa\", \"chipped\", \"hospital\", \"skills\", \"auto\", \"hogar\", \"motorized\", \"boards\", \"umbrella\", \"04\", \"conditions\", \"bambu\", \"unfit\", \"boots\", \"fedex\", \"abused\", \"beverage\", \"defrosting\", \"scratched\", \"celing\", \"mass\", \"tune\", \"doctors\", \"worker\", \"grim\", \"politely\", \"cord\", \"nearer\", \"fi\", \"poisoning\", \"06\", \"scary\", \"mold\", \"fairmont\", \"08\", \"apple\", \"riu\", \"infant\", \"metal\", \"medical\", \"research\", \"mildew\", \"nearly\", \"standard\", \"bathroom\", \"saw\", \"poor\", \"quality\", \"turn\", \"stated\", \"condition\", \"long\", \"need\", \"ibis\", \"toddler\", \"deceptive\", \"don__\", \"expenses\", \"didn__\", \"recive\", \"sz\", \"signage\", \"remodel\", \"itchier\", \"obvious\", \"ady\", \"cream\", \"apathy\", \"sorrys\", \"disclose\", \"anyways\", \"bbq\", \"proceeded\", \"basement\", \"pull\", \"1980s\", \"angel\", \"arizona\", \"biltmore\", \"delivering\", \"fictitious\", \"garlic\", \"ketchup\", \"tomatoes\", \"pasta\", \"bartender\", \"thrown\", \"van\", \"08\", \"hut\", \"but\", \"baggage\", \"sofa\", \"screw\", \"sat\", \"over\", \"linens\", \"course\", \"wake\", \"picked\", \"encountered\", \"cute\", \"wakeup\", \"80\", \"that\", \"account\", \"women\"], \"Freq\": [115.0, 113.0, 1111.0, 1130.0, 167.0, 112.0, 995.0, 464.0, 88.0, 65.0, 146.0, 61.0, 144.0, 78.0, 166.0, 110.0, 23.0, 47.0, 32.0, 17.0, 30.0, 29.0, 215.0, 54.0, 19.0, 41.0, 110.0, 87.0, 53.0, 36.0, 110.03137546077318, 85.10717384575227, 59.26413699628058, 58.34902370529979, 55.56589277960821, 50.025385731013756, 49.10065875625011, 47.26975183900466, 47.27109524315518, 48.15185775275593, 44.50429180414434, 42.647641651341644, 38.03841963905594, 37.12114668515499, 35.26944014542232, 35.24634229836405, 33.430728435352975, 32.51002322930241, 32.48127343889087, 31.5693039801305, 29.750220683425866, 30.642491116528234, 29.73730478282815, 29.738150591052428, 29.741411607366942, 28.791984803068747, 28.79465126956184, 28.764070156009204, 27.862821810410058, 26.953572133219758, 149.91359068594645, 80.17233246278523, 997.2392359295286, 82.5470114231942, 48.79736358425313, 852.6028343144885, 298.6477673325936, 122.34645821966183, 188.28332550356146, 118.69425068397085, 93.97157918389212, 837.2310067163033, 220.04535393348675, 224.26312800685483, 231.12856198981777, 217.46607977056078, 85.62430626065658, 68.94484477934823, 145.95954659073308, 254.45494519800266, 137.84802966408228, 302.35746482020215, 95.0504314097785, 85.9102093263383, 98.07595151622965, 91.69647385105301, 135.94533763382717, 146.78599275443779, 133.74004640893693, 126.21493058262745, 102.5920860577197, 93.70571645523316, 89.96509031910729, 87.20482273755364, 115.36570807927386, 112.72805879752418, 36.20180424497201, 26.582687627188488, 26.582687627188488, 21.30780887846507, 16.89977660364319, 15.145190596888723, 15.148184285366993, 13.378697679528768, 13.360310568673006, 12.493324430994356, 39.429312782197485, 12.485202426144578, 12.480902826125863, 11.642540227747032, 11.641133415481878, 11.636005757658825, 11.622508176913765, 10.764365351625683, 11.566766474530153, 9.88234109513826, 9.870998559181121, 9.868557325336566, 9.007598163148536, 9.0043111040465, 9.002056590183388, 8.995809070173417, 8.99551473574298, 8.990548368951059, 12.34248718777393, 33.30904068763595, 13.464590852875016, 124.89085104929552, 29.54622486078884, 58.90624323963584, 42.29578478406545, 90.46124918456161, 36.13379789498603, 68.36779403826739, 33.40518858705079, 82.13506138059023, 54.75125999929902, 40.75830379422592, 83.03021401058503, 17.136038025074168, 161.6515432969943, 293.0467437208856, 89.42678745295028, 37.390831235835115, 23.650045341446503, 46.47490387246276, 59.05779234756018, 78.62366394978581, 103.53849677427114, 33.11291584728107, 42.8726071816302, 38.338424618398086, 63.800836728891205, 143.00291563184777, 56.54390921248376, 62.581463042064165, 114.2286585808174, 39.93556391530166, 55.426601424839696, 52.612612247963135, 52.29148932313077, 44.88546593067591, 39.46274364703704, 6.604717045841126, 4.213000633686995, 3.6695284125427654, 3.6686268422667525, 3.0853339703234606, 3.073787371704694, 3.0700498130880987, 3.068382313841995, 2.4964351452677316, 2.4959836462679004, 2.4959836462679004, 2.4960014236360646, 2.4956513165484187, 2.495660275133813, 2.4944378213971192, 2.493277820263427, 2.4919862401594197, 2.48781212293402, 2.4811244559731724, 2.476563830621069, 2.4742798035529514, 2.452084756742764, 1.9098780146950831, 1.9091119867258861, 1.9083204747115639, 1.908327855649936, 1.9081734181464476, 1.9071886467281733, 1.9066977955865125, 1.9064582655546327, 5.323800355590962, 4.1732155852245585, 2.4964162749340715, 2.4964162749340715, 3.4137847407385116, 2.985541437069662, 5.338568793805935, 5.61803506686589, 6.896390254163575, 3.0289861765059523, 4.968229419727758, 5.295107974290359, 7.46975192468472, 8.00984251705739, 3.4257798352273667, 3.53984958842828, 2.914579705912145, 2.831832179197976, 4.216895783274338, 3.814083190902615, 3.732454757558484, 3.141175255559319, 4.070709837327795, 3.7166484290438353, 3.978190741261864, 3.934974093609142, 3.1859752135771697, 2.0741717159554254, 1.6798838129299727, 1.6727280128858926, 5.5830064112243845, 1.2836006030853881, 1.2816617887524455, 1.2816617887524455, 1.2790333573675314, 1.270861984886805, 1.2712575543890472, 1.2699631452118925, 3.2674327708128645, 1.6852567564251582, 0.8891190386783677, 0.8887628922185824, 0.8887628922185824, 0.888406480212264, 0.888406480212264, 0.888406480212264, 0.888331915958958, 0.8879451962979812, 0.8876654586956338, 0.8876649305366606, 0.8872062440318156, 0.8872062440318156, 0.8871015102786874, 0.8870156586288801, 0.8868684921014991, 0.8867150730972776, 0.8856879873384654, 1.2804258090970708, 1.3030509382130313, 2.050008098793497, 3.0653470199453396, 1.2779461165916122, 1.2918275806848893, 1.5837385223455234, 3.5681258344690048, 1.257793985982962, 1.7129601380581645, 1.6834356881647552, 1.2720322079083972, 1.5988435655638364, 1.4534114145856232, 2.276286242755702, 2.7746003304447235, 1.9655141804263545, 2.350420173001988, 1.7714998160579092, 1.571010221548364, 1.4974321967468445, 1.478936901409022, 1.433366061767945, 1.351609283573856, 1.3663981227242152, 1.04435865095838, 1.0442516887750721, 1.0295404323759274, 0.7232509590712338, 0.7229822286294771, 0.7229822286294771, 0.7226276589618579, 0.7225159096511639, 0.721760294461978, 0.7217787849949215, 0.7216341530818622, 0.7207848276324349, 0.7205644666576445, 0.7192008800874768, 0.7192008800874768, 0.7195688641480742, 0.7191743757104561, 0.7191743757104561, 0.7133150925400569, 0.7304276496638403, 0.7342759220972346, 0.40150479573581077, 0.40150479573581077, 0.40150479573581077, 0.40150479573581077, 0.40150479573581077, 0.40150479573581077, 0.40150479573581077, 0.40150479573581077, 0.7269627996961225, 0.7272187804424809, 1.044022918308337, 0.7238609615970836, 0.7272678444131695, 1.0372102621044343, 0.719904097811742, 0.9625167170957675, 1.0746575550783373, 1.4171059067793492, 0.7642881911144691, 1.1520305255194985, 1.3157314183445177, 0.9241356248226257, 1.2145953846396949, 0.8908990719907265, 0.817246977662067, 0.7948600333294539, 0.7466313691768255, 0.7351241639598282, 0.7496067541934798, 0.726886161020931, 0.7260198270987829, 0.7238270886508227], \"Total\": [115.0, 113.0, 1111.0, 1130.0, 167.0, 112.0, 995.0, 464.0, 88.0, 65.0, 146.0, 61.0, 144.0, 78.0, 166.0, 110.0, 23.0, 47.0, 32.0, 17.0, 30.0, 29.0, 215.0, 54.0, 19.0, 41.0, 110.0, 87.0, 53.0, 36.0, 110.59399268727704, 85.6766790264593, 59.82757708496155, 58.913222460421096, 56.135552107791945, 50.59859960125822, 49.669989290897114, 47.83601028651765, 47.837798920570876, 48.73562689674416, 45.06931586023637, 43.21525199726718, 38.60671193662259, 37.68685180204577, 35.83502954283634, 35.82386653568613, 33.99457190839808, 33.07230646641924, 33.061155044627995, 32.14767994294939, 30.305865910022227, 31.21510867426313, 30.299448040850088, 30.301019660776788, 30.3046044043045, 29.365582348035772, 29.37253302797079, 29.354708744285755, 28.449983952570708, 27.525963876136963, 155.55832069221398, 82.8051536188771, 1111.8072028685904, 86.43107826978587, 50.54404088653014, 995.9402127395765, 338.4455094535278, 133.1524654892456, 210.13038104505964, 134.7392585901991, 104.55548384674745, 1130.6139505879487, 265.2660415698434, 276.89268864512195, 286.8916986614895, 270.41785737463243, 97.12789063187601, 76.11987608824626, 181.75145524272048, 358.33192643234696, 176.09050738704858, 464.3477902080122, 112.76938460912683, 99.78208389058756, 123.21415545139041, 115.88075225672293, 198.86261998495152, 225.7480579959179, 197.8774895732714, 215.98288742750114, 159.47487488900128, 132.67564251760663, 121.07019428578772, 116.5442064337641, 115.94846298828763, 113.30920215180366, 36.80594836501834, 27.149799927639435, 27.149799927639435, 21.874120595973025, 17.48173542229745, 15.71510716802157, 15.718368036444632, 13.963087089959307, 13.94735346734788, 13.072395373708764, 41.27841634135479, 13.076464432895554, 13.077157363904265, 12.204054520175099, 12.206776401195716, 12.204923015249049, 12.20093148989334, 11.325003837153162, 12.194672678248622, 10.445595446279118, 10.439846414239112, 10.438581695087276, 9.567927244869596, 9.568312788999327, 9.568653213769547, 9.567516489567765, 9.567571829603896, 9.56496948334423, 13.318134060934815, 37.886452075523906, 14.799525406371837, 167.15128748099383, 35.30781586338686, 78.14454137232103, 54.05013831726163, 146.7153307471713, 50.670561933995685, 110.8952461118835, 46.18983524286381, 144.35993857903296, 87.57554610608729, 61.956881783394984, 166.4634635253522, 20.697828765819718, 464.3477902080122, 1130.6139505879487, 215.98288742750114, 63.524472963650815, 32.82287184636717, 87.98833307110309, 140.89369971116403, 225.7480579959179, 358.33192643234696, 57.27082292436661, 90.93842496252478, 74.54708623614427, 197.8774895732714, 995.9402127395765, 159.47487488900128, 198.86261998495152, 1111.8072028685904, 83.70418991660262, 286.8916986614895, 270.41785737463243, 276.89268864512195, 265.2660415698434, 338.4455094535278, 7.250956662028306, 4.910748580367517, 4.308053483284465, 4.308729247399593, 3.718182605364079, 3.724241571562468, 3.725773181570907, 3.7267444469675692, 3.130561673338618, 3.1307167096986235, 3.1307167096986235, 3.1307678254686433, 3.1309423242514716, 3.1309976915892026, 3.1315116447075715, 3.1320666266149995, 3.132589294228233, 3.1346687546961314, 3.137673183471546, 3.136241959807353, 3.142085598950654, 3.1318239355353277, 2.5416007673781316, 2.541947170688155, 2.542531986891333, 2.542546197979554, 2.5425695182758252, 2.5430739402026457, 2.5433628008845948, 2.543458856121159, 7.86056099356882, 6.239219635858772, 3.526858459119453, 3.526858459119453, 5.313924528058196, 4.502546760639644, 10.845454613272517, 13.261681346156255, 19.99506223285381, 5.1509134303632385, 13.611187163082775, 16.13006706320804, 61.956881783394984, 88.58134075699493, 7.945724239997097, 8.99570239679197, 5.165690753251404, 4.723013729656051, 18.089827537160726, 13.028961270040348, 12.43972729580675, 8.212038732498714, 28.229299100173677, 19.689810385372255, 47.50309126838652, 53.4088716550323, 10.930739033901476, 2.755616321149184, 2.35882583052738, 2.3679913254974503, 8.127887974272838, 1.9645894088619853, 1.9670414987975955, 1.9670414987975955, 1.9701141924189929, 1.9726227305080128, 1.979636504300138, 1.9810647255576905, 5.685853996489325, 2.948793076289304, 1.5681214832059878, 1.5685130150938809, 1.5685130150938809, 1.5690031473986463, 1.5690031473986463, 1.5690031473986463, 1.5691198738183385, 1.5696647867544797, 1.5698430542900925, 1.569975589678964, 1.5704364483613773, 1.5704364483613773, 1.5705574642735545, 1.570827111355434, 1.5709784676148941, 1.5710726140745401, 1.5725224583440343, 2.2986541696185645, 2.5443998009171214, 5.555773973062735, 10.335433817576197, 2.850886056208249, 2.93418712242842, 4.234973926345965, 17.629046873784844, 2.920346437957432, 5.831579021264762, 7.027590209087409, 3.8251529777087567, 8.001108048731925, 6.347191052921312, 23.629875297360815, 112.76938460912683, 30.856562707128546, 65.59074046174334, 32.43898984129722, 15.85439648664195, 13.489818697035458, 11.778732842107159, 54.002742581238714, 53.0968698606447, 2.0649188360212856, 1.7438921818632558, 1.7440793627737816, 1.7656773181445506, 1.421136650096293, 1.4216381130633282, 1.4216381130633282, 1.4222941989462268, 1.4224898174471547, 1.4234493282727216, 1.4236886768886576, 1.4240416095515087, 1.4256324549648978, 1.4258175013771976, 1.4264878452414762, 1.4264878452414762, 1.427392708644275, 1.428251081364031, 1.428251081364031, 1.43872179652371, 1.823833758646122, 2.0071758898384147, 1.0995639654264373, 1.0995639654264373, 1.0995639654264373, 1.0995639654264373, 1.0995639654264373, 1.0995639654264373, 1.0995639654264373, 1.0995639654264373, 2.011286053854013, 2.013183075747549, 2.9234465551934083, 2.0117578544789056, 2.0243209295214974, 2.93418712242842, 2.0302965199824117, 2.7651091111820487, 3.1674090736782117, 4.614911023283327, 2.2293294576730434, 5.226655862843556, 8.65914945503081, 6.403493594997449, 29.5092509312503, 8.402110712480981, 6.625789636388688, 8.608502840159984, 3.1269240046402755, 2.3206973056992863, 6.23447708740749, 2.886094582690511, 5.1509134303632385, 5.774793512307002], \"Category\": [\"Default\", \"Default\", \"Default\", \"Default\", \"Default\", \"Default\", \"Default\", \"Default\", \"Default\", \"Default\", \"Default\", \"Default\", \"Default\", \"Default\", \"Default\", \"Default\", \"Default\", \"Default\", \"Default\", \"Default\", \"Default\", \"Default\", \"Default\", \"Default\", \"Default\", \"Default\", \"Default\", \"Default\", \"Default\", \"Default\", \"Topic1\", \"Topic1\", \"Topic1\", \"Topic1\", \"Topic1\", \"Topic1\", \"Topic1\", \"Topic1\", \"Topic1\", \"Topic1\", \"Topic1\", \"Topic1\", \"Topic1\", \"Topic1\", \"Topic1\", \"Topic1\", \"Topic1\", \"Topic1\", \"Topic1\", \"Topic1\", \"Topic1\", \"Topic1\", \"Topic1\", \"Topic1\", \"Topic1\", \"Topic1\", \"Topic1\", \"Topic1\", \"Topic1\", \"Topic1\", \"Topic1\", \"Topic1\", \"Topic1\", \"Topic1\", \"Topic1\", \"Topic1\", \"Topic1\", \"Topic1\", \"Topic1\", \"Topic1\", \"Topic1\", \"Topic1\", \"Topic1\", \"Topic1\", \"Topic1\", \"Topic1\", \"Topic1\", \"Topic1\", \"Topic1\", \"Topic1\", \"Topic1\", \"Topic1\", \"Topic1\", \"Topic1\", \"Topic1\", \"Topic1\", \"Topic1\", \"Topic1\", \"Topic1\", \"Topic1\", \"Topic1\", \"Topic1\", \"Topic1\", \"Topic1\", \"Topic2\", \"Topic2\", \"Topic2\", \"Topic2\", \"Topic2\", \"Topic2\", \"Topic2\", \"Topic2\", \"Topic2\", \"Topic2\", \"Topic2\", \"Topic2\", \"Topic2\", \"Topic2\", \"Topic2\", \"Topic2\", \"Topic2\", \"Topic2\", \"Topic2\", \"Topic2\", \"Topic2\", \"Topic2\", \"Topic2\", \"Topic2\", \"Topic2\", \"Topic2\", \"Topic2\", \"Topic2\", \"Topic2\", \"Topic2\", \"Topic2\", \"Topic2\", \"Topic2\", \"Topic2\", \"Topic2\", \"Topic2\", \"Topic2\", \"Topic2\", \"Topic2\", \"Topic2\", \"Topic2\", \"Topic2\", \"Topic2\", \"Topic2\", \"Topic2\", \"Topic2\", \"Topic2\", \"Topic2\", \"Topic2\", \"Topic2\", \"Topic2\", \"Topic2\", \"Topic2\", \"Topic2\", \"Topic2\", \"Topic2\", \"Topic2\", \"Topic2\", \"Topic2\", \"Topic2\", \"Topic2\", \"Topic2\", \"Topic2\", \"Topic2\", \"Topic2\", \"Topic2\", \"Topic2\", \"Topic2\", \"Topic2\", \"Topic3\", \"Topic3\", \"Topic3\", \"Topic3\", \"Topic3\", \"Topic3\", \"Topic3\", \"Topic3\", \"Topic3\", \"Topic3\", \"Topic3\", \"Topic3\", \"Topic3\", \"Topic3\", \"Topic3\", \"Topic3\", \"Topic3\", \"Topic3\", \"Topic3\", \"Topic3\", \"Topic3\", \"Topic3\", \"Topic3\", \"Topic3\", \"Topic3\", \"Topic3\", \"Topic3\", \"Topic3\", \"Topic3\", \"Topic3\", \"Topic3\", \"Topic3\", \"Topic3\", \"Topic3\", \"Topic3\", \"Topic3\", \"Topic3\", \"Topic3\", \"Topic3\", \"Topic3\", \"Topic3\", \"Topic3\", \"Topic3\", \"Topic3\", \"Topic3\", \"Topic3\", \"Topic3\", \"Topic3\", \"Topic3\", \"Topic3\", \"Topic3\", \"Topic3\", \"Topic3\", \"Topic3\", \"Topic3\", \"Topic3\", \"Topic3\", \"Topic4\", \"Topic4\", \"Topic4\", \"Topic4\", \"Topic4\", \"Topic4\", \"Topic4\", \"Topic4\", \"Topic4\", \"Topic4\", \"Topic4\", \"Topic4\", \"Topic4\", \"Topic4\", \"Topic4\", \"Topic4\", \"Topic4\", \"Topic4\", \"Topic4\", \"Topic4\", \"Topic4\", \"Topic4\", \"Topic4\", \"Topic4\", \"Topic4\", \"Topic4\", \"Topic4\", \"Topic4\", \"Topic4\", \"Topic4\", \"Topic4\", \"Topic4\", \"Topic4\", \"Topic4\", \"Topic4\", \"Topic4\", \"Topic4\", \"Topic4\", \"Topic4\", \"Topic4\", \"Topic4\", \"Topic4\", \"Topic4\", \"Topic4\", \"Topic4\", \"Topic4\", \"Topic4\", \"Topic4\", \"Topic4\", \"Topic4\", \"Topic4\", \"Topic4\", \"Topic4\", \"Topic4\", \"Topic5\", \"Topic5\", \"Topic5\", \"Topic5\", \"Topic5\", \"Topic5\", \"Topic5\", \"Topic5\", \"Topic5\", \"Topic5\", \"Topic5\", \"Topic5\", \"Topic5\", \"Topic5\", \"Topic5\", \"Topic5\", \"Topic5\", \"Topic5\", \"Topic5\", \"Topic5\", \"Topic5\", \"Topic5\", \"Topic5\", \"Topic5\", \"Topic5\", \"Topic5\", \"Topic5\", \"Topic5\", \"Topic5\", \"Topic5\", \"Topic5\", \"Topic5\", \"Topic5\", \"Topic5\", \"Topic5\", \"Topic5\", \"Topic5\", \"Topic5\", \"Topic5\", \"Topic5\", \"Topic5\", \"Topic5\", \"Topic5\", \"Topic5\", \"Topic5\", \"Topic5\", \"Topic5\", \"Topic5\", \"Topic5\", \"Topic5\", \"Topic5\", \"Topic5\", \"Topic5\", \"Topic5\"], \"logprob\": [30.0, 29.0, 28.0, 27.0, 26.0, 25.0, 24.0, 23.0, 22.0, 21.0, 20.0, 19.0, 18.0, 17.0, 16.0, 15.0, 14.0, 13.0, 12.0, 11.0, 10.0, 9.0, 8.0, 7.0, 6.0, 5.0, 4.0, 3.0, 2.0, 1.0, -5.5932, -5.8501, -6.212, -6.2275, -6.2764, -6.3814, -6.4001, -6.4381, -6.4381, -6.4196, -6.4984, -6.541, -6.6554, -6.6798, -6.7309, -6.7316, -6.7845, -6.8124, -6.8133, -6.8418, -6.9011, -6.8716, -6.9016, -6.9015, -6.9014, -6.9339, -6.9338, -6.9348, -6.9667, -6.9998, -5.2839, -5.9098, -3.389, -5.8806, -6.4063, -3.5457, -4.5947, -5.4871, -5.056, -5.5174, -5.751, -3.5639, -4.9001, -4.8811, -4.851, -4.9119, -5.844, -6.0607, -5.3106, -4.7548, -5.3678, -4.5824, -5.7396, -5.8407, -5.7082, -5.7755, -5.3817, -5.305, -5.3981, -5.456, -5.6632, -5.7538, -5.7945, -5.8257, -4.795, -4.8181, -5.954, -6.2629, -6.2629, -6.484, -6.7158, -6.8254, -6.8252, -6.9494, -6.9508, -7.0179, -5.8686, -7.0186, -7.0189, -7.0884, -7.0886, -7.089, -7.0902, -7.1669, -7.095, -7.2524, -7.2535, -7.2538, -7.345, -7.3454, -7.3457, -7.3464, -7.3464, -7.3469, -7.0301, -6.0373, -6.9431, -4.7157, -6.1572, -5.4672, -5.7984, -5.0382, -5.9559, -5.3182, -6.0344, -5.1347, -5.5403, -5.8355, -5.1239, -6.7019, -4.4577, -3.8628, -5.0497, -5.9217, -6.3797, -5.7042, -5.4646, -5.1784, -4.9032, -6.0432, -5.7849, -5.8967, -5.3873, -4.5802, -5.5081, -5.4066, -4.8049, -5.8558, -5.5281, -5.5802, -5.5863, -5.739, -5.8678, -5.893, -6.3427, -6.4808, -6.481, -6.6542, -6.6579, -6.6591, -6.6597, -6.866, -6.8662, -6.8662, -6.8661, -6.8663, -6.8663, -6.8668, -6.8672, -6.8678, -6.8694, -6.8721, -6.874, -6.8749, -6.8839, -7.1338, -7.1342, -7.1346, -7.1346, -7.1347, -7.1352, -7.1355, -7.1356, -6.1086, -6.3521, -6.866, -6.866, -6.553, -6.6871, -6.1059, -6.0549, -5.8498, -6.6726, -6.1778, -6.1141, -5.77, -5.7002, -6.5495, -6.5167, -6.7111, -6.7399, -6.3417, -6.4421, -6.4638, -6.6362, -6.377, -6.468, -6.4, -6.4109, -6.6221, -6.2512, -6.462, -6.4663, -5.261, -6.7311, -6.7326, -6.7326, -6.7346, -6.741, -6.7407, -6.7417, -5.7967, -6.4588, -7.0983, -7.0987, -7.0987, -7.0991, -7.0991, -7.0991, -7.0991, -7.0996, -7.0999, -7.0999, -7.1004, -7.1004, -7.1005, -7.1006, -7.1008, -7.101, -7.1021, -6.7335, -6.716, -6.2629, -5.8606, -6.7355, -6.7247, -6.5209, -5.7087, -6.7514, -6.4425, -6.4599, -6.7401, -6.5114, -6.6068, -6.1582, -5.9602, -6.305, -6.1261, -6.4089, -6.529, -6.577, -6.5894, -6.6207, -6.6794, -6.342, -6.6108, -6.6109, -6.6251, -6.9782, -6.9786, -6.9786, -6.9791, -6.9792, -6.9803, -6.9802, -6.9804, -6.9816, -6.9819, -6.9838, -6.9838, -6.9833, -6.9838, -6.9838, -6.992, -6.9683, -6.9631, -7.5667, -7.5667, -7.5667, -7.5667, -7.5667, -7.5667, -7.5667, -7.5667, -6.9731, -6.9727, -6.6111, -6.9774, -6.9727, -6.6177, -6.9828, -6.6924, -6.5822, -6.3056, -6.923, -6.5127, -6.3798, -6.7331, -6.4598, -6.7697, -6.856, -6.8838, -6.9464, -6.9619, -6.9424, -6.9732, -6.9744, -6.9774], \"loglift\": [30.0, 29.0, 28.0, 27.0, 26.0, 25.0, 24.0, 23.0, 22.0, 21.0, 20.0, 19.0, 18.0, 17.0, 16.0, 15.0, 14.0, 13.0, 12.0, 11.0, 10.0, 9.0, 8.0, 7.0, 6.0, 5.0, 4.0, 3.0, 2.0, 1.0, 0.4746, 0.4731, 0.4703, 0.4701, 0.4695, 0.4683, 0.4682, 0.4678, 0.4678, 0.4677, 0.4671, 0.4665, 0.4649, 0.4646, 0.4638, 0.4635, 0.463, 0.4626, 0.462, 0.4616, 0.4612, 0.4612, 0.461, 0.461, 0.461, 0.46, 0.4599, 0.4594, 0.4589, 0.4587, 0.4428, 0.4474, 0.371, 0.4337, 0.4446, 0.3243, 0.3546, 0.3951, 0.3699, 0.3529, 0.373, 0.1793, 0.2928, 0.2689, 0.2636, 0.2618, 0.3537, 0.3807, 0.2604, 0.1374, 0.2349, 0.0507, 0.3088, 0.33, 0.2515, 0.2457, 0.0994, 0.0493, 0.088, -0.0575, 0.0386, 0.132, 0.1828, 0.1897, 1.2255, 1.2254, 1.214, 1.2095, 1.2095, 1.2043, 1.1967, 1.1936, 1.1936, 1.1878, 1.1876, 1.1853, 1.1847, 1.1843, 1.1839, 1.1835, 1.1831, 1.1828, 1.182, 1.1798, 1.1777, 1.1751, 1.1746, 1.1744, 1.1702, 1.1698, 1.1695, 1.169, 1.1689, 1.1686, 1.1545, 1.1018, 1.136, 0.9391, 1.0524, 0.948, 0.9854, 0.747, 0.8925, 0.7469, 0.9065, 0.6666, 0.7609, 0.8118, 0.535, 1.0417, 0.1754, -0.1196, 0.3488, 0.7006, 0.9028, 0.5923, 0.3611, 0.1758, -0.0109, 0.6827, 0.4786, 0.5656, 0.0987, -0.7102, 0.1937, 0.0744, -1.045, 0.4906, -0.4135, -0.4064, -0.4362, -0.546, -0.9184, 2.8995, 2.8396, 2.8324, 2.832, 2.8063, 2.8009, 2.7993, 2.7985, 2.7665, 2.7663, 2.7663, 2.7663, 2.7661, 2.7661, 2.7654, 2.7648, 2.7641, 2.7617, 2.7581, 2.7567, 2.7539, 2.7482, 2.7071, 2.7066, 2.7059, 2.7059, 2.7058, 2.7051, 2.7047, 2.7046, 2.6032, 2.5907, 2.6473, 2.6473, 2.5503, 2.582, 2.2841, 2.134, 1.9284, 2.4619, 1.985, 1.879, 0.8773, 0.5896, 2.1516, 2.0602, 2.4205, 2.4813, 1.5366, 1.7644, 1.789, 2.0319, 1.0563, 1.3256, 0.5129, 0.3848, 1.76, 3.5089, 3.4535, 3.4454, 3.4174, 3.3674, 3.3646, 3.3646, 3.361, 3.3533, 3.3501, 3.3483, 3.239, 3.2335, 3.2256, 3.2249, 3.2249, 3.2242, 3.2242, 3.2242, 3.224, 3.2233, 3.2228, 3.2227, 3.2219, 3.2219, 3.2217, 3.2215, 3.2212, 3.221, 3.2189, 3.2078, 3.1238, 2.796, 2.5775, 2.9906, 2.9726, 2.8094, 2.1955, 2.9506, 2.5679, 2.364, 2.692, 2.1827, 2.3189, 1.453, 0.0881, 1.0394, 0.4641, 0.8854, 1.4812, 1.5948, 1.718, 0.164, 0.1221, 3.7066, 3.6068, 3.6066, 3.5801, 3.444, 3.4433, 3.4433, 3.4424, 3.4421, 3.4404, 3.4402, 3.4398, 3.4375, 3.437, 3.4347, 3.4347, 3.4345, 3.4334, 3.4334, 3.4179, 3.2044, 3.1139, 3.112, 3.112, 3.112, 3.112, 3.112, 3.112, 3.112, 3.112, 3.1018, 3.1013, 3.0898, 3.0973, 3.0958, 3.0796, 3.0827, 3.0642, 3.0386, 2.9388, 3.049, 2.6073, 2.2353, 2.1838, 0.9292, 1.8755, 2.0267, 1.7372, 2.6873, 2.9699, 2.0012, 2.7406, 2.1601, 2.0428]}, \"token.table\": {\"Topic\": [4, 3, 4, 4, 5, 1, 2, 3, 2, 3, 5, 4, 2, 3, 4, 5, 1, 5, 3, 3, 5, 5, 2, 4, 3, 1, 2, 2, 4, 1, 2, 2, 3, 5, 2, 3, 3, 4, 1, 2, 3, 5, 5, 1, 2, 4, 2, 5, 2, 1, 2, 1, 2, 4, 4, 4, 1, 2, 4, 1, 2, 1, 2, 1, 2, 3, 1, 2, 2, 5, 2, 3, 1, 2, 3, 3, 2, 3, 1, 1, 2, 2, 4, 1, 1, 1, 2, 1, 4, 1, 2, 3, 1, 1, 3, 1, 2, 4, 2, 4, 3, 4, 1, 2, 5, 5, 1, 1, 2, 5, 3, 1, 1, 2, 1, 2, 5, 3, 4, 1, 2, 3, 3, 1, 2, 5, 1, 1, 2, 3, 5, 2, 4, 4, 1, 3, 5, 1, 2, 2, 2, 3, 1, 2, 1, 2, 3, 1, 2, 5, 3, 2, 5, 1, 1, 2, 4, 3, 4, 4, 2, 3, 4, 1, 2, 1, 2, 2, 2, 3, 1, 2, 1, 2, 4, 2, 2, 1, 4, 1, 2, 3, 3, 4, 1, 2, 1, 2, 1, 3, 3, 5, 5, 3, 1, 3, 1, 2, 1, 4, 2, 3, 3, 3, 5, 1, 2, 3, 4, 1, 2, 3, 1, 2, 3, 3, 1, 2, 3, 1, 2, 2, 3, 5, 1, 1, 2, 4, 2, 2, 3, 5, 1, 2, 3, 2, 4, 1, 2, 3, 2, 3, 4, 2, 4, 1, 4, 2, 4, 4, 3, 4, 2, 4, 1, 4, 1, 2, 4, 1, 2, 1, 2, 1, 2, 1, 2, 5, 2, 1, 2, 3, 5, 1, 3, 5, 3, 1, 2, 1, 2, 5, 1, 2, 4, 4, 1, 2, 2, 1, 2, 4, 2, 1, 2, 5, 1, 3, 3, 5, 2, 1, 2, 4, 3, 1, 1, 5, 3, 5, 1, 4, 2, 2, 1, 2, 1, 2, 2, 4, 1, 2, 1, 2, 1, 2, 1, 3, 1, 5, 1, 2, 4, 1, 2, 3, 3, 1, 4, 4, 2, 5, 1, 2, 3, 2, 3, 2, 1, 2, 5, 2, 3, 4, 1, 2, 2, 5, 2, 5, 2, 1, 2, 1, 2, 4, 1, 2, 3, 1, 2, 4, 1, 2, 1, 2, 1, 3, 2, 1, 5, 1, 2, 3, 2, 3, 5, 1, 2, 1, 2, 3, 5, 1, 2, 1, 2, 5, 1, 2, 3, 5, 1, 3, 1, 2, 4, 1, 2, 4, 4, 4, 1, 2, 3, 5, 1, 2, 5, 1, 5, 1, 2, 1, 2, 3, 1, 1, 2, 2, 1, 2, 5, 4, 3], \"Freq\": [0.5047790650648678, 0.39301999616552125, 0.39301999616552125, 0.34080989326010347, 0.34080989326010347, 0.48291625893951234, 0.5097449399917074, 0.7866130423074749, 0.6415935039811554, 0.16039837599528886, 0.16039837599528886, 0.6373473511878965, 0.9835314631460899, 0.5824209706798436, 0.19414032355994784, 0.19414032355994784, 0.9707432142084902, 0.7014430658599324, 0.6388313557097693, 0.786905648467821, 0.7001570053389802, 0.7010224470792598, 0.47225792526322513, 0.47225792526322513, 0.9284935796457187, 0.7939195958633634, 0.20710945979044262, 0.9176792443844709, 0.508377683242207, 0.7084947788176401, 0.29394996142434004, 0.315715455988996, 0.315715455988996, 0.315715455988996, 0.5034154067246438, 0.3775615550434829, 0.3391217946219468, 0.6782435892438936, 0.513713830130157, 0.47787333035363444, 0.3420620083591172, 0.3420620083591172, 0.5482955862941836, 0.8424272272947325, 0.1330148253623262, 0.026602965072465238, 0.91796489143332, 0.7001570053389802, 0.9972711646897892, 0.10557863776809423, 0.8710237615867773, 0.7953631597033692, 0.20289876523045133, 0.6373473511878965, 0.7257904464602435, 0.5069393070120753, 0.8618781713789441, 0.14030574882913044, 0.637546510852603, 0.9642685735646914, 0.032142285785489715, 0.27419904151367297, 0.7311974440364613, 0.22596359915182382, 0.6617505403731984, 0.11298179957591191, 0.9694515741233182, 0.019784726002516698, 0.36164938155822457, 0.36164938155822457, 0.7186359280261223, 0.22111874708496068, 0.4408138634867666, 0.14693795449558886, 0.36734488623897216, 0.804992143327961, 0.9944824666097472, 0.6384494780994692, 0.9950190734215597, 0.9881696409391667, 0.9405712380765101, 0.9830605235649715, 0.6370786988651582, 0.9849057672264537, 0.9879164618059852, 0.916242891573447, 0.07510187635847926, 0.9954062021517115, 0.8445976885408796, 0.997813685401934, 0.18818483302122058, 0.5645544990636617, 0.9766979529948995, 0.9900656920411677, 0.6388629928721642, 0.6791902072353004, 0.1697975518088251, 0.08489877590441255, 0.35175015067831156, 0.5276252260174673, 0.8145397660942038, 0.636545962032331, 0.5760905296988409, 0.37276446039336764, 0.033887678217578876, 0.7013520307010537, 0.993108828275825, 0.9984620165868209, 0.6396062063011608, 0.3198031031505804, 0.6380259467619175, 0.9875506521987899, 0.5833795515040253, 0.41206968320522425, 0.36539880620596793, 0.6280291981665074, 0.5733684036084237, 0.6386691882114222, 0.6373473511878965, 0.803294806113238, 0.19257067269837896, 0.6385560201704625, 0.786360482784599, 0.7088399923749333, 0.29023369766532703, 0.7034138933186114, 0.984183331937168, 0.48232568587114544, 0.24116284293557272, 0.3215504572474303, 0.7005780497154082, 0.8784065463614756, 0.06756973433549814, 0.6367656590264564, 0.9052042478047456, 0.0842050463074182, 0.5663548994619486, 0.1416117048799059, 0.8496702292794355, 0.9781027686876739, 0.16027645416626835, 0.6411058166650734, 0.2762945478725228, 0.7104716945293442, 0.36531732225368796, 0.24354488150245865, 0.36531732225368796, 0.6969853075971679, 0.11616421793286132, 0.11616421793286132, 0.7863307854132353, 0.9832797764187495, 0.7036621002858819, 0.9679032676506437, 0.9842848068072055, 0.35076814024971076, 0.35076814024971076, 0.6662895822038751, 0.2220965274012917, 0.637546510852603, 0.9840362522730228, 0.8052019953439845, 0.6359209655123548, 0.8854305332949958, 0.11325274263075527, 0.2512693777771569, 0.7478255290986814, 0.9310262061853176, 0.9542975431813899, 0.5670769108492485, 0.6838892095975175, 0.3168016191517912, 0.4294820336603064, 0.5680246251636311, 0.6367165944243498, 0.9010271217496444, 0.9406829880892733, 0.9899485767825686, 0.508377683242207, 0.3557461412538525, 0.5617044335587145, 0.07489392447449526, 0.24606638358336014, 0.7381991507500804, 0.8967382091316061, 0.10253576313039428, 0.899044187273628, 0.09564299864613064, 0.9899073693874862, 0.7864498032804462, 0.4925388927961434, 0.4925388927961434, 0.48428053565863827, 0.7866174389590794, 0.5558209664409408, 0.44465677315275265, 0.9844988540385036, 0.9578684976017275, 0.3424251270337045, 0.3424251270337045, 0.2544347663781651, 0.6360869159454128, 0.9283479583717363, 0.7867984130679477, 0.7024007539242422, 0.30998011232109357, 0.30998011232109357, 0.30998011232109357, 0.06199602246421872, 0.6511683923440801, 0.349947639423009, 0.8068457949515485, 0.9770022999927875, 0.21172921724130242, 0.6351876517239072, 0.6386055031085701, 0.5078769071046563, 0.30472614426279376, 0.20315076284186248, 0.49860791216421607, 0.49860791216421607, 0.468494261061441, 0.312329507374294, 0.156164753687147, 0.9946290691488402, 0.8332910116982394, 0.14814062430190922, 0.018517578037738652, 0.9406775470608206, 0.8213421896732331, 0.14494273935409996, 0.04831424645136666, 0.9603027251485153, 0.04627964940474773, 0.6377058994908836, 0.9409334776939928, 0.6370063537671385, 0.5489107352568857, 0.18297024508562856, 0.27445536762844286, 0.5691851518074549, 0.14229628795186372, 0.28459257590372744, 0.685920568925511, 0.3429602844627555, 0.7498961348173425, 0.2499653782724475, 0.6772816819837755, 0.29026357799304664, 0.5075847906928461, 0.5670769108492485, 0.8478794721155165, 0.9406426041571205, 0.6365078170426021, 0.6302000312656397, 0.15755000781640993, 0.7910070802710409, 0.16950151720093734, 0.018833501911215262, 0.8293560634374488, 0.1696410129758418, 0.9661234416424341, 0.024153086041060853, 0.6503745820879521, 0.3488764314511531, 0.74030574234887, 0.25915123358210146, 0.7022266718139947, 0.9600385948254327, 0.9873169594322684, 0.6929087009249052, 0.1154847834874842, 0.1154847834874842, 0.9861672973353693, 0.49672581299078983, 0.49672581299078983, 0.6387740257275177, 0.38169153635690994, 0.613432826287891, 0.3018508147339971, 0.4527762221009957, 0.15092540736699855, 0.6458697652008865, 0.3574230739461216, 0.4350371679294144, 0.6366072960996457, 0.24313918370157384, 0.7550111493890977, 0.9544955589309164, 0.8080408854495696, 0.1524605444244471, 0.03049210888488942, 0.9832098068137739, 0.906464954304548, 0.09196021275553386, 0.6950614096597654, 0.1935849526746403, 0.5807548580239209, 0.49821244120290015, 0.49821244120290015, 0.9944824666097472, 0.7706775125337954, 0.1541355025067591, 0.06165420100270363, 0.9653898549218323, 0.9824866749834802, 0.9921019461287672, 0.7034138933186114, 0.786605827539475, 0.7025188604454544, 0.5228549058443116, 0.2614274529221558, 0.9918199606631832, 0.9406047020481275, 0.4659708687385637, 0.5227965844383885, 0.25979741943015405, 0.7144429034329236, 0.7941438978654374, 0.22689825653298212, 0.8564771148798335, 0.14358291609357113, 0.8089776624152342, 0.18779838591782222, 0.7433704102890416, 0.2560498079884477, 0.9808920814361405, 0.6388313557097693, 0.7653077043843871, 0.19132692609609678, 0.48612025073468956, 0.4213042173033976, 0.06481603343129194, 0.4524313202367082, 0.15081044007890274, 0.4524313202367082, 0.8055331380508113, 0.5399787706529372, 0.35998584710195813, 0.6372999390840504, 0.4485653731251514, 0.4485653731251514, 0.8024617978515072, 0.1959929736688013, 0.636519896424187, 0.4610226291372857, 0.4610226291372857, 0.9713020991580644, 0.048451471186802764, 0.9448036881426539, 0.7029927298844442, 0.6907688044706367, 0.3070083575425052, 0.5090122116555965, 0.8831872851692834, 0.11874787027486162, 0.6500667043989115, 0.2166889014663038, 0.9724435011364483, 0.7010224470792598, 0.9320764710261538, 0.8051818894647158, 0.1917099736820752, 0.8040668755506332, 0.08463861847901402, 0.08463861847901402, 0.6999216705252239, 0.21449212483837507, 0.09031247361615793, 0.5930398458029752, 0.2965199229014876, 0.0741299807253719, 0.8834509297605436, 0.11523272996876657, 0.8946826206900844, 0.1046969024211801, 0.997585271673615, 0.6387853217571323, 0.957984551168126, 0.986511185114753, 0.7030894176049489, 0.2833935044441391, 0.5667870088882782, 0.14169675222206954, 0.34648899103915287, 0.34648899103915287, 0.34648899103915287, 0.7464978540091133, 0.24883261800303777, 0.4190615530650755, 0.5762096354644788, 0.4970777162736737, 0.4970777162736737, 0.6771866789343999, 0.32343244367016116, 0.9817747631016372, 0.9573413072935114, 0.5734299461859811, 0.7836879003175039, 0.21579811747873295, 0.497194319069536, 0.497194319069536, 0.6501605170620449, 0.350086432264178, 0.40929107770602674, 0.5824526875047303, 0.6369525784821182, 0.2522959485320165, 0.6307398713300412, 0.12614797426600824, 0.5051432411090694, 0.6377056948135953, 0.20351474283807716, 0.7770562908362946, 0.4939928177477159, 0.4939928177477159, 0.5950885641833678, 0.2380354256733471, 0.11901771283667355, 0.43090496875406764, 0.43090496875406764, 0.3787358022329083, 0.61319129885328, 0.5278296827746966, 0.47284742415233233, 0.6388209255665968, 0.9901170463420202, 0.5749015049363615, 0.4187554171758682, 0.9176306184953125, 0.9825234110974076, 0.6926654592021975, 0.17316636480054937, 0.6367656590264564, 0.6374150152206689], \"Term\": [\"04\", \"06\", \"06\", \"08\", \"08\", \"10\", \"10\", \"2e\", \"80\", \"80\", \"80\", \"abused\", \"ac\", \"account\", \"account\", \"account\", \"advised\", \"ady\", \"agusti\", \"alexis\", \"anyways\", \"apathy\", \"apple\", \"apple\", \"arrogant\", \"asked\", \"asked\", \"ate\", \"auto\", \"bad\", \"bad\", \"baggage\", \"baggage\", \"baggage\", \"bali\", \"bali\", \"bambu\", \"bambu\", \"bar\", \"bar\", \"bartender\", \"bartender\", \"basement\", \"bathroom\", \"bathroom\", \"bathroom\", \"bavaro\", \"bbq\", \"beach\", \"beautiful\", \"beautiful\", \"bed\", \"bed\", \"beverage\", \"bleach\", \"boards\", \"booked\", \"booked\", \"boots\", \"breakfast\", \"breakfast\", \"bring\", \"bring\", \"buffet\", \"buffet\", \"buffet\", \"business\", \"business\", \"but\", \"but\", \"ca\", \"ca\", \"cab\", \"cab\", \"cab\", \"california\", \"cana\", \"cancellation\", \"car\", \"card\", \"caribbean\", \"casino\", \"celing\", \"charged\", \"cheap\", \"check\", \"check\", \"checking\", \"chipped\", \"city\", \"clients\", \"clients\", \"close\", \"comfortable\", \"compensate\", \"condition\", \"condition\", \"condition\", \"conditions\", \"conditions\", \"contact\", \"cord\", \"course\", \"course\", \"course\", \"cream\", \"credit\", \"customer\", \"cute\", \"cute\", \"dad\", \"dark\", \"day\", \"day\", \"days\", \"days\", \"deceptive\", \"decorations\", \"defrosting\", \"desk\", \"desk\", \"details\", \"dh\", \"did\", \"did\", \"didn__\", \"disappointing\", \"disaster\", \"disaster\", \"disaster\", \"disclose\", \"doctor\", \"doctor\", \"doctors\", \"does\", \"does\", \"don__\", \"drink\", \"drink\", \"drinks\", \"driver\", \"driver\", \"eat\", \"eat\", \"email\", \"email\", \"email\", \"encountered\", \"encountered\", \"encountered\", \"ensure\", \"entertainment\", \"expenses\", \"expensive\", \"fact\", \"fairmont\", \"fairmont\", \"fall\", \"fall\", \"fedex\", \"feeling\", \"felix\", \"fi\", \"floor\", \"floor\", \"food\", \"food\", \"french\", \"god\", \"gon\", \"good\", \"good\", \"got\", \"got\", \"grim\", \"grounds\", \"hanging\", \"hilton\", \"hogar\", \"home\", \"home\", \"home\", \"hospital\", \"hospital\", \"hotel\", \"hotel\", \"hotels\", \"hotels\", \"housekeeping\", \"hurricane\", \"hut\", \"hut\", \"ibis\", \"ie\", \"imagine\", \"imagine\", \"in\", \"inclusive\", \"infant\", \"infant\", \"information\", \"information\", \"insurance\", \"interval\", \"itchier\", \"items\", \"items\", \"items\", \"items\", \"just\", \"just\", \"knee\", \"late\", \"lazy\", \"lazy\", \"lied\", \"life\", \"life\", \"life\", \"like\", \"like\", \"linens\", \"linens\", \"linens\", \"location\", \"long\", \"long\", \"long\", \"lucky\", \"lunch\", \"lunch\", \"lunch\", \"manager\", \"manager\", \"mandatory\", \"march\", \"mass\", \"matter\", \"matter\", \"matter\", \"medical\", \"medical\", \"medical\", \"metal\", \"metal\", \"mildew\", \"mildew\", \"mold\", \"mold\", \"motorized\", \"na\", \"naiboa\", \"nasty\", \"nearer\", \"nearly\", \"nearly\", \"need\", \"need\", \"need\", \"night\", \"night\", \"nights\", \"nights\", \"no\", \"no\", \"not\", \"not\", \"obvious\", \"ocean\", \"on\", \"over\", \"over\", \"over\", \"parking\", \"pasta\", \"pasta\", \"peninsula\", \"people\", \"people\", \"picked\", \"picked\", \"picked\", \"place\", \"place\", \"poisoning\", \"politely\", \"pool\", \"pool\", \"pools\", \"poor\", \"poor\", \"poor\", \"power\", \"price\", \"price\", \"proceeded\", \"provide\", \"provide\", \"pull\", \"pull\", \"punta\", \"quality\", \"quality\", \"quality\", \"ramada\", \"rate\", \"reception\", \"recive\", \"reference\", \"remodel\", \"research\", \"research\", \"resort\", \"resorts\", \"restaurant\", \"restaurant\", \"restaurants\", \"restaurants\", \"riu\", \"riu\", \"room\", \"room\", \"rooms\", \"rooms\", \"said\", \"said\", \"san\", \"sant\", \"sat\", \"sat\", \"saw\", \"saw\", \"saw\", \"says\", \"says\", \"says\", \"scam\", \"scary\", \"scary\", \"scratched\", \"screw\", \"screw\", \"service\", \"service\", \"shady\", \"shop\", \"shop\", \"shows\", \"sick\", \"sick\", \"signage\", \"simply\", \"simply\", \"skills\", \"small\", \"small\", \"sofa\", \"sofa\", \"son\", \"sorrys\", \"spa\", \"staff\", \"staff\", \"standard\", \"standard\", \"standard\", \"star\", \"star\", \"star\", \"stated\", \"stated\", \"stated\", \"stay\", \"stay\", \"stayed\", \"stayed\", \"staying\", \"steal\", \"stomach\", \"street\", \"sz\", \"tell\", \"tell\", \"tell\", \"that\", \"that\", \"that\", \"the\", \"the\", \"thing\", \"thing\", \"thrown\", \"thrown\", \"time\", \"time\", \"tiny\", \"tip\", \"toddler\", \"told\", \"told\", \"tomatoes\", \"tomatoes\", \"tour\", \"tour\", \"towels\", \"towels\", \"tune\", \"turn\", \"turn\", \"turn\", \"umbrella\", \"unfit\", \"vacation\", \"vacation\", \"van\", \"van\", \"wake\", \"wake\", \"wake\", \"wakeup\", \"wakeup\", \"water\", \"water\", \"way\", \"way\", \"webpage\", \"weekend\", \"went\", \"went\", \"when\", \"window\", \"women\", \"women\", \"worker\", \"worry\"]}, \"R\": 30, \"lambda.step\": 0.01, \"plot.opts\": {\"xlab\": \"PC1\", \"ylab\": \"PC2\"}, \"topic.order\": [5, 4, 2, 1, 3]};\n",
       "\n",
       "function LDAvis_load_lib(url, callback){\n",
       "  var s = document.createElement('script');\n",
       "  s.src = url;\n",
       "  s.async = true;\n",
       "  s.onreadystatechange = s.onload = callback;\n",
       "  s.onerror = function(){console.warn(\"failed to load library \" + url);};\n",
       "  document.getElementsByTagName(\"head\")[0].appendChild(s);\n",
       "}\n",
       "\n",
       "if(typeof(LDAvis) !== \"undefined\"){\n",
       "   // already loaded: just create the visualization\n",
       "   !function(LDAvis){\n",
       "       new LDAvis(\"#\" + \"ldavis_el1227622455546219045478981716\", ldavis_el1227622455546219045478981716_data);\n",
       "   }(LDAvis);\n",
       "}else if(typeof define === \"function\" && define.amd){\n",
       "   // require.js is available: use it to load d3/LDAvis\n",
       "   require.config({paths: {d3: \"https://d3js.org/d3.v5\"}});\n",
       "   require([\"d3\"], function(d3){\n",
       "      window.d3 = d3;\n",
       "      LDAvis_load_lib(\"https://cdn.jsdelivr.net/gh/bmabey/pyLDAvis@3.4.0/pyLDAvis/js/ldavis.v3.0.0.js\", function(){\n",
       "        new LDAvis(\"#\" + \"ldavis_el1227622455546219045478981716\", ldavis_el1227622455546219045478981716_data);\n",
       "      });\n",
       "    });\n",
       "}else{\n",
       "    // require.js not available: dynamically load d3 & LDAvis\n",
       "    LDAvis_load_lib(\"https://d3js.org/d3.v5.js\", function(){\n",
       "         LDAvis_load_lib(\"https://cdn.jsdelivr.net/gh/bmabey/pyLDAvis@3.4.0/pyLDAvis/js/ldavis.v3.0.0.js\", function(){\n",
       "                 new LDAvis(\"#\" + \"ldavis_el1227622455546219045478981716\", ldavis_el1227622455546219045478981716_data);\n",
       "            })\n",
       "         });\n",
       "}\n",
       "</script>"
      ],
      "text/plain": [
       "PreparedData(topic_coordinates=               x           y  topics  cluster       Freq\n",
       "topic                                                   \n",
       "4      10.017976 -131.296509       1        1  61.895139\n",
       "3      76.821739  -57.498455       2        1  29.212338\n",
       "1     -19.548721   39.252228       3        1   5.014387\n",
       "0     -56.197414  -52.731270       4        1   2.252869\n",
       "2      83.117203   41.620144       5        1   1.625268, topic_info=         Term         Freq        Total Category  logprob  loglift\n",
       "5500   resort   115.000000   115.000000  Default  30.0000  30.0000\n",
       "809     beach   113.000000   113.000000  Default  29.0000  29.0000\n",
       "3326    hotel  1111.000000  1111.000000  Default  28.0000  28.0000\n",
       "4492      not  1130.000000  1130.000000  Default  27.0000  27.0000\n",
       "2781     food   167.000000   167.000000  Default  26.0000  26.0000\n",
       "...       ...          ...          ...      ...      ...      ...\n",
       "7187   wakeup     0.735124     2.320697   Topic5  -6.9619   2.9699\n",
       "204        80     0.749607     6.234477   Topic5  -6.9424   2.0012\n",
       "6622     that     0.726886     2.886095   Topic5  -6.9732   2.7406\n",
       "273   account     0.726020     5.150913   Topic5  -6.9744   2.1601\n",
       "7367    women     0.723827     5.774794   Topic5  -6.9774   2.0428\n",
       "\n",
       "[328 rows x 6 columns], token_table=      Topic      Freq    Term\n",
       "term                         \n",
       "6         4  0.504779      04\n",
       "8         3  0.393020      06\n",
       "8         4  0.393020      06\n",
       "11        4  0.340810      08\n",
       "11        5  0.340810      08\n",
       "...     ...       ...     ...\n",
       "7331      1  0.982523  window\n",
       "7367      2  0.692665   women\n",
       "7367      5  0.173166   women\n",
       "7384      4  0.636766  worker\n",
       "7394      3  0.637415   worry\n",
       "\n",
       "[435 rows x 3 columns], R=30, lambda_step=0.01, plot_opts={'xlab': 'PC1', 'ylab': 'PC2'}, topic_order=[5, 4, 2, 1, 3])"
      ]
     },
     "execution_count": 42,
     "metadata": {},
     "output_type": "execute_result"
    }
   ],
   "source": [
    "# negative corpus, assume that there are 5 topics\n",
    "lda_negative_corpus5 = LatentDirichletAllocation(n_components=5, max_iter=500,\n",
    "                                                doc_topic_prior = 0.5,\n",
    "                                                topic_word_prior = 0.25).fit(bow_negative_corpus)\n",
    "\n",
    "no_top_words = 15\n",
    "display_topics(lda_negative_corpus5, bow_vectorizer.get_feature_names_out(), no_top_words)\n",
    "\n",
    "#run the visualization [mds is a function to use for visualizing the \"distance\" between topics]\n",
    "pyLDAvis.lda_model.prepare(lda_negative_corpus5, bow_negative_corpus, bow_vectorizer, mds='tsne')"
   ]
  },
  {
   "cell_type": "code",
   "execution_count": 43,
   "id": "ba4a1c71",
   "metadata": {},
   "outputs": [
    {
     "name": "stdout",
     "output_type": "stream",
     "text": [
      "Coherence score for the model:  -8.9057\n",
      "Log-Likelihood (higher values are better):  -371655.85456938477\n",
      "Perplexity (lower values are better):  2401.129908385915\n"
     ]
    }
   ],
   "source": [
    "#top 15 words for each topic (using the function defined in session prep)\n",
    "topic_topwords_5_negative = get_topic_words(vectorizer = bow_vectorizer, lda_model = lda_negative_corpus5, n_words=15)\n",
    "cm_5n = CoherenceModel(topics=topic_topwords_5_negative, \n",
    "                    corpus = news_corpus_bow , \n",
    "                    dictionary = news_dictionary, coherence='u_mass')\n",
    "print(\"Coherence score for the model: \", np.round(cm_5n.get_coherence(), 4))  # get coherence value\n",
    "print(\"Log-Likelihood (higher values are better): \", lda_negative_corpus5.score(bow_negative_corpus))\n",
    "print(\"Perplexity (lower values are better): \", lda_negative_corpus5.perplexity(bow_negative_corpus))"
   ]
  },
  {
   "cell_type": "code",
   "execution_count": 44,
   "id": "75089662",
   "metadata": {},
   "outputs": [
    {
     "name": "stdout",
     "output_type": "stream",
     "text": [
      "Topic 0:\n",
      "beach resort food week princess riu bar doctor happy hospital english everyday cleaned steps sick\n",
      "Topic 1:\n",
      "items 11 home cards theft stolen safe insurance happened letter phone knee california hospital hand\n",
      "Topic 2:\n",
      "not hotel room no did stay staff rooms service night just day stayed good time\n",
      "Topic 3:\n",
      "sick star it maintenance furniture mildew fee apple la marco chipped shuttle standard quality 2nd\n"
     ]
    },
    {
     "data": {
      "text/html": [
       "\n",
       "<link rel=\"stylesheet\" type=\"text/css\" href=\"https://cdn.jsdelivr.net/gh/bmabey/pyLDAvis@3.4.0/pyLDAvis/js/ldavis.v1.0.0.css\">\n",
       "\n",
       "\n",
       "<div id=\"ldavis_el1227622455546221287491460570\" style=\"background-color:white;\"></div>\n",
       "<script type=\"text/javascript\">\n",
       "\n",
       "var ldavis_el1227622455546221287491460570_data = {\"mdsDat\": {\"x\": [-30.076370239257812, 31.231563568115234, -139.70431518554688, -78.43262481689453], \"y\": [-331.7993469238281, -442.0543212890625, -393.9389953613281, -503.8172912597656], \"topics\": [1, 2, 3, 4], \"cluster\": [1, 1, 1, 1], \"Freq\": [87.94556218699209, 6.483145466081512, 2.930697569510771, 2.6405947774156315]}, \"tinfo\": {\"Term\": [\"beach\", \"star\", \"resort\", \"not\", \"hotel\", \"room\", \"food\", \"home\", \"bar\", \"week\", \"sick\", \"phone\", \"little\", \"it\", \"11\", \"safe\", \"happened\", \"days\", \"english\", \"quality\", \"ok\", \"advised\", \"management\", \"standard\", \"cleaned\", \"hand\", \"riu\", \"taken\", \"items\", \"shuttle\", \"not\", \"hotel\", \"room\", \"no\", \"did\", \"stay\", \"staff\", \"rooms\", \"service\", \"night\", \"just\", \"day\", \"stayed\", \"good\", \"time\", \"desk\", \"told\", \"like\", \"place\", \"breakfast\", \"people\", \"got\", \"went\", \"check\", \"small\", \"bad\", \"bed\", \"said\", \"bathroom\", \"the\", \"food\", \"everyday\", \"steps\", \"cockroach\", \"bug\", \"mexico\", \"4am\", \"insisted\", \"excellence\", \"10pm\", \"decision\", \"13\", \"bambu\", \"dreams\", \"princess\", \"office\", \"vendors\", \"bites\", \"communication\", \"cockroaches\", \"nobody\", \"transfer\", \"legs\", \"meet\", \"dad\", \"games\", \"horrid\", \"picky\", \"maker\", \"botel\", \"men\", \"doctor\", \"unable\", \"hospital\", \"plate\", \"tropical\", \"yeah\", \"riu\", \"stomach\", \"happy\", \"face\", \"grill\", \"beach\", \"week\", \"resort\", \"cleaned\", \"country\", \"cleaning\", \"sister\", \"english\", \"bar\", \"food\", \"sick\", \"advised\", \"little\", \"children\", \"days\", \"ok\", \"marco\", \"chipped\", \"landing\", \"symptons\", \"ashamed\", \"houses\", \"parasite\", \"riding\", \"dh\", \"wow\", \"ordinary\", \"address\", \"polo\", \"discusting\", \"freindly\", \"speed\", \"cheated\", \"ne\", \"pas\", \"une\", \"et\", \"abused\", \"beverage\", \"defrosting\", \"exorbitant\", \"expenses\", \"77\", \"overated\", \"palma\", \"pina\", \"lied\", \"apple\", \"field\", \"chef\", \"happens\", \"maintenance\", \"beat\", \"illness\", \"sick\", \"port\", \"drove\", \"runs\", \"2nd\", \"mildew\", \"it\", \"star\", \"furniture\", \"provide\", \"absolute\", \"fee\", \"la\", \"design\", \"shuttle\", \"standard\", \"quality\", \"resort\", \"eating\", \"doctor\", \"carte\", \"cards\", \"theft\", \"insurance\", \"knee\", \"california\", \"agusti\", \"sant\", \"luggages\", \"condado\", \"september\", \"international\", \"alexis\", \"id\", \"telephone\", \"wakeup\", \"grab\", \"thefts\", \"unauthorized\", \"louisiana\", \"surgery\", \"valuables\", \"frou\", \"passports\", \"injured\", \"valuable\", \"beauty\", \"accusation\", \"jupiter\", \"character\", \"clerck\", \"cancellation\", \"repair\", \"items\", \"unprofessional\", \"fairmont\", \"stolen\", \"11\", \"compensate\", \"worry\", \"hello\", \"letter\", \"confused\", \"hospital\", \"safe\", \"home\", \"2005\", \"happened\", \"hand\", \"disaster\", \"phone\", \"advice\", \"months\", \"security\", \"number\", \"telling\"], \"Freq\": [113.0, 91.0, 116.0, 1170.0, 1142.0, 1025.0, 172.0, 52.0, 83.0, 52.0, 35.0, 42.0, 74.0, 25.0, 20.0, 22.0, 29.0, 89.0, 33.0, 33.0, 48.0, 31.0, 37.0, 25.0, 24.0, 17.0, 19.0, 26.0, 14.0, 20.0, 1170.357838356108, 1142.0492363570218, 1025.041070655817, 482.42390459241614, 371.064969787051, 347.48355654479207, 295.57990697040674, 285.1985920533014, 278.59997076256906, 272.93404379807464, 234.23401143570842, 224.8003172205884, 215.36388326232188, 205.92965749812748, 204.98782426261909, 187.0622931327586, 181.38449176404555, 173.84001794091301, 165.34442919963283, 158.7520490591926, 154.01190705094365, 151.1899912031671, 146.4669296151223, 136.1068400928808, 137.98199628715102, 137.03437119075926, 126.67005443656566, 124.7584719732602, 119.11956942638007, 120.05471927707057, 162.5083439429321, 7.270517043958456, 6.642353682595291, 5.348030773255922, 5.341096491754562, 5.3349996342193124, 4.698288989717992, 4.689997728448468, 4.6663494140764215, 5.2794802022314595, 4.041171144880909, 4.037220029929206, 3.403898286879789, 3.4026789702607356, 9.882721976673157, 3.399377034119595, 3.3965474559791984, 3.396549220905806, 3.395967872525314, 3.3959622081169454, 3.394259470558044, 3.378489484227058, 3.376541490522912, 3.3657981128035193, 2.753976881137655, 2.753591082668676, 2.7534691476056543, 2.7533021307309236, 2.75319166827351, 2.752824148812327, 2.7525684841976745, 9.140021319432469, 4.68493117901389, 7.953490761070506, 4.735452058450506, 6.1283007879695965, 3.377912629936107, 9.271989383348378, 5.101303362664046, 8.62332194640202, 5.997284281060638, 4.666799527046334, 18.56534294574411, 9.892554084072108, 12.747844662954996, 6.722182846142659, 5.345272582427166, 6.015571296711926, 5.034529128671576, 7.271749548894183, 9.148740472405738, 9.897075281342444, 6.627679874628442, 6.337737645520564, 6.283560749649571, 5.2297376136461295, 5.512638555125031, 5.314111308994535, 1.946270103968658, 1.9421305807961822, 1.490459528905917, 1.4897085570523183, 1.4898795882550269, 1.4898608710279266, 1.4891910070536423, 1.4894058825342862, 1.4890354115179198, 1.4889246792950979, 1.4886533058968219, 1.4868046006465003, 1.486017766119477, 1.4815760584394024, 1.4761506726310458, 1.4723815173290098, 1.4716982804648762, 1.0324919528314442, 1.0324919528314442, 1.0324665980220855, 1.032441218994065, 1.0317948379033475, 1.0317948379033475, 1.0317948379033475, 1.0317617395622452, 1.0317286089623616, 1.0317312983619842, 1.031680290313969, 1.031680290313969, 1.0316816972171678, 1.5525160095072446, 1.9627346284817702, 1.5012924280737108, 1.4921564021961937, 1.4661199791855322, 2.193943660609099, 1.4240885831261967, 1.406781157510487, 5.590407813904851, 1.4541757592393687, 1.5118060329031582, 1.5101682779891852, 1.764975295795748, 2.111385680216195, 3.101782615825594, 4.296241954594809, 2.1931316398113734, 1.7599461640218863, 1.6665080157176562, 2.039170478113808, 1.9487011067793476, 1.6488889286361745, 1.9233736859451736, 1.83565838133686, 1.7854310832805378, 1.748565683623286, 1.5744485167463131, 1.5546781289800073, 1.4917899215967985, 3.575373197226066, 3.148229224806276, 2.7080460502755703, 2.279681610938339, 2.270416101643911, 1.8447681286469795, 1.8447681286469795, 1.8445151150995704, 1.841101127707804, 1.8379242584841846, 1.8337463178818432, 1.4107980631202999, 1.4087406027550484, 1.405982286859963, 1.405045044164502, 1.403268124771703, 0.9766483638112702, 0.9766483638112702, 0.9766309589947009, 0.9766309589947009, 0.9764596154093188, 0.9764300182695201, 0.9762958269046554, 0.9763095036828711, 0.9763017264942727, 0.9762811159126286, 0.9761920918364597, 0.9761920918364597, 0.9760232841197258, 0.9757533300412061, 1.4486397729558798, 1.4292372249638783, 4.981226962825924, 1.424967570628227, 1.3917182514096937, 2.9973565185975763, 3.796026520965233, 1.3757680668938639, 1.3654994828876446, 1.389224201979715, 2.59008935809497, 1.4748390510493625, 2.2412668694530202, 2.915220054888254, 3.741079022082371, 1.6343263211849712, 2.601311609960783, 2.1963645750863994, 1.9835256136979145, 2.4844192645963887, 1.880605407384087, 1.9229712244858177, 1.7088081979937837, 1.4738151770079544, 1.4583510709530991], \"Total\": [113.0, 91.0, 116.0, 1170.0, 1142.0, 1025.0, 172.0, 52.0, 83.0, 52.0, 35.0, 42.0, 74.0, 25.0, 20.0, 22.0, 29.0, 89.0, 33.0, 33.0, 48.0, 31.0, 37.0, 25.0, 24.0, 17.0, 19.0, 26.0, 14.0, 20.0, 1170.759744686018, 1142.4494197305935, 1025.438163205291, 482.8251256578604, 371.469301432717, 347.8818339804966, 295.97967606573366, 285.59857360872627, 278.9962398385017, 273.332772141271, 234.637531658154, 225.20215053536316, 215.76595076316462, 206.33086133961484, 205.38751858755742, 187.45992373684152, 181.788847088391, 174.2440481605553, 165.74868572752882, 159.1485512667851, 154.42110823026414, 151.5941358515519, 146.87300899797634, 136.5020351206295, 138.38526387775264, 137.438767782849, 127.06616727508668, 125.16574789507204, 119.51653817731469, 120.45567290105623, 172.64426354286815, 7.761586835823474, 7.111027517035572, 5.8125013136459796, 5.811249999912875, 5.81790391461284, 5.164161456298046, 5.166644624906253, 5.15752997215618, 5.841063665876278, 4.5187813178246055, 4.520765174000275, 3.865541908038813, 3.8659746877111516, 11.230433246933423, 3.8674771950445765, 3.8652651745287208, 3.8657852075975234, 3.868994938736958, 3.8690275320727205, 3.8695742469891754, 3.8682933940090183, 3.8772515884674728, 3.8788371160072304, 3.2174288438474217, 3.2174930273373272, 3.217456925501929, 3.217699909940323, 3.2176453588851617, 3.2177907794856075, 3.2178789694577272, 11.056936261536093, 5.61082945785789, 10.586126345072373, 6.0965875755541115, 8.288492275874361, 4.32775818911021, 19.126451653898172, 7.9770301196950015, 18.4741054510067, 10.68544647240174, 7.0557378339509755, 113.03139105218912, 52.791281962015915, 116.78737166293548, 24.99935269622273, 13.35479525681625, 18.714714215738482, 11.611556756196311, 33.24458994300657, 83.34691903727432, 172.64426354286815, 35.306322968993506, 31.78090843057168, 74.26743536159282, 24.73688455122702, 89.71590001155256, 48.29028709567651, 2.4613667834279007, 2.4628032908848883, 1.9992631242050347, 1.9994840585452327, 1.9997611066896317, 1.9998827821935152, 1.9997168580222457, 2.000386166524972, 2.0007666485698294, 2.0007897630467335, 2.0011475299925654, 2.0013601663577436, 2.0038069341853437, 2.0059273110928943, 2.013682717168883, 2.01149324264111, 2.0138327993817127, 1.5392828163530996, 1.5392828163530996, 1.5392998496528254, 1.5393169031243905, 1.5400966359499362, 1.5400966359499362, 1.5400966359499362, 1.5401158820123486, 1.5401351502742513, 1.5401428250456626, 1.5401316380204344, 1.5401316380204344, 1.5402034791144863, 2.627659479067593, 3.7519193772302297, 2.6494304009499543, 2.649641075491436, 2.6665604993233996, 5.030025306455109, 2.6812644164429495, 2.6841744333450284, 35.306322968993506, 2.980563107123824, 3.2922813292816713, 3.2920137550442465, 5.133060682606311, 7.948915957250124, 25.76653422317983, 91.50744149302004, 10.690770200420012, 5.487322058250693, 4.644035574795248, 13.680575567178778, 13.202979511060247, 4.660209126566744, 20.412267259956796, 25.219419635782366, 33.764555451299366, 116.78737166293548, 13.215823261449016, 11.056936261536093, 8.845434763944795, 4.105134272823378, 3.6625394182741804, 3.2342189104935293, 2.7937523102474637, 2.804375630982416, 2.3600411741899094, 2.3600411741899094, 2.360317673475116, 2.3640856585526877, 2.36772670619178, 2.3676175699846294, 1.9252817171386374, 1.9274236830936426, 1.9306803054831068, 1.931686021694184, 1.932979486551875, 1.4907575789561687, 1.4907575789561687, 1.4907960728684044, 1.4907960728684044, 1.4909103317098853, 1.4909817676311692, 1.4910749352360098, 1.491142308819719, 1.4911363559721722, 1.4911875547182807, 1.491248321443483, 1.491248321443483, 1.4914523775851267, 1.4917475055827207, 2.387587237181653, 2.386638455707069, 14.188196073338464, 2.570933943600976, 2.890739478365928, 12.330300151770405, 20.817649687193658, 2.9099231923518984, 2.9218631747912003, 3.2390116252597965, 13.749972667419607, 3.844596998503639, 10.586126345072373, 22.795528676483524, 52.50905775036363, 5.4245429339146565, 29.882480847566953, 17.982487135890178, 12.571975623454875, 42.18371234948185, 10.804845027678434, 16.420311091079896, 17.610572490100306, 11.284741589556958, 11.297804592517767], \"Category\": [\"Default\", \"Default\", \"Default\", \"Default\", \"Default\", \"Default\", \"Default\", \"Default\", \"Default\", \"Default\", \"Default\", \"Default\", \"Default\", \"Default\", \"Default\", \"Default\", \"Default\", \"Default\", \"Default\", \"Default\", \"Default\", \"Default\", \"Default\", \"Default\", \"Default\", \"Default\", \"Default\", \"Default\", \"Default\", \"Default\", \"Topic1\", \"Topic1\", \"Topic1\", \"Topic1\", \"Topic1\", \"Topic1\", \"Topic1\", \"Topic1\", \"Topic1\", \"Topic1\", \"Topic1\", \"Topic1\", \"Topic1\", \"Topic1\", \"Topic1\", \"Topic1\", \"Topic1\", \"Topic1\", \"Topic1\", \"Topic1\", \"Topic1\", \"Topic1\", \"Topic1\", \"Topic1\", \"Topic1\", \"Topic1\", \"Topic1\", \"Topic1\", \"Topic1\", \"Topic1\", \"Topic1\", \"Topic2\", \"Topic2\", \"Topic2\", \"Topic2\", \"Topic2\", \"Topic2\", \"Topic2\", \"Topic2\", \"Topic2\", \"Topic2\", \"Topic2\", \"Topic2\", \"Topic2\", \"Topic2\", \"Topic2\", \"Topic2\", \"Topic2\", \"Topic2\", \"Topic2\", \"Topic2\", \"Topic2\", \"Topic2\", \"Topic2\", \"Topic2\", \"Topic2\", \"Topic2\", \"Topic2\", \"Topic2\", \"Topic2\", \"Topic2\", \"Topic2\", \"Topic2\", \"Topic2\", \"Topic2\", \"Topic2\", \"Topic2\", \"Topic2\", \"Topic2\", \"Topic2\", \"Topic2\", \"Topic2\", \"Topic2\", \"Topic2\", \"Topic2\", \"Topic2\", \"Topic2\", \"Topic2\", \"Topic2\", \"Topic2\", \"Topic2\", \"Topic2\", \"Topic2\", \"Topic2\", \"Topic2\", \"Topic2\", \"Topic2\", \"Topic2\", \"Topic3\", \"Topic3\", \"Topic3\", \"Topic3\", \"Topic3\", \"Topic3\", \"Topic3\", \"Topic3\", \"Topic3\", \"Topic3\", \"Topic3\", \"Topic3\", \"Topic3\", \"Topic3\", \"Topic3\", \"Topic3\", \"Topic3\", \"Topic3\", \"Topic3\", \"Topic3\", \"Topic3\", \"Topic3\", \"Topic3\", \"Topic3\", \"Topic3\", \"Topic3\", \"Topic3\", \"Topic3\", \"Topic3\", \"Topic3\", \"Topic3\", \"Topic3\", \"Topic3\", \"Topic3\", \"Topic3\", \"Topic3\", \"Topic3\", \"Topic3\", \"Topic3\", \"Topic3\", \"Topic3\", \"Topic3\", \"Topic3\", \"Topic3\", \"Topic3\", \"Topic3\", \"Topic3\", \"Topic3\", \"Topic3\", \"Topic3\", \"Topic3\", \"Topic3\", \"Topic3\", \"Topic3\", \"Topic3\", \"Topic3\", \"Topic3\", \"Topic3\", \"Topic3\", \"Topic4\", \"Topic4\", \"Topic4\", \"Topic4\", \"Topic4\", \"Topic4\", \"Topic4\", \"Topic4\", \"Topic4\", \"Topic4\", \"Topic4\", \"Topic4\", \"Topic4\", \"Topic4\", \"Topic4\", \"Topic4\", \"Topic4\", \"Topic4\", \"Topic4\", \"Topic4\", \"Topic4\", \"Topic4\", \"Topic4\", \"Topic4\", \"Topic4\", \"Topic4\", \"Topic4\", \"Topic4\", \"Topic4\", \"Topic4\", \"Topic4\", \"Topic4\", \"Topic4\", \"Topic4\", \"Topic4\", \"Topic4\", \"Topic4\", \"Topic4\", \"Topic4\", \"Topic4\", \"Topic4\", \"Topic4\", \"Topic4\", \"Topic4\", \"Topic4\", \"Topic4\", \"Topic4\", \"Topic4\", \"Topic4\", \"Topic4\", \"Topic4\", \"Topic4\", \"Topic4\", \"Topic4\", \"Topic4\"], \"logprob\": [30.0, 29.0, 28.0, 27.0, 26.0, 25.0, 24.0, 23.0, 22.0, 21.0, 20.0, 19.0, 18.0, 17.0, 16.0, 15.0, 14.0, 13.0, 12.0, 11.0, 10.0, 9.0, 8.0, 7.0, 6.0, 5.0, 4.0, 3.0, 2.0, 1.0, -3.5802, -3.6047, -3.7128, -4.4664, -4.7289, -4.7945, -4.9563, -4.9921, -5.0155, -5.036, -5.1889, -5.23, -5.2729, -5.3177, -5.3223, -5.4138, -5.4446, -5.4871, -5.5372, -5.5779, -5.6082, -5.6267, -5.6584, -5.7318, -5.7181, -5.725, -5.8037, -5.8189, -5.8651, -5.8573, -5.5545, -6.0539, -6.1443, -6.361, -6.3623, -6.3634, -6.4905, -6.4923, -6.4974, -6.3739, -6.6412, -6.6422, -6.8128, -6.8132, -5.7469, -6.8141, -6.815, -6.815, -6.8151, -6.8151, -6.8156, -6.8203, -6.8209, -6.8241, -7.0247, -7.0248, -7.0249, -7.0249, -7.025, -7.0251, -7.0252, -5.8251, -6.4934, -5.9641, -6.4827, -6.2248, -6.8205, -5.8107, -6.4082, -5.8833, -6.2464, -6.4973, -5.1164, -5.7459, -5.4924, -6.1323, -6.3615, -6.2434, -6.4214, -6.0537, -5.8241, -5.7455, -6.1465, -6.1912, -6.1998, -6.3834, -6.3307, -6.3674, -6.5778, -6.58, -6.8447, -6.8452, -6.8451, -6.8451, -6.8455, -6.8454, -6.8456, -6.8457, -6.8459, -6.8471, -6.8477, -6.8507, -6.8543, -6.8569, -6.8573, -7.2118, -7.2118, -7.2118, -7.2118, -7.2125, -7.2125, -7.2125, -7.2125, -7.2125, -7.2125, -7.2126, -7.2126, -7.2126, -6.8039, -6.5694, -6.8374, -6.8435, -6.8611, -6.4581, -6.8902, -6.9025, -5.5227, -6.8693, -6.8305, -6.8315, -6.6756, -6.4964, -6.1118, -5.786, -6.4584, -6.6785, -6.733, -6.5312, -6.5766, -6.7437, -6.5897, -6.6364, -6.6641, -6.685, -6.7899, -6.8025, -6.8438, -5.8655, -5.9927, -6.1433, -6.3155, -6.3196, -6.5272, -6.5272, -6.5273, -6.5292, -6.5309, -6.5332, -6.7954, -6.7968, -6.7988, -6.7995, -6.8007, -7.1632, -7.1632, -7.1632, -7.1632, -7.1633, -7.1634, -7.1635, -7.1635, -7.1635, -7.1635, -7.1636, -7.1636, -7.1638, -7.1641, -6.7689, -6.7824, -5.5339, -6.7854, -6.809, -6.0418, -5.8056, -6.8205, -6.828, -6.8108, -6.1878, -6.751, -6.3325, -6.0696, -5.8202, -6.6483, -6.1835, -6.3527, -6.4547, -6.2295, -6.5079, -6.4857, -6.6037, -6.7517, -6.7622], \"loglift\": [30.0, 29.0, 28.0, 27.0, 26.0, 25.0, 24.0, 23.0, 22.0, 21.0, 20.0, 19.0, 18.0, 17.0, 16.0, 15.0, 14.0, 13.0, 12.0, 11.0, 10.0, 9.0, 8.0, 7.0, 6.0, 5.0, 4.0, 3.0, 2.0, 1.0, 0.1281, 0.1281, 0.1281, 0.1276, 0.1274, 0.1273, 0.1271, 0.1271, 0.127, 0.127, 0.1267, 0.1267, 0.1266, 0.1265, 0.1265, 0.1263, 0.1262, 0.1261, 0.126, 0.126, 0.1258, 0.1258, 0.1257, 0.1256, 0.1255, 0.1255, 0.1253, 0.1252, 0.1251, 0.1251, 0.0679, 2.6706, 2.6678, 2.6527, 2.6516, 2.6493, 2.6414, 2.6392, 2.6359, 2.6349, 2.6243, 2.6228, 2.6088, 2.6083, 2.6081, 2.607, 2.6067, 2.6066, 2.6056, 2.6055, 2.6049, 2.6006, 2.5977, 2.5941, 2.5804, 2.5803, 2.5802, 2.5801, 2.5801, 2.5799, 2.5798, 2.5456, 2.5556, 2.45, 2.4833, 2.434, 2.4882, 2.0119, 2.2889, 1.9741, 2.1584, 2.3226, 0.9296, 1.0614, 0.521, 1.4225, 1.8203, 1.601, 1.9003, 1.2161, 0.5266, -0.123, 1.0632, 1.1236, 0.2662, 1.182, -0.0536, 0.5291, 3.2951, 3.2924, 3.2362, 3.2356, 3.2356, 3.2355, 3.2352, 3.235, 3.2345, 3.2344, 3.2341, 3.2327, 3.231, 3.2269, 3.2194, 3.2179, 3.2163, 3.1306, 3.1306, 3.1306, 3.1305, 3.1294, 3.1294, 3.1294, 3.1293, 3.1293, 3.1293, 3.1293, 3.1293, 3.1292, 3.0037, 2.882, 2.9619, 2.9557, 2.9318, 2.7002, 2.8972, 2.8839, 1.6869, 2.8123, 2.7517, 2.7507, 2.4624, 2.2042, 1.4128, 0.4713, 1.9459, 2.3928, 2.5051, 1.6265, 1.6167, 2.491, 1.1679, 0.9097, 0.5902, -0.6716, 1.4024, 1.5681, 1.75, 3.496, 3.4828, 3.4566, 3.4308, 3.4229, 3.3878, 3.3878, 3.3876, 3.3841, 3.3809, 3.3786, 3.3232, 3.3207, 3.317, 3.3158, 3.3139, 3.2113, 3.2113, 3.2112, 3.2112, 3.211, 3.2109, 3.2107, 3.2106, 3.2106, 3.2106, 3.2105, 3.2105, 3.2101, 3.2097, 3.1345, 3.1214, 2.5874, 3.044, 2.9032, 2.2198, 1.9323, 2.8851, 2.8735, 2.7876, 1.9648, 2.676, 2.0817, 1.5775, 0.9926, 2.4345, 1.1929, 1.5316, 1.7876, 0.8022, 1.8858, 1.4895, 1.3015, 1.5986, 1.5869]}, \"token.table\": {\"Topic\": [2, 1, 4, 2, 1, 4, 2, 3, 2, 3, 1, 3, 3, 4, 3, 1, 4, 1, 2, 4, 4, 2, 3, 3, 1, 2, 1, 2, 1, 1, 2, 2, 3, 4, 1, 3, 2, 2, 1, 2, 4, 3, 4, 4, 1, 2, 3, 4, 3, 1, 2, 3, 1, 2, 3, 1, 2, 1, 2, 4, 2, 2, 2, 1, 4, 4, 2, 4, 1, 2, 2, 1, 1, 2, 2, 3, 1, 3, 1, 3, 1, 1, 4, 3, 2, 3, 2, 2, 3, 1, 3, 1, 2, 3, 2, 2, 3, 3, 1, 2, 4, 1, 4, 1, 3, 2, 3, 1, 2, 3, 4, 1, 3, 2, 1, 1, 4, 1, 2, 1, 4, 1, 2, 4, 2, 3, 1, 2, 2, 4, 1, 2, 4, 2, 2, 4, 1, 3, 4, 2, 3, 4, 2, 4, 4, 1, 3, 1, 2, 4, 4, 1, 4, 1, 2, 3, 3, 2, 1, 4, 2, 3, 1, 1, 2, 4, 4, 1, 3, 2, 1, 4, 3, 2, 2, 2, 1, 3, 1, 4, 3, 1, 1, 2, 1, 1, 4, 2, 1, 2, 3, 3, 3, 3, 3, 4, 1, 1, 4, 2, 3, 1, 2, 3, 3, 1, 3, 2, 4, 1, 3, 1, 3, 3, 4, 1, 2, 3, 3, 1, 2, 1, 1, 2, 3, 1, 4, 1, 4, 1, 4, 4, 1, 1, 3, 1, 2, 3, 1, 2, 1, 3, 1, 1, 3, 1, 3, 1, 1, 2, 1, 4, 1, 2, 3, 4, 3, 1, 4, 4, 1, 4, 1, 4, 4, 1, 1, 2, 1, 2, 2, 4, 4, 3, 2, 4, 4, 4, 2, 4, 1, 2, 1, 1, 4, 3, 2, 3], \"Freq\": [0.8560084748280001, 0.8166147598524461, 0.19214464937704615, 0.8848059666988923, 0.553041986495078, 0.36869465766338533, 0.5844466265839565, 0.3896310843893044, 0.9682114012725455, 0.6492904318600139, 0.6459898835146773, 0.43065992234311823, 0.6493099047536046, 0.6705791286537914, 0.4996601895099624, 0.8329596562417121, 0.18510214583149157, 0.7866357896790396, 0.18879258952296948, 0.8474428420455442, 0.519404506414887, 0.26653024744317066, 0.5330604948863413, 0.500059730462196, 0.9968075398962959, 0.7760878219328512, 0.8878552543364656, 0.10798239579767825, 0.9956781029203812, 0.8316273835522213, 0.168094896675449, 0.37295836765201684, 0.37295836765201684, 0.6706064551275864, 0.9994792691358713, 0.6493099047536046, 0.776038977567617, 0.9323166748832491, 0.9990665873763684, 0.8604000860529081, 0.71317122353519, 0.4188328637492703, 0.4188328637492703, 0.9743895653987781, 0.6783160082144094, 0.22610533607146982, 0.11305266803573491, 0.6704873819834208, 0.4965655541547542, 0.9963221418626774, 0.37740960813514235, 0.37740960813514235, 0.768083788427494, 0.20212731274407736, 0.812082721913774, 0.7200186428314884, 0.28000724999002324, 0.6412066923206543, 0.32060334616032715, 0.6703547324581384, 0.8602148593517778, 0.7753886409779142, 0.7753951730366845, 0.3436516821572071, 0.3436516821572071, 0.8459930344590035, 0.5202105710373344, 0.2601052855186672, 0.5990357655177696, 0.374397353448606, 0.9324215532339734, 0.9991023596582777, 0.9362888851272011, 0.0668777775090858, 0.8851944182874615, 0.6493099047536046, 0.6437479345932596, 0.42916528972883977, 0.9975465490027235, 0.4998084112981448, 0.9987366346804246, 0.7954199323568146, 0.15908398647136293, 0.4985225508770642, 0.8139686968539754, 0.18088193263421676, 0.7760009421520937, 0.3037407499492717, 0.6074814998985434, 0.8323355860915117, 0.1513337429257294, 0.7820821386148407, 0.21056057578091864, 0.6496388092473192, 0.9018774315184644, 0.9694563147462772, 0.64930179065057, 0.6492936673914171, 0.28075569960959224, 0.5615113992191845, 0.09358523320319742, 0.34593224587823396, 0.34593224587823396, 0.8040597375442465, 0.14619267955349938, 0.3774396185842246, 0.7548792371684492, 0.9441379438565971, 0.05792257324273602, 0.4966025637871789, 0.6706990130327164, 0.7483090413528579, 0.18707726033821448, 0.9324029530167106, 0.9983964524867162, 0.9960807464733747, 0.517336064328256, 0.28345724388686183, 0.7086431097171546, 0.8341449036858973, 0.11121932049145297, 0.8366105922572862, 0.0669288473805829, 0.10039327107087434, 0.37501493037706635, 0.37501493037706635, 0.5412981985254974, 0.4871683786729477, 0.30873615648717884, 0.30873615648717884, 0.856995001013675, 0.057133000067578335, 0.07617733342343778, 0.9324134151483612, 0.7557060759740354, 0.18892651899350885, 0.9996066173934427, 0.5000293061692236, 0.5188272867929763, 0.3725540291186651, 0.3725540291186651, 0.6706268034145768, 0.9677460640310099, 0.9275809965325481, 0.8447310179460208, 0.8538206888611578, 0.11643009393561243, 0.5638489881763814, 0.07048112352204768, 0.35240561761023836, 0.6705791286537914, 0.9972829084347733, 0.7158830769155927, 0.6059238366081181, 0.30296191830405905, 0.15148095915202953, 0.5001842868469998, 0.7737439605217323, 0.800001590262384, 0.2181822518897411, 0.380566815436391, 0.761133630872782, 0.9985993888277295, 0.9156099125938849, 0.08078910993475455, 0.6707825558434188, 0.8473435684000039, 0.5964184705293737, 0.3976123136862491, 0.9323588106799406, 0.949974974018712, 0.026388193722742, 0.8125566711413227, 0.7734276821317309, 0.9322911235861541, 0.8594160497290941, 0.7548199065468119, 0.25160663551560397, 0.8526026043200426, 0.12180037204572038, 0.6496531952258263, 0.9987825384469484, 0.9982910465632124, 0.7752790897691728, 0.9993510669550552, 0.8861523253003973, 0.08861523253003972, 0.7756994673023333, 0.8904482161144542, 0.10354049024586677, 0.4997132820106048, 0.6492951480987186, 0.6492951480987186, 0.5000707955170299, 0.6496531952258263, 0.6706571054000839, 0.9972729879024297, 0.9245274497629425, 0.047411664090407306, 0.9323430039986667, 0.6492648624420281, 0.9954830065514995, 0.8201309237398359, 0.16402618474796718, 0.4990500746053932, 0.33550707167041915, 0.33550707167041915, 0.8904375975637979, 0.08904375975637979, 0.5467147669033248, 0.3644765112688832, 0.9477394140774491, 0.05923371337984057, 0.41899936607857036, 0.41899936607857036, 0.8733821007153592, 0.11131340499313401, 0.017125139229712923, 0.4999034770057317, 0.5228361319158692, 0.47055251872428233, 0.9995727063600585, 0.9979041435635938, 0.3037654379383234, 0.6075308758766468, 0.8773650431118333, 0.131604756466775, 0.9986757727424679, 0.8474428420455442, 0.9085451372460673, 0.11356814215575842, 0.8446920815522554, 1.0000134774629954, 0.8818226692196514, 0.09798029657996125, 0.6514413868642994, 0.19826476991522157, 0.1699412313559042, 0.5167265790436069, 0.430605482536339, 0.9972160050358182, 0.4971431068229642, 1.0000686666548748, 0.9119956102148615, 0.07930396610564014, 0.9507423503544916, 0.043712291970321455, 0.9974651335759428, 0.9964500851016787, 0.9843865718745163, 0.7299092389659115, 0.24330307965530384, 0.25071987569184073, 0.6267996892296017, 0.12535993784592037, 0.6707825558434188, 0.500129018646726, 0.9423041552964132, 0.037692166211856525, 0.5179521421335335, 0.8851277182314458, 0.08851277182314457, 0.9962170905688226, 0.8191038122433711, 0.670799876597107, 0.9981132320492385, 0.9956606408972524, 0.7755357969088438, 0.24129840909926142, 0.7238952272977842, 0.8911338399347655, 0.17822676798695308, 0.670799876597107, 0.6496460064135916, 0.38896370810653774, 0.38896370810653774, 0.6706294806607627, 0.6707311491048068, 0.7761433859103289, 0.5176824746720229, 0.8145284297308619, 0.1894252162164795, 0.9940560283749047, 0.34224737442452663, 0.34224737442452663, 0.4998026371732503, 0.6931995432528548, 0.23106651441761827], \"Term\": [\"10pm\", \"11\", \"11\", \"13\", \"2005\", \"2005\", \"2nd\", \"2nd\", \"4am\", \"77\", \"absolute\", \"absolute\", \"abused\", \"accusation\", \"address\", \"advice\", \"advice\", \"advised\", \"advised\", \"agusti\", \"alexis\", \"apple\", \"apple\", \"ashamed\", \"bad\", \"bambu\", \"bar\", \"bar\", \"bathroom\", \"beach\", \"beach\", \"beat\", \"beat\", \"beauty\", \"bed\", \"beverage\", \"bites\", \"botel\", \"breakfast\", \"bug\", \"california\", \"cancellation\", \"cancellation\", \"cards\", \"carte\", \"carte\", \"carte\", \"character\", \"cheated\", \"check\", \"chef\", \"chef\", \"children\", \"children\", \"chipped\", \"cleaned\", \"cleaned\", \"cleaning\", \"cleaning\", \"clerck\", \"cockroach\", \"cockroaches\", \"communication\", \"compensate\", \"compensate\", \"condado\", \"confused\", \"confused\", \"country\", \"country\", \"dad\", \"day\", \"days\", \"days\", \"decision\", \"defrosting\", \"design\", \"design\", \"desk\", \"dh\", \"did\", \"disaster\", \"disaster\", \"discusting\", \"doctor\", \"doctor\", \"dreams\", \"drove\", \"drove\", \"eating\", \"eating\", \"english\", \"english\", \"et\", \"everyday\", \"excellence\", \"exorbitant\", \"expenses\", \"face\", \"face\", \"face\", \"fairmont\", \"fairmont\", \"fee\", \"fee\", \"field\", \"field\", \"food\", \"food\", \"freindly\", \"frou\", \"furniture\", \"furniture\", \"games\", \"good\", \"got\", \"grab\", \"grill\", \"grill\", \"hand\", \"hand\", \"happened\", \"happened\", \"happened\", \"happens\", \"happens\", \"happy\", \"happy\", \"hello\", \"hello\", \"home\", \"home\", \"home\", \"horrid\", \"hospital\", \"hospital\", \"hotel\", \"houses\", \"id\", \"illness\", \"illness\", \"injured\", \"insisted\", \"insurance\", \"international\", \"it\", \"it\", \"items\", \"items\", \"items\", \"jupiter\", \"just\", \"knee\", \"la\", \"la\", \"la\", \"landing\", \"legs\", \"letter\", \"letter\", \"lied\", \"lied\", \"like\", \"little\", \"little\", \"louisiana\", \"luggages\", \"maintenance\", \"maintenance\", \"maker\", \"management\", \"management\", \"marco\", \"meet\", \"men\", \"mexico\", \"mildew\", \"mildew\", \"months\", \"months\", \"ne\", \"night\", \"no\", \"nobody\", \"not\", \"number\", \"number\", \"office\", \"ok\", \"ok\", \"ordinary\", \"overated\", \"palma\", \"parasite\", \"pas\", \"passports\", \"people\", \"phone\", \"phone\", \"picky\", \"pina\", \"place\", \"plate\", \"plate\", \"polo\", \"port\", \"port\", \"princess\", \"princess\", \"provide\", \"provide\", \"quality\", \"quality\", \"repair\", \"repair\", \"resort\", \"resort\", \"resort\", \"riding\", \"riu\", \"riu\", \"room\", \"rooms\", \"runs\", \"runs\", \"safe\", \"safe\", \"said\", \"sant\", \"security\", \"security\", \"september\", \"service\", \"shuttle\", \"shuttle\", \"sick\", \"sick\", \"sick\", \"sister\", \"sister\", \"small\", \"speed\", \"staff\", \"standard\", \"standard\", \"star\", \"star\", \"stay\", \"stayed\", \"steps\", \"stolen\", \"stolen\", \"stomach\", \"stomach\", \"stomach\", \"surgery\", \"symptons\", \"taken\", \"taken\", \"telephone\", \"telling\", \"telling\", \"the\", \"theft\", \"thefts\", \"time\", \"told\", \"transfer\", \"tropical\", \"tropical\", \"unable\", \"unable\", \"unauthorized\", \"une\", \"unprofessional\", \"unprofessional\", \"valuable\", \"valuables\", \"vendors\", \"wakeup\", \"week\", \"week\", \"went\", \"worry\", \"worry\", \"wow\", \"yeah\", \"yeah\"]}, \"R\": 30, \"lambda.step\": 0.01, \"plot.opts\": {\"xlab\": \"PC1\", \"ylab\": \"PC2\"}, \"topic.order\": [3, 1, 4, 2]};\n",
       "\n",
       "function LDAvis_load_lib(url, callback){\n",
       "  var s = document.createElement('script');\n",
       "  s.src = url;\n",
       "  s.async = true;\n",
       "  s.onreadystatechange = s.onload = callback;\n",
       "  s.onerror = function(){console.warn(\"failed to load library \" + url);};\n",
       "  document.getElementsByTagName(\"head\")[0].appendChild(s);\n",
       "}\n",
       "\n",
       "if(typeof(LDAvis) !== \"undefined\"){\n",
       "   // already loaded: just create the visualization\n",
       "   !function(LDAvis){\n",
       "       new LDAvis(\"#\" + \"ldavis_el1227622455546221287491460570\", ldavis_el1227622455546221287491460570_data);\n",
       "   }(LDAvis);\n",
       "}else if(typeof define === \"function\" && define.amd){\n",
       "   // require.js is available: use it to load d3/LDAvis\n",
       "   require.config({paths: {d3: \"https://d3js.org/d3.v5\"}});\n",
       "   require([\"d3\"], function(d3){\n",
       "      window.d3 = d3;\n",
       "      LDAvis_load_lib(\"https://cdn.jsdelivr.net/gh/bmabey/pyLDAvis@3.4.0/pyLDAvis/js/ldavis.v3.0.0.js\", function(){\n",
       "        new LDAvis(\"#\" + \"ldavis_el1227622455546221287491460570\", ldavis_el1227622455546221287491460570_data);\n",
       "      });\n",
       "    });\n",
       "}else{\n",
       "    // require.js not available: dynamically load d3 & LDAvis\n",
       "    LDAvis_load_lib(\"https://d3js.org/d3.v5.js\", function(){\n",
       "         LDAvis_load_lib(\"https://cdn.jsdelivr.net/gh/bmabey/pyLDAvis@3.4.0/pyLDAvis/js/ldavis.v3.0.0.js\", function(){\n",
       "                 new LDAvis(\"#\" + \"ldavis_el1227622455546221287491460570\", ldavis_el1227622455546221287491460570_data);\n",
       "            })\n",
       "         });\n",
       "}\n",
       "</script>"
      ],
      "text/plain": [
       "PreparedData(topic_coordinates=                x           y  topics  cluster       Freq\n",
       "topic                                                    \n",
       "2      -30.076370 -331.799347       1        1  87.945562\n",
       "0       31.231564 -442.054321       2        1   6.483145\n",
       "3     -139.704315 -393.938995       3        1   2.930698\n",
       "1      -78.432625 -503.817291       4        1   2.640595, topic_info=          Term         Freq        Total Category  logprob  loglift\n",
       "809      beach   113.000000   113.000000  Default  30.0000  30.0000\n",
       "6264      star    91.000000    91.000000  Default  29.0000  29.0000\n",
       "5500    resort   116.000000   116.000000  Default  28.0000  28.0000\n",
       "4492       not  1170.000000  1170.000000  Default  27.0000  27.0000\n",
       "3326     hotel  1142.000000  1142.000000  Default  26.0000  26.0000\n",
       "...        ...          ...          ...      ...      ...      ...\n",
       "341     advice     1.880605    10.804845   Topic4  -6.5079   1.8858\n",
       "4308    months     1.922971    16.420311   Topic4  -6.4857   1.4895\n",
       "5806  security     1.708808    17.610572   Topic4  -6.6037   1.3015\n",
       "4514    number     1.473815    11.284742   Topic4  -6.7517   1.5986\n",
       "6580   telling     1.458351    11.297805   Topic4  -6.7622   1.5869\n",
       "\n",
       "[232 rows x 6 columns], token_table=      Topic      Freq   Term\n",
       "term                        \n",
       "24        2  0.856008   10pm\n",
       "25        1  0.816615     11\n",
       "25        4  0.192145     11\n",
       "40        2  0.884806     13\n",
       "80        1  0.553042   2005\n",
       "...     ...       ...    ...\n",
       "7394      1  0.342247  worry\n",
       "7394      4  0.342247  worry\n",
       "7404      3  0.499803    wow\n",
       "7427      2  0.693200   yeah\n",
       "7427      3  0.231067   yeah\n",
       "\n",
       "[288 rows x 3 columns], R=30, lambda_step=0.01, plot_opts={'xlab': 'PC1', 'ylab': 'PC2'}, topic_order=[3, 1, 4, 2])"
      ]
     },
     "execution_count": 44,
     "metadata": {},
     "output_type": "execute_result"
    }
   ],
   "source": [
    "# negative corpus, assume that there are 4 topics\n",
    "lda_negative_corpus4 = LatentDirichletAllocation(n_components=4, max_iter=500,\n",
    "                                                doc_topic_prior = 0.5,\n",
    "                                                topic_word_prior = 0.25).fit(bow_negative_corpus)\n",
    "\n",
    "no_top_words = 15\n",
    "display_topics(lda_negative_corpus4, bow_vectorizer.get_feature_names_out(), no_top_words)\n",
    "\n",
    "#run the visualization [mds is a function to use for visualizing the \"distance\" between topics]\n",
    "pyLDAvis.lda_model.prepare(lda_negative_corpus4, bow_negative_corpus, bow_vectorizer, mds='tsne')"
   ]
  },
  {
   "cell_type": "code",
   "execution_count": 45,
   "id": "b39ad4c6",
   "metadata": {},
   "outputs": [
    {
     "name": "stdout",
     "output_type": "stream",
     "text": [
      "Coherence score for the model:  -6.8287\n",
      "Log-Likelihood (higher values are better):  -370828.5799350186\n",
      "Perplexity (lower values are better):  2359.886613609556\n"
     ]
    }
   ],
   "source": [
    "#top 15 words for each topic (using the function defined in session prep)\n",
    "topic_topwords_4_negative = get_topic_words(vectorizer = bow_vectorizer, lda_model = lda_negative_corpus4, n_words=15)\n",
    "cm_4n = CoherenceModel(topics=topic_topwords_4_negative, \n",
    "                    corpus = news_corpus_bow , \n",
    "                    dictionary = news_dictionary, coherence='u_mass')\n",
    "print(\"Coherence score for the model: \", np.round(cm_4n.get_coherence(), 4))  # get coherence value\n",
    "print(\"Log-Likelihood (higher values are better): \", lda_negative_corpus4.score(bow_negative_corpus))\n",
    "print(\"Perplexity (lower values are better): \", lda_negative_corpus4.perplexity(bow_negative_corpus))"
   ]
  },
  {
   "cell_type": "code",
   "execution_count": 46,
   "id": "2412bb99",
   "metadata": {},
   "outputs": [
    {
     "name": "stdout",
     "output_type": "stream",
     "text": [
      "Topic 0:\n",
      "hotel not room stay no rooms stayed night staff did location just small breakfast service\n",
      "Topic 1:\n",
      "juan conference dark street cool san shuttle overlooked pool true elevator make sleepless makes order\n",
      "Topic 2:\n",
      "not room hotel no did service food staff day night told resort just got went\n"
     ]
    },
    {
     "data": {
      "text/html": [
       "\n",
       "<link rel=\"stylesheet\" type=\"text/css\" href=\"https://cdn.jsdelivr.net/gh/bmabey/pyLDAvis@3.4.0/pyLDAvis/js/ldavis.v1.0.0.css\">\n",
       "\n",
       "\n",
       "<div id=\"ldavis_el1227622454822193288249013086\" style=\"background-color:white;\"></div>\n",
       "<script type=\"text/javascript\">\n",
       "\n",
       "var ldavis_el1227622454822193288249013086_data = {\"mdsDat\": {\"x\": [-36.02989959716797, 87.6191635131836, 11.302909851074219], \"y\": [-442.02197265625, -425.5324401855469, -326.3961181640625], \"topics\": [1, 2, 3], \"cluster\": [1, 1, 1], \"Freq\": [52.11546508909597, 43.378396869973884, 4.506138040930143]}, \"tinfo\": {\"Term\": [\"hotel\", \"location\", \"resort\", \"beach\", \"food\", \"room\", \"street\", \"not\", \"stay\", \"pool\", \"stayed\", \"dark\", \"san\", \"small\", \"make\", \"order\", \"shuttle\", \"cool\", \"vacation\", \"juan\", \"water\", \"bathroom\", \"parking\", \"elevator\", \"eat\", \"fruit\", \"conference\", \"true\", \"hard\", \"hotels\", \"resort\", \"beach\", \"vacation\", \"eat\", \"sick\", \"drinks\", \"drink\", \"cana\", \"punta\", \"lunch\", \"riu\", \"served\", \"lady\", \"12\", \"group\", \"maid\", \"fix\", \"pm\", \"princess\", \"send\", \"hospital\", \"waited\", \"fun\", \"needless\", \"doing\", \"stolen\", \"issues\", \"word\", \"fixed\", \"caribe\", \"club\", \"food\", \"pools\", \"advised\", \"00\", \"home\", \"restaurant\", \"went\", \"beautiful\", \"got\", \"towels\", \"left\", \"30\", \"asked\", \"buffet\", \"pool\", \"did\", \"people\", \"not\", \"like\", \"day\", \"told\", \"said\", \"service\", \"water\", \"room\", \"no\", \"desk\", \"staff\", \"hotel\", \"just\", \"days\", \"night\", \"good\", \"time\", \"rooms\", \"stay\", \"check\", \"location\", \"windows\", \"carpet\", \"square\", \"dump\", \"shopping\", \"amsterdam\", \"cruise\", \"fairly\", \"nearby\", \"customers\", \"space\", \"level\", \"budget\", \"central\", \"rates\", \"convenient\", \"2006\", \"ramada\", \"generally\", \"singapore\", \"nicer\", \"unpleasant\", \"comments\", \"despite\", \"centre\", \"bali\", \"neighborhood\", \"steps\", \"european\", \"noisy\", \"parking\", \"park\", \"close\", \"website\", \"street\", \"internet\", \"business\", \"prices\", \"noise\", \"hotel\", \"small\", \"stayed\", \"bathroom\", \"nights\", \"hotels\", \"stay\", \"room\", \"price\", \"tiny\", \"not\", \"breakfast\", \"rooms\", \"dirty\", \"bed\", \"booked\", \"night\", \"place\", \"no\", \"the\", \"floor\", \"staff\", \"just\", \"time\", \"good\", \"did\", \"great\", \"bad\", \"really\", \"service\", \"day\", \"desk\", \"overlooked\", \"sleepless\", \"bay\", \"attempts\", \"turkey\", \"caruso\", \"agusti\", \"sant\", \"botel\", \"seminar\", \"east\", \"relatives\", \"compensate\", \"sandwich\", \"neighbors\", \"seconds\", \"renovations\", \"alexis\", \"maintance\", \"amstel\", \"landing\", \"deceptive\", \"parasite\", \"interrupted\", \"symptons\", \"rincon\", \"australia\", \"clinic\", \"humidity\", \"soho\", \"conference\", \"miss\", \"juan\", \"soda\", \"cool\", \"freezing\", \"makes\", \"dark\", \"maintenance\", \"depressing\", \"upstairs\", \"san\", \"market\", \"shuttle\", \"true\", \"street\", \"elevator\", \"simple\", \"pool\", \"make\", \"order\", \"overpriced\", \"water\", \"hotwire\", \"pressure\", \"hard\"], \"Freq\": [1109.0, 109.0, 122.0, 119.0, 173.0, 998.0, 45.0, 1141.0, 337.0, 78.0, 209.0, 25.0, 24.0, 134.0, 73.0, 36.0, 19.0, 13.0, 56.0, 11.0, 112.0, 115.0, 58.0, 15.0, 52.0, 22.0, 10.0, 14.0, 33.0, 103.0, 121.79006192097428, 118.98884755740777, 55.89632300848101, 52.156079224305266, 42.90073246982298, 38.25599715942643, 36.40660428030476, 28.06638130718363, 28.06638130718363, 23.425331632440574, 22.501717776035484, 24.311012186530682, 21.559706264229842, 18.753824843121336, 17.839321283483248, 16.930813328682486, 16.90751358394049, 15.998761534586071, 15.9985928724635, 16.893236591196853, 15.992908834995406, 15.992842805125697, 15.074519673404119, 15.971569188091967, 15.972892248727163, 15.07058990794835, 15.969225680601763, 15.965438815994158, 15.050973602069561, 14.147365474213505, 38.80455156313347, 163.93933609002238, 15.944942705384436, 31.892758797785433, 50.603292836578504, 52.13031006967041, 79.4340960015894, 120.19192407490048, 36.08848469372676, 121.58543062273087, 57.13513520004003, 65.50739619556636, 48.37061390410964, 89.83445355315705, 55.94192938333026, 62.79416700504065, 233.1439891182785, 108.74775984039401, 605.498286272883, 119.78373307439863, 147.8917239513092, 123.33699320519607, 90.62189795755637, 173.65287764093554, 83.67296339071177, 476.22015674153045, 260.4658634773531, 118.52785715968288, 152.00470356273027, 374.44343852449043, 121.70497635448375, 66.88006621600736, 123.43955284014704, 105.24212376496692, 103.87437022175136, 114.5815528737143, 114.08196493370501, 75.67418764014401, 108.61529973316452, 23.89807493888639, 22.06796549541304, 19.34672821272039, 18.435989797651168, 17.510030170245127, 16.61224214066211, 15.701172236912303, 13.877637564454597, 13.856974302771022, 13.857885346733076, 12.974128967273717, 12.973459824000383, 12.956351765757404, 12.954888337008915, 12.057445089192132, 11.14233116969564, 11.1313946707717, 10.247212424162388, 10.240797952540746, 10.234564197498694, 10.232751148452634, 10.22123318808573, 10.222995852454106, 10.222971281599907, 10.21319932452887, 9.327310051330924, 9.325966474804378, 9.325813765576553, 9.320919893282428, 35.37937241860778, 53.75039187138684, 19.317372161837433, 31.74779846285336, 20.682274001753203, 40.122508831219136, 45.071805733033116, 42.870809111815774, 18.19569858222279, 41.220497543146635, 735.1793796000134, 103.28558449935139, 152.14082442213663, 88.47889739343293, 64.76470195945896, 79.44925354544114, 223.7058078708622, 522.3147158077779, 56.96256734478861, 30.954474882665085, 535.704465683922, 100.49034531262517, 163.09015109913943, 68.73125247622016, 80.22173087817015, 67.06484730601917, 142.5475456277807, 95.74865780989563, 210.2800745741195, 72.96371741096132, 62.978255307898884, 136.37031625455958, 106.89615088712979, 96.16488015680137, 95.73712329166086, 129.60506734358583, 66.19958721181854, 71.9558374987462, 63.22958306147477, 98.72444609180492, 72.09056297787174, 64.47441056107945, 4.077835542210604, 3.522983097312313, 2.9648444278258665, 2.954774394600852, 2.9503130752990603, 2.9466831957174824, 2.400133891804256, 2.400133891804256, 2.3997655433721437, 2.398620663056655, 2.3963860550916105, 2.395765813748008, 2.394265777015519, 2.3937931743700624, 2.3932839253533182, 2.387251732758877, 2.3791238938168418, 1.8370961226328664, 1.8364960154359085, 1.8341804685090257, 1.8339502811674813, 1.833817730513741, 1.8338421835118746, 1.8337954672200756, 1.8336466638791322, 1.8311986468033643, 1.8309285054279065, 1.830982349218009, 1.828332545255386, 1.8279239551309479, 5.6575677429311675, 2.8892770242686576, 5.697083344216729, 2.7992696884943546, 5.295293851348586, 2.417893650527011, 3.2654703386924635, 5.653382592128743, 2.7158326212654877, 2.4857098550659043, 2.282538086202294, 4.663667711983022, 2.865873611618209, 4.090479873492159, 3.6804087790324256, 5.344043674740239, 3.6245021139398625, 2.820938127376611, 3.808200346357989, 3.578048907373712, 3.096116955374405, 2.8602889719909865, 3.01804798755185, 2.596920064999807, 2.528758352042972, 2.6543693913843893], \"Total\": [1109.0, 109.0, 122.0, 119.0, 173.0, 998.0, 45.0, 1141.0, 337.0, 78.0, 209.0, 25.0, 24.0, 134.0, 73.0, 36.0, 19.0, 13.0, 56.0, 11.0, 112.0, 115.0, 58.0, 15.0, 52.0, 22.0, 10.0, 14.0, 33.0, 103.0, 122.16976739613949, 119.38574754392901, 56.28105042492411, 52.56060314614199, 43.284273648560145, 38.64888085538932, 36.79174851714709, 28.44079983337233, 28.44079983337233, 23.800011225183585, 22.873855159996044, 24.726297035987855, 21.942626736845895, 19.16058293949422, 18.22674785112711, 17.305593343146903, 17.299759582373586, 16.377022398935278, 16.377474389287666, 17.295367372160005, 16.373700032924393, 16.376217480228604, 15.448180519319154, 16.3681481322093, 16.371528010889485, 15.447407818788115, 16.371293552631077, 16.37079775272697, 15.44249305313956, 14.521010299533803, 39.994148529389655, 173.9595074206539, 16.372663537437052, 33.97581759086818, 55.27383515730065, 57.11960644773419, 90.41824399613091, 144.00439589894202, 39.51975470871615, 148.5851510387726, 65.4118472148425, 77.40987419549079, 56.13685363706724, 117.0301240828098, 68.12542975530837, 78.76629266206318, 362.89612513943797, 151.08288474115042, 1141.3489823801385, 170.4135455738418, 220.12738131414585, 177.7708953509558, 122.50942125153061, 272.5254361235713, 112.42830182549427, 998.6816190803598, 470.89469397310705, 183.1479874543323, 288.5249730728516, 1109.7745571594344, 228.75274467562514, 90.18910389650881, 266.1367935978165, 201.12445618261955, 200.18687456851552, 277.81880222223737, 337.93537970718563, 133.16646820530093, 109.00815729625913, 24.283653912291406, 22.46175481927865, 19.730752180893287, 18.81836580090786, 17.90984689952277, 16.99795126498082, 16.08557115364425, 14.265257695505735, 14.257050823849713, 14.260036108775177, 13.352716150661879, 13.353339189854061, 13.3479229304063, 13.354432082942076, 12.440976559985266, 11.530584866210813, 11.53244863144671, 10.622131638507334, 10.621025666292713, 10.620154994465935, 10.621914960856378, 10.613268939744325, 10.615632019917214, 10.618354603605967, 10.619833979672363, 9.707837615509613, 9.70871598935536, 9.711251680784743, 9.71134781449663, 37.981389031522376, 58.99059487301425, 20.65346752081205, 35.27190208821287, 22.48608587275665, 45.70573354634668, 52.65854599258478, 49.91372573988559, 19.74976025534512, 48.08562486475746, 1109.7745571594344, 134.16363236593713, 209.34998620057235, 115.87759578922521, 81.98722450394618, 103.97788948437709, 337.93537970718563, 998.6816190803598, 75.63525681126892, 37.14094654360233, 1141.3489823801385, 154.62986741033887, 277.81880222223737, 99.54499040513711, 123.46055113570813, 99.57628704752224, 266.1367935978165, 161.21549294003805, 470.89469397310705, 117.09618399874098, 96.86473138750888, 288.5249730728516, 228.75274467562514, 200.18687456851552, 201.12445618261955, 362.89612513943797, 113.51264082856619, 133.82071938763792, 106.14295056581298, 272.5254361235713, 220.12738131414585, 183.1479874543323, 4.573182068667383, 4.001293001311098, 3.4311366490327257, 3.437501167567543, 3.4405348275781145, 3.4426513776332843, 2.865147323481096, 2.865147323481096, 2.865385710738005, 2.8660894992655024, 2.8674867272765336, 2.8678723140874762, 2.868952197839419, 2.8691535400577077, 2.869424225652569, 2.8733049493908105, 2.8780400631626573, 2.2981452542381784, 2.298542582378757, 2.2999304484632845, 2.3000965906681716, 2.300138407034433, 2.3002433164021943, 2.300195508898599, 2.3003688789830106, 2.3018252376322743, 2.301908353956616, 2.302069264712677, 2.3035846648650598, 2.303741190026451, 10.984932360306484, 4.4072941943333825, 11.887387474868214, 4.4435998348445, 13.073527342526253, 3.7654769660914407, 7.80285542176115, 25.554278156300185, 5.446801989537125, 4.6658553291859945, 3.868166086924217, 24.470038836951844, 7.2063293537898225, 19.349745140208498, 14.908608174389407, 45.70573354634668, 15.81671107965769, 8.163331490640145, 78.76629266206318, 73.96980016543203, 36.62364014392758, 17.25274946495356, 112.42830182549427, 12.766159720959125, 9.163796823846933, 33.145232187100504], \"Category\": [\"Default\", \"Default\", \"Default\", \"Default\", \"Default\", \"Default\", \"Default\", \"Default\", \"Default\", \"Default\", \"Default\", \"Default\", \"Default\", \"Default\", \"Default\", \"Default\", \"Default\", \"Default\", \"Default\", \"Default\", \"Default\", \"Default\", \"Default\", \"Default\", \"Default\", \"Default\", \"Default\", \"Default\", \"Default\", \"Default\", \"Topic1\", \"Topic1\", \"Topic1\", \"Topic1\", \"Topic1\", \"Topic1\", \"Topic1\", \"Topic1\", \"Topic1\", \"Topic1\", \"Topic1\", \"Topic1\", \"Topic1\", \"Topic1\", \"Topic1\", \"Topic1\", \"Topic1\", \"Topic1\", \"Topic1\", \"Topic1\", \"Topic1\", \"Topic1\", \"Topic1\", \"Topic1\", \"Topic1\", \"Topic1\", \"Topic1\", \"Topic1\", \"Topic1\", \"Topic1\", \"Topic1\", \"Topic1\", \"Topic1\", \"Topic1\", \"Topic1\", \"Topic1\", \"Topic1\", \"Topic1\", \"Topic1\", \"Topic1\", \"Topic1\", \"Topic1\", \"Topic1\", \"Topic1\", \"Topic1\", \"Topic1\", \"Topic1\", \"Topic1\", \"Topic1\", \"Topic1\", \"Topic1\", \"Topic1\", \"Topic1\", \"Topic1\", \"Topic1\", \"Topic1\", \"Topic1\", \"Topic1\", \"Topic1\", \"Topic1\", \"Topic1\", \"Topic1\", \"Topic1\", \"Topic1\", \"Topic1\", \"Topic1\", \"Topic1\", \"Topic1\", \"Topic2\", \"Topic2\", \"Topic2\", \"Topic2\", \"Topic2\", \"Topic2\", \"Topic2\", \"Topic2\", \"Topic2\", \"Topic2\", \"Topic2\", \"Topic2\", \"Topic2\", \"Topic2\", \"Topic2\", \"Topic2\", \"Topic2\", \"Topic2\", \"Topic2\", \"Topic2\", \"Topic2\", \"Topic2\", \"Topic2\", \"Topic2\", \"Topic2\", \"Topic2\", \"Topic2\", \"Topic2\", \"Topic2\", \"Topic2\", \"Topic2\", \"Topic2\", \"Topic2\", \"Topic2\", \"Topic2\", \"Topic2\", \"Topic2\", \"Topic2\", \"Topic2\", \"Topic2\", \"Topic2\", \"Topic2\", \"Topic2\", \"Topic2\", \"Topic2\", \"Topic2\", \"Topic2\", \"Topic2\", \"Topic2\", \"Topic2\", \"Topic2\", \"Topic2\", \"Topic2\", \"Topic2\", \"Topic2\", \"Topic2\", \"Topic2\", \"Topic2\", \"Topic2\", \"Topic2\", \"Topic2\", \"Topic2\", \"Topic2\", \"Topic2\", \"Topic2\", \"Topic2\", \"Topic2\", \"Topic2\", \"Topic2\", \"Topic2\", \"Topic2\", \"Topic2\", \"Topic3\", \"Topic3\", \"Topic3\", \"Topic3\", \"Topic3\", \"Topic3\", \"Topic3\", \"Topic3\", \"Topic3\", \"Topic3\", \"Topic3\", \"Topic3\", \"Topic3\", \"Topic3\", \"Topic3\", \"Topic3\", \"Topic3\", \"Topic3\", \"Topic3\", \"Topic3\", \"Topic3\", \"Topic3\", \"Topic3\", \"Topic3\", \"Topic3\", \"Topic3\", \"Topic3\", \"Topic3\", \"Topic3\", \"Topic3\", \"Topic3\", \"Topic3\", \"Topic3\", \"Topic3\", \"Topic3\", \"Topic3\", \"Topic3\", \"Topic3\", \"Topic3\", \"Topic3\", \"Topic3\", \"Topic3\", \"Topic3\", \"Topic3\", \"Topic3\", \"Topic3\", \"Topic3\", \"Topic3\", \"Topic3\", \"Topic3\", \"Topic3\", \"Topic3\", \"Topic3\", \"Topic3\", \"Topic3\", \"Topic3\"], \"logprob\": [30.0, 29.0, 28.0, 27.0, 26.0, 25.0, 24.0, 23.0, 22.0, 21.0, 20.0, 19.0, 18.0, 17.0, 16.0, 15.0, 14.0, 13.0, 12.0, 11.0, 10.0, 9.0, 8.0, 7.0, 6.0, 5.0, 4.0, 3.0, 2.0, 1.0, -5.3197, -5.343, -6.0985, -6.1677, -6.3631, -6.4777, -6.5272, -6.7874, -6.7874, -6.9682, -7.0084, -6.9311, -7.0512, -7.1906, -7.2406, -7.2928, -7.2942, -7.3495, -7.3495, -7.2951, -7.3498, -7.3498, -7.409, -7.3512, -7.3511, -7.4092, -7.3513, -7.3516, -7.4105, -7.4725, -6.4634, -5.0225, -7.3528, -6.6596, -6.198, -6.1682, -5.7471, -5.3329, -6.536, -5.3214, -6.0766, -5.9398, -6.2431, -5.624, -6.0977, -5.9821, -4.6703, -5.433, -3.7159, -5.3363, -5.1255, -5.3071, -5.6153, -4.9649, -5.6951, -3.9561, -4.5595, -5.3468, -5.0981, -4.1965, -5.3204, -5.9191, -5.3062, -5.4657, -5.4788, -5.3807, -5.3851, -5.7955, -5.2507, -6.7647, -6.8444, -6.976, -7.0242, -7.0757, -7.1283, -7.1847, -7.3082, -7.3097, -7.3096, -7.3755, -7.3756, -7.3769, -7.377, -7.4488, -7.5277, -7.5287, -7.6115, -7.6121, -7.6127, -7.6129, -7.614, -7.6138, -7.6138, -7.6148, -7.7055, -7.7057, -7.7057, -7.7062, -6.3724, -5.9541, -6.9775, -6.4807, -6.9092, -6.2465, -6.1302, -6.1803, -7.0373, -6.2195, -3.3384, -5.301, -4.9137, -5.4557, -5.7677, -5.5634, -4.5282, -3.6802, -5.8961, -6.506, -3.6549, -5.3284, -4.8442, -5.7083, -5.5537, -5.7328, -4.9788, -5.3768, -4.59, -5.6485, -5.7957, -5.0231, -5.2666, -5.3724, -5.3769, -5.074, -5.7458, -5.6624, -5.7917, -5.3462, -5.6606, -5.7722, -6.2684, -6.4147, -6.5871, -6.5905, -6.5921, -6.5933, -6.7984, -6.7984, -6.7986, -6.7991, -6.8, -6.8003, -6.8009, -6.8011, -6.8013, -6.8038, -6.8072, -7.0658, -7.0661, -7.0674, -7.0675, -7.0676, -7.0675, -7.0676, -7.0677, -7.069, -7.0691, -7.0691, -7.0706, -7.0708, -5.941, -6.613, -5.934, -6.6446, -6.0071, -6.7911, -6.4906, -5.9417, -6.6749, -6.7634, -6.8487, -6.1342, -6.6211, -6.2653, -6.3709, -5.998, -6.3862, -6.6369, -6.3368, -6.3991, -6.5438, -6.623, -6.5694, -6.7196, -6.7462, -6.6978], \"loglift\": [30.0, 29.0, 28.0, 27.0, 26.0, 25.0, 24.0, 23.0, 22.0, 21.0, 20.0, 19.0, 18.0, 17.0, 16.0, 15.0, 14.0, 13.0, 12.0, 11.0, 10.0, 9.0, 8.0, 7.0, 6.0, 5.0, 4.0, 3.0, 2.0, 1.0, 0.6486, 0.6484, 0.6448, 0.644, 0.6428, 0.6415, 0.6412, 0.6385, 0.6385, 0.6358, 0.6353, 0.6348, 0.6341, 0.6303, 0.6302, 0.6298, 0.6288, 0.6283, 0.6283, 0.6282, 0.6282, 0.628, 0.6272, 0.6272, 0.6271, 0.627, 0.6268, 0.6266, 0.626, 0.6256, 0.6215, 0.5924, 0.6252, 0.5884, 0.5634, 0.5603, 0.5222, 0.471, 0.5609, 0.4512, 0.5164, 0.4848, 0.5028, 0.3872, 0.4547, 0.4251, 0.2092, 0.3229, 0.0178, 0.2992, 0.254, 0.2861, 0.3502, 0.201, 0.3563, -0.0888, 0.0595, 0.2166, 0.0108, -0.4348, 0.0207, 0.3527, -0.1166, 0.004, -0.0044, -0.234, -0.4342, 0.0865, 0.8316, 0.8192, 0.8175, 0.8156, 0.8147, 0.8126, 0.8123, 0.811, 0.8077, 0.8067, 0.8066, 0.8064, 0.8063, 0.8054, 0.8048, 0.8039, 0.801, 0.7998, 0.7993, 0.7988, 0.7982, 0.7979, 0.7976, 0.7975, 0.7973, 0.7962, 0.7952, 0.795, 0.7947, 0.7942, 0.7642, 0.7422, 0.7683, 0.7299, 0.7516, 0.7049, 0.6796, 0.6831, 0.7533, 0.6812, 0.4234, 0.5736, 0.516, 0.5654, 0.5994, 0.5661, 0.4227, 0.187, 0.5517, 0.653, 0.0788, 0.4042, 0.3025, 0.4648, 0.4041, 0.4399, 0.2109, 0.3142, 0.029, 0.3622, 0.4047, 0.0858, 0.0744, 0.102, 0.0929, -0.1944, 0.296, 0.2148, 0.3172, -0.1802, -0.2811, -0.2088, 2.9851, 2.9724, 2.9537, 2.9484, 2.946, 2.9442, 2.9226, 2.9226, 2.9224, 2.9217, 2.9203, 2.9199, 2.9189, 2.9186, 2.9183, 2.9144, 2.9094, 2.8758, 2.8753, 2.8734, 2.8733, 2.8732, 2.8731, 2.8731, 2.873, 2.871, 2.8708, 2.8708, 2.8687, 2.8684, 2.4362, 2.6775, 2.3642, 2.6376, 2.196, 2.6568, 2.2286, 1.5912, 2.4038, 2.47, 2.5722, 1.4421, 2.1776, 1.5457, 1.7008, 0.9535, 1.6264, 2.0371, 0.0704, 0.0709, 0.6292, 1.3027, -0.518, 1.5073, 1.8122, 0.575]}, \"token.table\": {\"Topic\": [1, 2, 1, 2, 1, 2, 1, 2, 3, 3, 3, 2, 1, 2, 3, 3, 1, 2, 2, 1, 2, 3, 1, 1, 2, 1, 2, 1, 2, 3, 1, 2, 2, 1, 2, 1, 2, 1, 1, 2, 3, 2, 2, 1, 2, 3, 1, 2, 1, 3, 2, 3, 1, 3, 2, 1, 3, 2, 2, 1, 2, 3, 1, 2, 1, 2, 3, 1, 3, 1, 2, 2, 1, 2, 1, 2, 1, 1, 1, 2, 3, 1, 1, 2, 3, 2, 2, 1, 1, 1, 2, 1, 2, 2, 3, 1, 3, 1, 2, 1, 2, 1, 2, 1, 2, 1, 1, 2, 3, 1, 2, 1, 1, 2, 1, 2, 2, 3, 3, 1, 2, 3, 1, 1, 3, 1, 2, 1, 3, 1, 2, 2, 1, 2, 2, 1, 1, 3, 1, 3, 1, 2, 3, 2, 3, 1, 3, 1, 3, 2, 1, 2, 3, 2, 1, 2, 1, 2, 1, 2, 1, 2, 1, 2, 1, 2, 1, 2, 3, 3, 1, 2, 3, 3, 1, 2, 1, 2, 1, 2, 1, 2, 1, 1, 2, 3, 1, 2, 3, 1, 2, 1, 2, 1, 1, 2, 2, 1, 2, 3, 3, 1, 1, 2, 3, 1, 1, 2, 1, 2, 1, 2, 1, 2, 3, 3, 3, 3, 3, 1, 1, 1, 2, 2, 1, 2, 3, 1, 1, 3, 2, 3, 1, 2, 2, 3, 3, 2, 2, 1, 2, 1, 2, 1, 2, 2, 1, 2, 3, 3, 1, 2, 1, 2, 1, 2, 1, 2, 1, 2, 1, 2, 3, 3, 2, 1, 3, 1, 1, 1, 2, 3, 1, 2, 1, 2, 2, 1], \"Freq\": [0.9226788742786168, 0.09045871316457028, 0.9916190994814035, 0.9538303920994863, 0.8550532651923608, 0.14250887753206012, 0.9418463562919754, 0.058865397268248465, 0.6980443845275085, 0.870267010456216, 0.8695915136635174, 1.00012052834999, 0.769032765754538, 0.23070982972636142, 0.8727269763003079, 0.8688443206534772, 0.4633064317970438, 0.5380332756352766, 0.9270859646046464, 0.23300448905681018, 0.7594220384073813, 0.8743458238090669, 0.996768897863733, 0.9109368280583011, 0.07591140233819176, 0.34828938964264217, 0.6479802598002645, 0.3213616509393263, 0.6728509566542145, 0.697986310361296, 0.34922101987387105, 0.6467055923590205, 0.9739343018220656, 0.8220131630896089, 0.1761456778049162, 0.14024198547066916, 0.8614864821769677, 0.9845011449764117, 0.9641202444742754, 0.9794426204455615, 0.8714213758299298, 0.9734595914868742, 0.9416343060674207, 0.5707142422883201, 0.4280356817162401, 0.8687835899019405, 0.08505353616873804, 0.9072377191332057, 0.9751426504640021, 0.025003657704205182, 0.9420070308802947, 0.6971186210443595, 0.45516893832384947, 0.5462027259886193, 0.9539845660591219, 0.6119236064147112, 0.38245225400919447, 0.994680253947659, 0.981764694928426, 0.19566195411265386, 0.5869858623379616, 0.23479434493518464, 0.6723379850178103, 0.3270833440627185, 0.7428835314394729, 0.2550197197478788, 0.8695128927387457, 0.42864595211290446, 0.42864595211290446, 0.6497477895009492, 0.3494441893114349, 0.9417654969446985, 0.6420570071131867, 0.3582292314365419, 0.31141697712595506, 0.6931539168287387, 0.9773064548011423, 0.9784802693794754, 0.9832108759418621, 0.9565123874428895, 0.697474893597694, 0.9893341569048729, 0.12644853850635582, 0.632242692531779, 0.25289707701271164, 0.9267508662973882, 0.9814053344729059, 0.9826726157120123, 0.9713457502220085, 0.35100494796173504, 0.650391521223215, 0.9427481281803664, 0.057484641962217455, 0.2655706060626892, 0.5311412121253783, 0.8898914925460161, 0.08898914925460161, 0.9709881355439451, 0.9415286540297494, 0.5220648050113844, 0.47731639315326574, 0.8210780091219523, 0.1817139856253501, 0.41405080224485574, 0.581433041450223, 0.9875596100314138, 0.6335752871320298, 0.30170251768191897, 0.0905107553045757, 0.9103704180381783, 0.08753561711905561, 0.9771768120722284, 0.33700538328909424, 0.6622966757151986, 0.2308183029970622, 0.7597769140319964, 0.7833209217633615, 0.23499627652900845, 0.8682120655275142, 0.13293188917494456, 0.8545621446960721, 0.8694913072661631, 0.9773204511031809, 0.5047366389532547, 0.5047366389532547, 0.5333269341663981, 0.46775395045741475, 1.0026146943956242, 0.8695287007138277, 0.8526044084934655, 0.15501898336244826, 0.9735392634883018, 0.7041693757143436, 0.29340390654764315, 0.9999251680198854, 0.966386098829354, 0.9823413542033842, 0.8701165753171316, 0.36718793960967216, 0.5507819094145082, 0.5677992897921559, 0.3785328598614372, 0.054076122837348174, 0.5126328483345366, 0.38447463625090245, 0.5550676084345759, 0.41630070632593197, 0.22689658459508696, 0.6806897537852609, 0.9819702667104399, 0.9775082599915591, 0.9270020886250667, 0.6970039432022836, 0.9414498267828123, 0.462168339586583, 0.5373176630965965, 0.2073493779409713, 0.7928064450684197, 0.5521404325164231, 0.4459595801094186, 0.14557365157856947, 0.8526456735316212, 0.05265736854279117, 0.9215039494988455, 0.530074507744642, 0.4696197291754184, 0.709923969813551, 0.19113337648826373, 0.08191430420925588, 0.874664498360021, 0.28980888003716565, 0.5216559840668982, 0.1738853280222994, 0.8694732360436529, 0.048418019830922907, 0.9199423767875352, 0.0847592740972221, 0.9154001602499987, 0.7214582921602879, 0.27799310340121186, 0.40318705612354444, 0.5954762675055425, 0.9769785746302827, 0.7998345214785407, 0.1523494326625792, 0.05078314422085973, 0.9772386736840383, 0.6547504397288916, 0.3273752198644458, 0.2512055990952778, 0.7536167972858334, 0.05063352603125183, 0.9114034685625331, 0.9769516116883951, 0.9845011449764117, 0.9414306224325084, 0.9645545060020764, 0.4051140445105512, 0.593539181492203, 0.6973811177630399, 0.6949173590732488, 0.9986103976478157, 0.8737174767890924, 0.12165686385670907, 0.8688756936461689, 1.0055148045277724, 0.4766283777589965, 0.5226891033407483, 0.41393886619670656, 0.5867133494788102, 0.742800015462999, 0.2612044010419337, 0.49039562544048676, 0.3269304169603245, 0.2043315106002028, 0.6970697008985353, 0.6980443845275085, 0.6960625604407336, 0.6978149148910191, 0.982922168358479, 0.9706265343763052, 0.6384725127863042, 0.3632688434818627, 1.0050337169816697, 0.6201632069594637, 0.2067210689864879, 0.2067210689864879, 0.9934324033974034, 0.6124950341331679, 0.36749702047990074, 0.9416058433432383, 0.999676854129234, 0.23106112627784373, 0.7677192260199324, 0.22504276648821914, 0.6751282994646575, 0.8681530758136231, 0.9735846889365356, 0.9629637950852716, 0.5268174826642147, 0.4713630108048237, 0.33734260111734604, 0.6628486197393466, 0.2722713339249514, 0.7260568904665371, 0.9267600403980809, 0.9710367057025614, 0.8751637244688146, 0.10939546555860183, 0.869425777001555, 0.37575946967215507, 0.6234191201378936, 0.5195145796854188, 0.47955191970961736, 0.16154677137687334, 0.8346583187805122, 0.6919017860441837, 0.3037617597267148, 0.8714017785308198, 0.12230200400432559, 0.2683013701353663, 0.469527397736891, 0.2683013701353663, 0.8719574572979345, 0.9422167719270951, 0.25852044031417293, 0.5170408806283459, 0.995006304558956, 0.9770265947748422, 0.7471428335756659, 0.23125849610675372, 0.026683672627702354, 0.08894389229488488, 0.9339108690962913, 0.8333078948799064, 0.16666157897598127, 0.988319142032088, 0.9773500498675941], \"Term\": [\"00\", \"00\", \"12\", \"2006\", \"30\", \"30\", \"advised\", \"advised\", \"agusti\", \"alexis\", \"amstel\", \"amsterdam\", \"asked\", \"asked\", \"attempts\", \"australia\", \"bad\", \"bad\", \"bali\", \"bathroom\", \"bathroom\", \"bay\", \"beach\", \"beautiful\", \"beautiful\", \"bed\", \"bed\", \"booked\", \"booked\", \"botel\", \"breakfast\", \"breakfast\", \"budget\", \"buffet\", \"buffet\", \"business\", \"business\", \"cana\", \"caribe\", \"carpet\", \"caruso\", \"central\", \"centre\", \"check\", \"check\", \"clinic\", \"close\", \"close\", \"club\", \"club\", \"comments\", \"compensate\", \"conference\", \"conference\", \"convenient\", \"cool\", \"cool\", \"cruise\", \"customers\", \"dark\", \"dark\", \"dark\", \"day\", \"day\", \"days\", \"days\", \"deceptive\", \"depressing\", \"depressing\", \"desk\", \"desk\", \"despite\", \"did\", \"did\", \"dirty\", \"dirty\", \"doing\", \"drink\", \"drinks\", \"dump\", \"east\", \"eat\", \"elevator\", \"elevator\", \"elevator\", \"european\", \"fairly\", \"fix\", \"fixed\", \"floor\", \"floor\", \"food\", \"food\", \"freezing\", \"freezing\", \"fruit\", \"fruit\", \"fun\", \"generally\", \"good\", \"good\", \"got\", \"got\", \"great\", \"great\", \"group\", \"hard\", \"hard\", \"hard\", \"home\", \"home\", \"hospital\", \"hotel\", \"hotel\", \"hotels\", \"hotels\", \"hotwire\", \"hotwire\", \"humidity\", \"internet\", \"internet\", \"interrupted\", \"issues\", \"juan\", \"juan\", \"just\", \"just\", \"lady\", \"landing\", \"left\", \"left\", \"level\", \"like\", \"like\", \"location\", \"lunch\", \"maid\", \"maintance\", \"maintenance\", \"maintenance\", \"make\", \"make\", \"make\", \"makes\", \"makes\", \"market\", \"market\", \"miss\", \"miss\", \"nearby\", \"needless\", \"neighborhood\", \"neighbors\", \"nicer\", \"night\", \"night\", \"nights\", \"nights\", \"no\", \"no\", \"noise\", \"noise\", \"noisy\", \"noisy\", \"not\", \"not\", \"order\", \"order\", \"order\", \"overlooked\", \"overpriced\", \"overpriced\", \"overpriced\", \"parasite\", \"park\", \"park\", \"parking\", \"parking\", \"people\", \"people\", \"place\", \"place\", \"pm\", \"pool\", \"pool\", \"pool\", \"pools\", \"pressure\", \"pressure\", \"price\", \"price\", \"prices\", \"prices\", \"princess\", \"punta\", \"ramada\", \"rates\", \"really\", \"really\", \"relatives\", \"renovations\", \"resort\", \"restaurant\", \"restaurant\", \"rincon\", \"riu\", \"room\", \"room\", \"rooms\", \"rooms\", \"said\", \"said\", \"san\", \"san\", \"san\", \"sandwich\", \"sant\", \"seconds\", \"seminar\", \"send\", \"served\", \"service\", \"service\", \"shopping\", \"shuttle\", \"shuttle\", \"shuttle\", \"sick\", \"simple\", \"simple\", \"singapore\", \"sleepless\", \"small\", \"small\", \"soda\", \"soda\", \"soho\", \"space\", \"square\", \"staff\", \"staff\", \"stay\", \"stay\", \"stayed\", \"stayed\", \"steps\", \"stolen\", \"street\", \"street\", \"symptons\", \"the\", \"the\", \"time\", \"time\", \"tiny\", \"tiny\", \"told\", \"told\", \"towels\", \"towels\", \"true\", \"true\", \"true\", \"turkey\", \"unpleasant\", \"upstairs\", \"upstairs\", \"vacation\", \"waited\", \"water\", \"water\", \"water\", \"website\", \"website\", \"went\", \"went\", \"windows\", \"word\"]}, \"R\": 30, \"lambda.step\": 0.01, \"plot.opts\": {\"xlab\": \"PC1\", \"ylab\": \"PC2\"}, \"topic.order\": [3, 1, 2]};\n",
       "\n",
       "function LDAvis_load_lib(url, callback){\n",
       "  var s = document.createElement('script');\n",
       "  s.src = url;\n",
       "  s.async = true;\n",
       "  s.onreadystatechange = s.onload = callback;\n",
       "  s.onerror = function(){console.warn(\"failed to load library \" + url);};\n",
       "  document.getElementsByTagName(\"head\")[0].appendChild(s);\n",
       "}\n",
       "\n",
       "if(typeof(LDAvis) !== \"undefined\"){\n",
       "   // already loaded: just create the visualization\n",
       "   !function(LDAvis){\n",
       "       new LDAvis(\"#\" + \"ldavis_el1227622454822193288249013086\", ldavis_el1227622454822193288249013086_data);\n",
       "   }(LDAvis);\n",
       "}else if(typeof define === \"function\" && define.amd){\n",
       "   // require.js is available: use it to load d3/LDAvis\n",
       "   require.config({paths: {d3: \"https://d3js.org/d3.v5\"}});\n",
       "   require([\"d3\"], function(d3){\n",
       "      window.d3 = d3;\n",
       "      LDAvis_load_lib(\"https://cdn.jsdelivr.net/gh/bmabey/pyLDAvis@3.4.0/pyLDAvis/js/ldavis.v3.0.0.js\", function(){\n",
       "        new LDAvis(\"#\" + \"ldavis_el1227622454822193288249013086\", ldavis_el1227622454822193288249013086_data);\n",
       "      });\n",
       "    });\n",
       "}else{\n",
       "    // require.js not available: dynamically load d3 & LDAvis\n",
       "    LDAvis_load_lib(\"https://d3js.org/d3.v5.js\", function(){\n",
       "         LDAvis_load_lib(\"https://cdn.jsdelivr.net/gh/bmabey/pyLDAvis@3.4.0/pyLDAvis/js/ldavis.v3.0.0.js\", function(){\n",
       "                 new LDAvis(\"#\" + \"ldavis_el1227622454822193288249013086\", ldavis_el1227622454822193288249013086_data);\n",
       "            })\n",
       "         });\n",
       "}\n",
       "</script>"
      ],
      "text/plain": [
       "PreparedData(topic_coordinates=               x           y  topics  cluster       Freq\n",
       "topic                                                   \n",
       "2     -36.029900 -442.021973       1        1  52.115465\n",
       "0      87.619164 -425.532440       2        1  43.378397\n",
       "1      11.302910 -326.396118       3        1   4.506138, topic_info=            Term         Freq        Total Category  logprob  loglift\n",
       "3326       hotel  1109.000000  1109.000000  Default  30.0000  30.0000\n",
       "3916    location   109.000000   109.000000  Default  29.0000  29.0000\n",
       "5500      resort   122.000000   122.000000  Default  28.0000  28.0000\n",
       "809        beach   119.000000   119.000000  Default  27.0000  27.0000\n",
       "2781        food   173.000000   173.000000  Default  26.0000  26.0000\n",
       "...          ...          ...          ...      ...      ...      ...\n",
       "4699  overpriced     2.860289    17.252749   Topic3  -6.6230   1.3027\n",
       "7242       water     3.018048   112.428302   Topic3  -6.5694  -0.5180\n",
       "3333     hotwire     2.596920    12.766160   Topic3  -6.7196   1.5073\n",
       "5074    pressure     2.528758     9.163797   Topic3  -6.7462   1.8122\n",
       "3163        hard     2.654369    33.145232   Topic3  -6.6978   0.5750\n",
       "\n",
       "[226 rows x 6 columns], token_table=      Topic      Freq     Term\n",
       "term                          \n",
       "0         1  0.922679       00\n",
       "0         2  0.090459       00\n",
       "32        1  0.991619       12\n",
       "81        2  0.953830     2006\n",
       "125       1  0.855053       30\n",
       "...     ...       ...      ...\n",
       "7266      2  0.933911  website\n",
       "7287      1  0.833308     went\n",
       "7287      2  0.166662     went\n",
       "7332      2  0.988319  windows\n",
       "7377      1  0.977350     word\n",
       "\n",
       "[278 rows x 3 columns], R=30, lambda_step=0.01, plot_opts={'xlab': 'PC1', 'ylab': 'PC2'}, topic_order=[3, 1, 2])"
      ]
     },
     "execution_count": 46,
     "metadata": {},
     "output_type": "execute_result"
    }
   ],
   "source": [
    "# negative corpus, assume that there are 3 topics\n",
    "lda_negative_corpus3 = LatentDirichletAllocation(n_components=3, max_iter=500,\n",
    "                                                doc_topic_prior = 0.5,\n",
    "                                                topic_word_prior = 0.25).fit(bow_negative_corpus)\n",
    "\n",
    "no_top_words = 15\n",
    "display_topics(lda_negative_corpus3, bow_vectorizer.get_feature_names_out(), no_top_words)\n",
    "\n",
    "#run the visualization [mds is a function to use for visualizing the \"distance\" between topics]\n",
    "pyLDAvis.lda_model.prepare(lda_negative_corpus3, bow_negative_corpus, bow_vectorizer, mds='tsne')"
   ]
  },
  {
   "cell_type": "code",
   "execution_count": 47,
   "id": "58060b73",
   "metadata": {},
   "outputs": [
    {
     "name": "stdout",
     "output_type": "stream",
     "text": [
      "Coherence score for the model:  -4.1007\n",
      "Log-Likelihood (higher values are better):  -369698.991123524\n",
      "Perplexity (lower values are better):  2304.713264965402\n"
     ]
    }
   ],
   "source": [
    "#top 15 words for each topic (using the function defined in session prep)\n",
    "topic_topwords_3_negative = get_topic_words(vectorizer = bow_vectorizer, lda_model = lda_negative_corpus3, n_words=15)\n",
    "cm_3n = CoherenceModel(topics=topic_topwords_3_negative, \n",
    "                    corpus = news_corpus_bow , \n",
    "                    dictionary = news_dictionary, coherence='u_mass')\n",
    "print(\"Coherence score for the model: \", np.round(cm_3n.get_coherence(), 4))  # get coherence value\n",
    "print(\"Log-Likelihood (higher values are better): \", lda_negative_corpus3.score(bow_negative_corpus))\n",
    "print(\"Perplexity (lower values are better): \", lda_negative_corpus3.perplexity(bow_negative_corpus))"
   ]
  }
 ],
 "metadata": {
  "kernelspec": {
   "display_name": "Python 3 (ipykernel)",
   "language": "python",
   "name": "python3"
  },
  "language_info": {
   "codemirror_mode": {
    "name": "ipython",
    "version": 3
   },
   "file_extension": ".py",
   "mimetype": "text/x-python",
   "name": "python",
   "nbconvert_exporter": "python",
   "pygments_lexer": "ipython3",
   "version": "3.9.15"
  }
 },
 "nbformat": 4,
 "nbformat_minor": 5
}
